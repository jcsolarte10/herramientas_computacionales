{
 "cells": [
  {
   "cell_type": "markdown",
   "metadata": {
    "collapsed": true
   },
   "source": [
    "Saco promedio diario mensual (promedio de cada dia cada mes)\n",
    "\n",
    "Hago un  ranking de las radiaciones. Para saca ENFICC\n",
    "\n",
    "\n",
    "3.Tengo dos series de datos y sale 1.\n",
    "\n",
    "\n",
    "El calculo de la efectividad del método sería ideal hacerlo para diferenmtes años y difrentes periodos (3, 6 y 12 meses)\n"
   ]
  },
  {
   "cell_type": "code",
   "execution_count": 3,
   "metadata": {
    "collapsed": true
   },
   "outputs": [],
   "source": [
    "import os\n",
    "import pandas as pd\n",
    "import statistics as st\n",
    "import matplotlib.pyplot as plt\n",
    "import scipy.stats as scp\n",
    "import numpy as np"
   ]
  },
  {
   "cell_type": "code",
   "execution_count": 41,
   "metadata": {
    "collapsed": true
   },
   "outputs": [],
   "source": [
    "## Funciones\n",
    "\n",
    "def ghi_mensual(serie_horaria):\n",
    "    agnos = sorted(serie_horaria['AÑO'].unique())\n",
    "    ghi_df = pd.DataFrame(columns=[\"AÑO\", \"MES\", \"DIAS\", \"GHImes\"])\n",
    "    for agno in agnos:\n",
    "        for mes in range(1,13):\n",
    "            nombre_energia = list(serie_horaria)[-1]\n",
    "            dias = sorted(serie_horaria[(serie_horaria['AÑO'] == agno) &\n",
    "                        (serie_horaria['MES'] == mes)][\"DIA\"].unique())\n",
    "            ghi_mes = serie_horaria.loc[((serie_horaria[\"AÑO\"] == agno)\n",
    "                            & (serie_horaria[\"MES\"] == mes)),\n",
    "                                        nombre_energia].sum()/1000\n",
    "            ghi_dict = {\"AÑO\":agno, \"MES\":mes, \"DIAS\":dias[-1],\n",
    "                        \"GHImes\":ghi_mes}\n",
    "            ghi_df = ghi_df.append(ghi_dict, ignore_index=True)\n",
    "    return ghi_df\n",
    "\n",
    "def ghi_dia(serie_ghi_mensual):\n",
    "    agnos = sorted(serie_ghi_mensual['AÑO'].unique())\n",
    "    ghi_df = pd.DataFrame(columns=[\"AÑO\", \"MES\", \"GHIdiario\"])\n",
    "    for agno in agnos:\n",
    "        for mes in range(1,13):\n",
    "            dias = serie_ghi_mensual.loc[((serie_ghi_mensual[\"AÑO\"] == agno)\n",
    "                            & (serie_ghi_mensual[\"MES\"] == mes))\n",
    "                                         ,\"DIAS\"].item()\n",
    "            ghi_diario = serie_ghi_mensual.loc[(\n",
    "                (serie_ghi_mensual[\"AÑO\"] == agno)\n",
    "                            & (serie_ghi_mensual[\"MES\"] == mes)),\n",
    "                \"GHImes\"].item()/dias\n",
    "            ghi_dict = {\"AÑO\":agno, \"MES\":mes, \"GHIdiario\":ghi_diario}\n",
    "            ghi_df = ghi_df.append(ghi_dict, ignore_index=True)\n",
    "    return ghi_df\n",
    "\n",
    "def extraer_datos(fuente, ciudad,agno_in):\n",
    "    base_dir = os.path.join( '.',os.path.join( '02_taller01','data')) \n",
    "    output_dir = os.path.join( '.','output')\n",
    "    serie_csv = os.path.join(base_dir,ciudad,fuente+'.csv')\n",
    "    serie_pd = pd.read_csv(serie_csv, sep = ';',\n",
    "                encoding='latin-1')\n",
    "    serie_pd = serie_pd.sort_values(['AÑO','MES','DIA','HORA'])\n",
    "    \n",
    "    if agno_in != 0:\n",
    "        serie_pd =  serie_pd[(serie_pd.AÑO)>=agno_in]\n",
    "    \n",
    "    return serie_pd\n",
    "\n",
    "def enficc(datos):\n",
    "    ghi_mensual_loc = ghi_mensual(datos)\n",
    "    ghi_diario_loc = ghi_dia(ghi_mensual_loc)\n",
    "    enficc = ghi_diario_loc.quantile(q=0.1, \n",
    "                                 numeric_only=True)[\"GHIdiario\"]\n",
    "    return enficc\n",
    "    \n",
    "def ajustar_datos(corta, NREL, nrel_truncada):\n",
    "    \"\"\"Corta en array y larga en df\"\"\"\n",
    "    \n",
    "    larga= NREL.NREL\n",
    "    sigma_corta = st.stdev(corta)\n",
    "    sigma_larga = st.stdev(nrel_truncada)\n",
    "    prom_corta = st.mean(corta)\n",
    "    prom_larga = st.mean(nrel_truncada)\n",
    "    ajustada = (prom_corta-(sigma_corta/sigma_larga)*prom_larga)+(sigma_corta/sigma_larga)*larga\n",
    "    d = {\"AÑO\":NREL.AÑO, \"MES\":NREL.MES, \"DIA\":NREL.DIA, \"HORA\":NREL.HORA,\"IDEAM\":ajustada}\n",
    "    datos = pd.DataFrame(data=d)\n",
    "    datos=datos[[\"AÑO\",\"MES\", \"DIA\", \"HORA\",\"IDEAM\"]]\n",
    "    \n",
    "    \n",
    "    \n",
    "    return datos\n",
    "\n",
    "def grafica_norma(ideam,nrel,ajst,nombre):\n",
    "    \"\"\"Entran los df en resolución horaria de las radiciaciones para IDEAM, NREL y Ajustada, respectivamente \"\"\"\n",
    "    \n",
    "    output_dir = os.path.join( '.')\n",
    "    \n",
    "    y_IDEAM= sorted(ghi_dia(ghi_mensual(ideam)).GHIdiario)\n",
    "    y_min = y_IDEAM[0]\n",
    "    y_IDEAM = y_IDEAM/y_min\n",
    "    y_NREL= sorted(ghi_dia(ghi_mensual(nrel)).GHIdiario)/y_min\n",
    "    y_AJST= sorted(ghi_dia(ghi_mensual(ajst)).GHIdiario)/y_min\n",
    "    x_1 = range(len(y_IDEAM))\n",
    "    x_2 = range(len(y_NREL))\n",
    "    plt.xlabel(\"Datos\")\n",
    "    plt.ylabel(\"Energía/Energía Base IDEAM\")\n",
    "    plt.plot(x_1,y_IDEAM,label = \"IDEAM\")\n",
    "    plt.plot(x_2,y_NREL, label = \"NREL\")\n",
    "    plt.plot(x_2,y_AJST, label=\"Ajustada\")\n",
    "    plt.legend(loc='upper left')\n",
    "    plt.savefig(os.path.join(output_dir,nombre+'.png'), dpi=600)\n",
    "    plt.show()\n",
    "    \n",
    "def error_enficc(ref,comp):\n",
    "    e_1 = enficc(ref)\n",
    "    e_2 = enficc(comp)\n",
    "    error = abs(e_1-e_2)/e_1 *100\n",
    "    \n",
    "    return error\n",
    "\n",
    "def rmsen(ref,comp):\n",
    "    r = np.array(ref)\n",
    "    c = np.array(comp)\n",
    "    rmsd = np.sqrt(sum((c-r)**2)/len(r))\n",
    "    ans = rmsd/(max(c)-min(c))\n",
    "    \n",
    "    return ans\n",
    "\n",
    "def mbe(ref,comp):\n",
    "    r = np.array(ref)\n",
    "    c = np.array(comp)\n",
    "    \n",
    "    ans= sum(r-c)/sum(c)\n",
    "    \n",
    "    return ans\n",
    "    \n",
    "    \n",
    "def errores(ref,comp):\n",
    "    \"\"\"El primero es el valor de referencia y el segundo el que se quiere evaluar\"\"\"\n",
    "    \n",
    "    ref_GHI= ghi_dia(ghi_mensual(ref)).sort_values(['AÑO','MES']).GHIdiario\n",
    "    comp_GHI= ghi_dia(ghi_mensual(comp)).sort_values(['AÑO','MES']).GHIdiario\n",
    "    error_1 = error_enficc(ref,comp)\n",
    "    error_2 = rmsen(ref_GHI,comp_GHI)\n",
    "    error_3 = mbe(ref_GHI,comp_GHI)\n",
    "    ks_pvalue = scp.ks_2samp(ref_GHI,comp_GHI).pvalue\n",
    "    \n",
    "    print('\\paragraph {El error en el calculo de la ENFICC es: ' , error_1, \"\\%}\")\n",
    "    print('\\paragraph {El error NRMSE es: ' , error_2,\"}\")\n",
    "    print('\\paragraph {El error MBE es: ' , error_3,\"}\")\n",
    "    print(\"\\paragraph {El p-value de KS para las 2 series de datos es: \",ks_pvalue,\"}\")\n",
    "    \n",
    "def recortar(datos,agno_in,agno_fin,mes_in,mes_fin):\n",
    "    if agno_in<min(datos.AÑO):\n",
    "        print(\"Elige un año inicial mayor\")\n",
    "    \n",
    "    if agno_fin>max(datos.AÑO):\n",
    "        print(\"Elige un año final menor\")\n",
    "        \n",
    "    if agno_fin<agno_in or mes_fin<mes_in:\n",
    "        print(\"La escogencia de años o meses es errada\")\n",
    "    \n",
    "    else:\n",
    "        if agno_in == agno_fin:\n",
    "            ans = datos[(datos.AÑO == agno_in) & (datos.MES >= mes_in) & (datos.MES <= mes_fin)]\n",
    "            return ans\n",
    "    \n",
    "        else:\n",
    "            ans = datos[(datos.AÑO >= agno_in) & (datos.AÑO <= agno_fin)]\n",
    "            return ans"
   ]
  },
  {
   "cell_type": "code",
   "execution_count": 42,
   "metadata": {
    "collapsed": true
   },
   "outputs": [],
   "source": [
    "dic = [\"Cali\",\"Barranquilla\",\"Carmendebolivar\",\"Medellin\",\"SantaMarta\",\"Sucre\",\"Uribia\", \"Valledupar\"]\n",
    "rdom = np.random.randint(0,high= len(dic)-1)\n",
    "ciudad = dic[-1]\n",
    "IDEAM_ciudad = extraer_datos('IDEAM',ciudad,0)\n",
    "NREL_ciudad = extraer_datos('NREL',ciudad,min(IDEAM_ciudad.AÑO))"
   ]
  },
  {
   "cell_type": "code",
   "execution_count": 43,
   "metadata": {
    "scrolled": true
   },
   "outputs": [],
   "source": [
    "IDEAM = recortar(IDEAM_ciudad,2010,2010,1,12)\n",
    "IDEAM = IDEAM.IDEAM\n",
    "NREL = NREL_ciudad\n",
    "ajst = ajustar_datos(IDEAM,NREL,recortar(NREL,2010,2010,1,12).NREL)"
   ]
  },
  {
   "cell_type": "code",
   "execution_count": 44,
   "metadata": {},
   "outputs": [
    {
     "data": {
      "image/png": "[encoded data removed]",
      "text/plain": [
       "<matplotlib.figure.Figure at 0x7f3e58165b70>"
      ]
     },
     "metadata": {},
     "output_type": "display_data"
    }
   ],
   "source": [
    "grafica_norma(IDEAM_ciudad,NREL_ciudad,ajst,ciudad)"
   ]
  },
  {
   "cell_type": "code",
   "execution_count": 39,
   "metadata": {},
   "outputs": [
    {
     "name": "stdout",
     "output_type": "stream",
     "text": [
      "Original\n",
      "\\paragraph {El error en el calculo de la ENFICC es:  14.7106265856 \\%}\n",
      "\\paragraph {El error NRMSE es:  0.361863879712 }\n",
      "\\paragraph {El error MBE es:  -0.103215126141 }\n",
      "\\paragraph {El p-value de KS para las 2 series de datos es:  7.65209046374e-20 }\n",
      "Ajustada\n",
      "\\paragraph {El error en el calculo de la ENFICC es:  4.73576319011 \\%}\n",
      "\\paragraph {El error NRMSE es:  0.301003248202 }\n",
      "\\paragraph {El error MBE es:  0.0751731222951 }\n",
      "\\paragraph {El p-value de KS para las 2 series de datos es:  2.37310038076e-08 }\n"
     ]
    }
   ],
   "source": [
    "print(\"Original\")\n",
    "errores(IDEAM_ciudad,NREL_ciudad)\n",
    "print(\"Ajustada\")\n",
    "errores(IDEAM_ciudad,ajst)"
   ]
  },
  {
   "cell_type": "raw",
   "metadata": {},
   "source": [
    "### Cali\n",
    "\n",
    "Original \\newline\n",
    "El error en el calculo de la ENFICC es:  22.3593738102 %\n",
    "El error NRMSE es:  0.461503444136\n",
    "El error MBE es:  -0.161772459185\n",
    "El p-value de KS para las 2 series de datos es:  1.81891453746e-28\n",
    "\n",
    "Ajustada\n",
    "El error en el calculo de la ENFICC es:  1.9610072145 %\n",
    "El error NRMSE es:  0.193141230352\n",
    "El error MBE es:  0.0412136987893\n",
    "El p-value de KS para las 2 series de datos es:  0.000352974934776\n",
    "\n",
    "\n",
    "### Barranquilla\n",
    "Original\n",
    "El error en el calculo de la ENFICC es:  13.1028603224 %\n",
    "El error NRMSE es:  0.263515297779\n",
    "El error MBE es:  -0.0357639454867\n",
    "El p-value de KS para las 2 series de datos es:  0.00596686064723\n",
    "\n",
    "Ajustada\n",
    "El error en el calculo de la ENFICC es:  3.48692981097 %\n",
    "El error NRMSE es:  0.291215732245\n",
    "El error MBE es:  0.0508796884137\n",
    "El p-value de KS para las 2 series de datos es:  0.0180114868961\n"
   ]
  },
  {
   "cell_type": "code",
   "execution_count": 9,
   "metadata": {},
   "outputs": [
    {
     "data": {
      "text/plain": [
       "'Casamierda'"
      ]
     },
     "execution_count": 9,
     "metadata": {},
     "output_type": "execute_result"
    }
   ],
   "source": [
    "a=\"Casa\"\n",
    "a+ \"mierda\""
   ]
  },
  {
   "cell_type": "code",
   "execution_count": null,
   "metadata": {
    "collapsed": true
   },
   "outputs": [],
   "source": []
  }
 ],
 "metadata": {
  "kernelspec": {
   "display_name": "Python 3",
   "language": "python",
   "name": "python3"
  },
  "language_info": {
   "codemirror_mode": {
    "name": "ipython",
    "version": 3
   },
   "file_extension": ".py",
   "mimetype": "text/x-python",
   "name": "python",
   "nbconvert_exporter": "python",
   "pygments_lexer": "ipython3",
   "version": "3.6.3"
  }
 },
 "nbformat": 4,
 "nbformat_minor": 2
}
