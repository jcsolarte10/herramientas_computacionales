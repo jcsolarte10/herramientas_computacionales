{
 "cells": [
  {
   "cell_type": "code",
   "execution_count": null,
   "metadata": {},
   "outputs": [],
   "source": [
    "import random as rd\n",
    "import numpy as np\n",
    "a=0.0\n",
    "d=0.0\n",
    "for n in range(0,10**b):\n",
    "    x= rd.uniform(-1,1)\n",
    "    y = rd.uniform(-1,1)\n",
    "    temp = x**2 + y**2\n",
    "    if temp>0:\n",
    "            a = a+1\n",
    "        \n",
    "    d+=1\n",
    "    \n",
    "c= a/d\n",
    "\n",
    "print(c)\n",
    "    \n",
    "\n",
    "    "
   ]
  },
  {
   "cell_type": "code",
   "execution_count": null,
   "metadata": {},
   "outputs": [],
   "source": [
    "print(\"Fuck u\")"
   ]
  },
  {
   "cell_type": "code",
   "execution_count": null,
   "metadata": {},
   "outputs": [],
   "source": []
  }
 ],
 "metadata": {
  "kernelspec": {
   "display_name": "Python 3.6",
   "language": "python",
   "name": "python36"
  },
  "language_info": {
   "codemirror_mode": {
    "name": "ipython",
    "version": 3
   },
   "file_extension": ".py",
   "mimetype": "text/x-python",
   "name": "python",
   "nbconvert_exporter": "python",
   "pygments_lexer": "ipython3",
   "version": "3.6.3"
  }
 },
 "nbformat": 4,
 "nbformat_minor": 2
}
