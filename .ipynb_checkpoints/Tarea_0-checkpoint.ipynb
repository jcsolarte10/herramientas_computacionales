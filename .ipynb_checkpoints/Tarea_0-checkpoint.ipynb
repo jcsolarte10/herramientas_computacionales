{
 "cells": [
  {
   "cell_type": "markdown",
   "metadata": {},
   "source": [
    "# Tarea 0\n",
    "# Calculo estadistico de número Pi"
   ]
  },
  {
   "cell_type": "code",
   "execution_count": null,
   "metadata": {},
   "outputs": [
    {
     "name": "stdout",
     "output_type": "stream",
     "text": [
      "3.2 ; 0.0584073464102\n",
      "3.28 ; 0.13840734641\n",
      "3.096 ; -0.0455926535898\n",
      "3.1216 ; -0.0199926535898\n",
      "3.14472 ; 0.00312734641021\n",
      "3.13874 ; -0.00285265358979\n",
      "3.1406568 ; -0.000935853589793\n"
     ]
    }
   ],
   "source": [
    "import random as rd\n",
    "import numpy as np\n",
    "import matplotlib.pyplot as plt\n",
    "r=[]\n",
    "t=[]\n",
    "s=[]\n",
    "alpha= 9\n",
    "z=np.pi*np.ones(alpha-1)\n",
    "for b in range(1,alpha):\n",
    "    a=0.0\n",
    "    d=10**b\n",
    "    x=(2)*np.random.random_sample([1,d])-1\n",
    "    y=(2)*np.random.random_sample([1,d])-1\n",
    "    cont = [(x**2+y**2) <1]\n",
    "    a = np.sum(cont)\n",
    "    \n",
    "    c= a/d*4\n",
    "    error = c-np.pi\n",
    "    r.append(d)\n",
    "    t.append(c)\n",
    "    s.append(error)\n",
    "    \n",
    "    print(str(c) + \" ; \" + str(error)) \n",
    "\n",
    "plt.semilogx(r,t,r,z)\n",
    "plt.grid(True)\n",
    "plt.title(\"Valor estadistico de Pi vs # de muestras\")\n",
    "plt.xlabel(\"# de muestras\")\n",
    "plt.ylabel(\"Valor estadistico de Pi\")\n",
    "plt.show()"
   ]
  },
  {
   "cell_type": "code",
   "execution_count": 11,
   "metadata": {},
   "outputs": [
    {
     "data": {
      "text/plain": [
       "array([[-0.30579367, -0.6233722 ,  0.73746179, ..., -0.69339697,\n",
       "        -0.00373119,  0.83272602],\n",
       "       [-0.72823112,  0.10042458, -0.63519662, ..., -0.42709349,\n",
       "        -0.77465785, -0.79189925]])"
      ]
     },
     "execution_count": 11,
     "metadata": {},
     "output_type": "execute_result"
    }
   ],
   "source": [
    "x=(2)*np.random.random_sample([1,1000])-1\n",
    "y=(2)*np.random.random_sample([1,1000])-1"
   ]
  },
  {
   "cell_type": "code",
   "execution_count": null,
   "metadata": {},
   "outputs": [],
   "source": []
  }
 ],
 "metadata": {
  "kernelspec": {
   "display_name": "Python 3.6",
   "language": "python",
   "name": "python36"
  },
  "language_info": {
   "codemirror_mode": {
    "name": "ipython",
    "version": 3
   },
   "file_extension": ".py",
   "mimetype": "text/x-python",
   "name": "python",
   "nbconvert_exporter": "python",
   "pygments_lexer": "ipython3",
   "version": "3.6.3"
  }
 },
 "nbformat": 4,
 "nbformat_minor": 2
}
