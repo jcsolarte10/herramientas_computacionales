{
 "cells": [
  {
   "cell_type": "markdown",
   "metadata": {
    "collapsed": true
   },
   "source": [
    "Saco promedio diario mensual (promedio de cada dia cada mes)\n",
    "\n",
    "Hago un  ranking de las radiaciones. Para saca ENFICC\n",
    "\n",
    "\n",
    "3.Tengo dos series de datos y sale 1.\n",
    "\n",
    "\n",
    "El calculo de la efectividad del método sería ideal hacerlo para diferenmtes años y difrentes periodos (3, 6 y 12 meses)\n"
   ]
  },
  {
   "cell_type": "code",
   "execution_count": 2,
   "metadata": {
    "collapsed": true
   },
   "outputs": [],
   "source": [
    "import os\n",
    "import pandas as pd\n",
    "import statistics as st\n",
    "import matplotlib.pyplot as plt"
   ]
  },
  {
   "cell_type": "code",
   "execution_count": 3,
   "metadata": {
    "collapsed": true
   },
   "outputs": [],
   "source": [
    "## Funciones\n",
    "\n",
    "def ghi_mensual(serie_horaria):\n",
    "    agnos = sorted(serie_horaria['AÑO'].unique())\n",
    "    ghi_df = pd.DataFrame(columns=[\"AÑO\", \"MES\", \"DIAS\", \"GHImes\"])\n",
    "    for agno in agnos:\n",
    "        for mes in range(1,13):\n",
    "            nombre_energia = list(serie_horaria)[-1]\n",
    "            dias = sorted(serie_horaria[(serie_horaria['AÑO'] == agno) &\n",
    "                        (serie_horaria['MES'] == mes)][\"DIA\"].unique())\n",
    "            ghi_mes = serie_horaria.loc[((serie_horaria[\"AÑO\"] == agno)\n",
    "                            & (serie_horaria[\"MES\"] == mes)),\n",
    "                                        nombre_energia].sum()/1000\n",
    "            ghi_dict = {\"AÑO\":agno, \"MES\":mes, \"DIAS\":dias[-1],\n",
    "                        \"GHImes\":ghi_mes}\n",
    "            ghi_df = ghi_df.append(ghi_dict, ignore_index=True)\n",
    "    return ghi_df\n",
    "\n",
    "def ghi_dia(serie_ghi_mensual):\n",
    "    agnos = sorted(serie_ghi_mensual['AÑO'].unique())\n",
    "    ghi_df = pd.DataFrame(columns=[\"AÑO\", \"MES\", \"GHIdiario\"])\n",
    "    for agno in agnos:\n",
    "        for mes in range(1,13):\n",
    "            dias = serie_ghi_mensual.loc[((serie_ghi_mensual[\"AÑO\"] == agno)\n",
    "                            & (serie_ghi_mensual[\"MES\"] == mes))\n",
    "                                         ,\"DIAS\"].item()\n",
    "            ghi_diario = serie_ghi_mensual.loc[(\n",
    "                (serie_ghi_mensual[\"AÑO\"] == agno)\n",
    "                            & (serie_ghi_mensual[\"MES\"] == mes)),\n",
    "                \"GHImes\"].item()/dias\n",
    "            ghi_dict = {\"AÑO\":agno, \"MES\":mes, \"GHIdiario\":ghi_diario}\n",
    "            ghi_df = ghi_df.append(ghi_dict, ignore_index=True)\n",
    "    return ghi_df\n",
    "\n",
    "def extraer_datos(fuente, ciudad):\n",
    "    base_dir = os.path.join( '.',os.path.join( '02_taller01','data')) \n",
    "    output_dir = os.path.join( '.','output')\n",
    "    serie_csv = os.path.join(base_dir,ciudad,fuente+'.csv')\n",
    "    serie_pd = pd.read_csv(serie_csv, sep = ';',\n",
    "                encoding='latin-1')\n",
    "    return serie_pd\n",
    "\n",
    "def enficc(datos):\n",
    "    ghi_mensual_loc = ghi_mensual(datos)\n",
    "    ghi_diario_loc = ghi_dia(ghi_mensual_loc)\n",
    "    enficc = ghi_diario_loc.quantile(q=0.1, \n",
    "                                 numeric_only=True)[\"GHIdiario\"]\n",
    "    return enficc\n",
    "    \n",
    "def ajustar_datos(corta, NREL):\n",
    "    \"\"\"Corta en array y larga en df\"\"\"\n",
    "    \n",
    "    larga= NREL.NREL\n",
    "    sigma_corta = st.stdev(corta)\n",
    "    sigma_larga = st.stdev(larga)\n",
    "    prom_corta = st.mean(corta)\n",
    "    prom_larga = st.mean(larga)\n",
    "    ajustada = (prom_corta-(sigma_corta/sigma_larga)*prom_larga)+(sigma_corta/sigma_larga)*larga\n",
    "    d = {\"AÑO\":NREL.AÑO, \"MES\":NREL.MES, \"DIA\":NREL.DIA, \"HORA\":NREL.HORA,\"IDEAM\":ajustada}\n",
    "    datos = pd.DataFrame(data=d)\n",
    "    datos=datos[[\"AÑO\",\"MES\", \"DIA\", \"HORA\",\"IDEAM\"]]\n",
    "    \n",
    "    \n",
    "    return datos\n",
    "\n",
    "def grafica_norma(ideam,nrel,ajst):\n",
    "    \"\"\"Entran los df en resolución horaria de las radiciaciones para IDEAM, NREL y Ajustada, respectivamente \"\"\"\n",
    "    y_IDEAM= sorted(ghi_dia(ghi_mensual(ideam)).GHIdiario)\n",
    "    y_NREL= sorted(ghi_dia(ghi_mensual(nrel)).GHIdiario)\n",
    "    y_AJST= sorted(ghi_dia(ghi_mensual(ajst)).GHIdiario)\n",
    "    x_1 = range(len(y_IDEAM))\n",
    "    x_2 = range(len(y_NREL))\n",
    "    plt.xlabel(\"Datos\")\n",
    "    plt.ylabel(\"Energía/Energía Base IDEAM\")\n",
    "    plt.plot(x_1,y_IDEAM,label = \"IDEAM\")\n",
    "    plt.plot(x_2,y_NREL, label = \"NREL\")\n",
    "    plt.plot(x_2,y_AJST, label=\"Ajustada\")\n",
    "    plt.legend(loc='upper left')\n",
    "    plt.show()\n",
    "    \n",
    "def error_enficc(ref,comp):\n",
    "    e_1 = enficc(ref)\n",
    "    e_2 = enficc(comp)\n",
    "    error = abs(e_1-e_2)/e_1 *100\n",
    "    \n",
    "    print('El error en el calculo de la ENFICC es: ' , error, \"%\")"
   ]
  },
  {
   "cell_type": "code",
   "execution_count": 15,
   "metadata": {},
   "outputs": [
    {
     "data": {
      "text/plain": [
       "True"
      ]
     },
     "execution_count": 15,
     "metadata": {},
     "output_type": "execute_result"
    }
   ],
   "source": [
    "IDEAM_ciudad = extraer_datos('IDEAM','Valledupar')[(IDEAM_ciudad.AÑO>2006)]\n",
    "NREL_ciudad = extraer_datos('NREL','Valledupar')[(NREL_ciudad.AÑO>2006)]\n",
    "len(IDEAM_ciudad.IDEAM)==len(NREL_ciudad.NREL)"
   ]
  },
  {
   "cell_type": "code",
   "execution_count": 74,
   "metadata": {
    "collapsed": true,
    "scrolled": true
   },
   "outputs": [],
   "source": [
    "IDEAM = IDEAM_ciudad.sort_values(['AÑO','MES','DIA','HORA'])\n",
    "IDEAM = IDEAM[(IDEAM.AÑO>2013) & (IDEAM.AÑO<2016)]\n",
    "IDEAM = IDEAM.IDEAM\n",
    "NREL = NREL_ciudad\n",
    "ajst = ajustar_datos(IDEAM,NREL)"
   ]
  },
  {
   "cell_type": "code",
   "execution_count": 75,
   "metadata": {},
   "outputs": [
    {
     "data": {
      "image/png": "[encoded data removed]",
      "text/plain": [
       "<matplotlib.figure.Figure at 0x7f78d8ef5cf8>"
      ]
     },
     "metadata": {},
     "output_type": "display_data"
    }
   ],
   "source": [
    "grafica_norma(IDEAM_ciudad,NREL_ciudad,ajst)"
   ]
  },
  {
   "cell_type": "code",
   "execution_count": 76,
   "metadata": {},
   "outputs": [
    {
     "name": "stdout",
     "output_type": "stream",
     "text": [
      "El error en el calculo de la ENFICC es:  12.2372022962 %\n"
     ]
    }
   ],
   "source": [
    "error_enficc(IDEAM_ciudad,ajst)"
   ]
  }
 ],
 "metadata": {
  "kernelspec": {
   "display_name": "Python 3",
   "language": "python",
   "name": "python3"
  },
  "language_info": {
   "codemirror_mode": {
    "name": "ipython",
    "version": 3
   },
   "file_extension": ".py",
   "mimetype": "text/x-python",
   "name": "python",
   "nbconvert_exporter": "python",
   "pygments_lexer": "ipython3",
   "version": "3.6.3"
  }
 },
 "nbformat": 4,
 "nbformat_minor": 2
}
