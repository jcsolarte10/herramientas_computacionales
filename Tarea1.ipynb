{
 "cells": [
  {
   "cell_type": "markdown",
   "metadata": {
    "collapsed": true
   },
   "source": [
    "Saco promedio diario mensual (promedio de cada dia cada mes)\n",
    "\n",
    "Hago un  ranking de las radiaciones. Para saca ENFICC\n",
    "\n",
    "\n",
    "3.Tengo dos series de datos y sale 1.\n",
    "\n",
    "\n",
    "El calculo de la efectividad del método sería ideal hacerlo para diferenmtes años y difrentes periodos (3, 6 y 12 meses)\n"
   ]
  },
  {
   "cell_type": "code",
   "execution_count": 14,
   "metadata": {},
   "outputs": [],
   "source": [
    "import os\n",
    "import pandas as pd\n",
    "import statistics as st"
   ]
  },
  {
   "cell_type": "code",
   "execution_count": null,
   "metadata": {
    "collapsed": true
   },
   "outputs": [],
   "source": []
  },
  {
   "cell_type": "code",
   "execution_count": 44,
   "metadata": {},
   "outputs": [],
   "source": [
    "## Funciones\n",
    "\n",
    "def ghi_mensual(serie_horaria):\n",
    "    agnos = sorted(serie_horaria['AÑO'].unique())\n",
    "    ghi_df = pd.DataFrame(columns=[\"AÑO\", \"MES\", \"DIAS\", \"GHImes\"])\n",
    "    for agno in agnos:\n",
    "        for mes in range(1,13):\n",
    "            nombre_energia = list(serie_horaria)[-1]\n",
    "            dias = sorted(serie_horaria[(serie_horaria['AÑO'] == agno) &\n",
    "                        (serie_horaria['MES'] == mes)][\"DIA\"].unique())\n",
    "            ghi_mes = serie_horaria.loc[((serie_horaria[\"AÑO\"] == agno)\n",
    "                            & (serie_horaria[\"MES\"] == mes)),\n",
    "                                        nombre_energia].sum()/1000\n",
    "            ghi_dict = {\"AÑO\":agno, \"MES\":mes, \"DIAS\":dias[-1],\n",
    "                        \"GHImes\":ghi_mes}\n",
    "            ghi_df = ghi_df.append(ghi_dict, ignore_index=True)\n",
    "    return ghi_df\n",
    "\n",
    "def ghi_dia(serie_ghi_mensual):\n",
    "    agnos = sorted(serie_ghi_mensual['AÑO'].unique())\n",
    "    ghi_df = pd.DataFrame(columns=[\"AÑO\", \"MES\", \"GHIdiario\"])\n",
    "    for agno in agnos:\n",
    "        for mes in range(1,13):\n",
    "            dias = serie_ghi_mensual.loc[((serie_ghi_mensual[\"AÑO\"] == agno)\n",
    "                            & (serie_ghi_mensual[\"MES\"] == mes))\n",
    "                                         ,\"DIAS\"].item()\n",
    "            ghi_diario = serie_ghi_mensual.loc[(\n",
    "                (serie_ghi_mensual[\"AÑO\"] == agno)\n",
    "                            & (serie_ghi_mensual[\"MES\"] == mes)),\n",
    "                \"GHImes\"].item()/dias\n",
    "            ghi_dict = {\"AÑO\":agno, \"MES\":mes, \"GHIdiario\":ghi_diario}\n",
    "            ghi_df = ghi_df.append(ghi_dict, ignore_index=True)\n",
    "    return ghi_df\n",
    "\n",
    "def extraer_datos(fuente, ciudad):\n",
    "    base_dir = os.path.join( '.',os.path.join( '02_taller01','data')) \n",
    "    output_dir = os.path.join( '.','output')\n",
    "    serie_csv = os.path.join(base_dir,ciudad,fuente+'.csv')\n",
    "    serie_pd = pd.read_csv(serie_csv, sep = ';',\n",
    "                encoding='latin-1')\n",
    "    return serie_pd\n",
    "\n",
    "def enficc(datos,seguridad):\n",
    "    ghi_mensual_loc = ghi_mensual(datos)\n",
    "    ghi_diario_loc = ghi_dia(ghi_mensual_loc)\n",
    "    percentil = 1-seguridad\n",
    "    men = seguridad*100\n",
    "    enficc = ghi_diario_loc.quantile(q=percentil, \n",
    "                                 numeric_only=True)[\"GHIdiario\"]\n",
    "    print('La ENFICC ',men, '% es: ' , enficc)\n",
    "    \n",
    "def ajustar_datos(corta, NREL):\n",
    "    \"\"\"Corta en array y larga en df\"\"\"\n",
    "    \n",
    "    larga= NREL.NREL\n",
    "    sigma_corta = st.stdev(corta)\n",
    "    sigma_larga = st.stdev(larga)\n",
    "    prom_corta = st.mean(corta)\n",
    "    prom_larga = st.mean(larga)\n",
    "    ajustada = (prom_corta-(sigma_corta/sigma_larga)*prom_larga)+(sigma_corta/sigma_larga)*larga\n",
    "    d = {\"AÑO\":NREL.AÑO, \"MES\":NREL.MES, \"DIA\":NREL.DIA, \"HORA\":NREL.HORA,\"IDEAM\":ajustada}\n",
    "    datos = pd.DataFrame(data=d)\n",
    "    datos=datos[[\"AÑO\",\"MES\", \"DIA\", \"HORA\",\"IDEAM\"]]\n",
    "    \n",
    "    \n",
    "    return datos"
   ]
  },
  {
   "cell_type": "code",
   "execution_count": 33,
   "metadata": {},
   "outputs": [
    {
     "data": {
      "text/html": [
       "<div>\n",
       "<style>\n",
       "    .dataframe thead tr:only-child th {\n",
       "        text-align: right;\n",
       "    }\n",
       "\n",
       "    .dataframe thead th {\n",
       "        text-align: left;\n",
       "    }\n",
       "\n",
       "    .dataframe tbody tr th {\n",
       "        vertical-align: top;\n",
       "    }\n",
       "</style>\n",
       "<table border=\"1\" class=\"dataframe\">\n",
       "  <thead>\n",
       "    <tr style=\"text-align: right;\">\n",
       "      <th></th>\n",
       "      <th>AÑO</th>\n",
       "      <th>MES</th>\n",
       "      <th>DIA</th>\n",
       "      <th>HORA</th>\n",
       "      <th>NREL</th>\n",
       "    </tr>\n",
       "  </thead>\n",
       "  <tbody>\n",
       "    <tr>\n",
       "      <th>0</th>\n",
       "      <td>2005</td>\n",
       "      <td>1</td>\n",
       "      <td>1</td>\n",
       "      <td>0</td>\n",
       "      <td>0.0</td>\n",
       "    </tr>\n",
       "    <tr>\n",
       "      <th>1</th>\n",
       "      <td>2005</td>\n",
       "      <td>1</td>\n",
       "      <td>1</td>\n",
       "      <td>1</td>\n",
       "      <td>0.0</td>\n",
       "    </tr>\n",
       "    <tr>\n",
       "      <th>2</th>\n",
       "      <td>2005</td>\n",
       "      <td>1</td>\n",
       "      <td>1</td>\n",
       "      <td>2</td>\n",
       "      <td>0.0</td>\n",
       "    </tr>\n",
       "    <tr>\n",
       "      <th>3</th>\n",
       "      <td>2005</td>\n",
       "      <td>1</td>\n",
       "      <td>1</td>\n",
       "      <td>3</td>\n",
       "      <td>0.0</td>\n",
       "    </tr>\n",
       "    <tr>\n",
       "      <th>4</th>\n",
       "      <td>2005</td>\n",
       "      <td>1</td>\n",
       "      <td>1</td>\n",
       "      <td>4</td>\n",
       "      <td>0.0</td>\n",
       "    </tr>\n",
       "  </tbody>\n",
       "</table>\n",
       "</div>"
      ],
      "text/plain": [
       "    AÑO  MES  DIA  HORA  NREL\n",
       "0  2005    1    1     0   0.0\n",
       "1  2005    1    1     1   0.0\n",
       "2  2005    1    1     2   0.0\n",
       "3  2005    1    1     3   0.0\n",
       "4  2005    1    1     4   0.0"
      ]
     },
     "execution_count": 33,
     "metadata": {},
     "output_type": "execute_result"
    }
   ],
   "source": [
    "IDEAM_Valledupar = extraer_datos('IDEAM','Valledupar')\n",
    "NREL_Valledupar = extraer_datos('NREL','Valledupar')\n",
    "NREL_Valledupar.head(5)"
   ]
  },
  {
   "cell_type": "code",
   "execution_count": 46,
   "metadata": {
    "scrolled": true
   },
   "outputs": [
    {
     "name": "stdout",
     "output_type": "stream",
     "text": [
      "La ENFICC  99.0 % es:  4.61584192774\n"
     ]
    }
   ],
   "source": [
    "IDEAM = IDEAM_Valledupar.sort_values(['AÑO','MES','DIA','HORA'])\n",
    "IDEAM = IDEAM[(IDEAM.AÑO>2005) & (IDEAM.AÑO<2007)]\n",
    "IDEAM = IDEAM.IDEAM\n",
    "NREL = NREL_Valledupar\n",
    "ajst = ajustar_datos(IDEAM,NREL)\n",
    "enficc(ajst,0.99)"
   ]
  }
 ],
 "metadata": {
  "kernelspec": {
   "display_name": "Python 3",
   "language": "python",
   "name": "python3"
  },
  "language_info": {
   "codemirror_mode": {
    "name": "ipython",
    "version": 3
   },
   "file_extension": ".py",
   "mimetype": "text/x-python",
   "name": "python",
   "nbconvert_exporter": "python",
   "pygments_lexer": "ipython3",
   "version": "3.6.3"
  }
 },
 "nbformat": 4,
 "nbformat_minor": 2
}
