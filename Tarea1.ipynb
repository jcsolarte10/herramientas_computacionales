{
 "cells": [
  {
   "cell_type": "markdown",
   "metadata": {
    "collapsed": true
   },
   "source": [
    "Saco promedio diario mensual (promedio de cada dia cada mes)\n",
    "\n",
    "Hago un  ranking de las radiaciones.\n",
    "\n",
    "\n",
    "3.Tengo dos series de datos y sale 1.\n",
    "\n",
    "\n",
    "El calculo de la efectividad del método sería ideal hacerlo para diferenmtes años y difrentes periodos (3, 6 y 12 meses)"
   ]
  }
 ],
 "metadata": {
  "kernelspec": {
   "display_name": "Python 3.6",
   "language": "python",
   "name": "python36"
  },
  "language_info": {
   "codemirror_mode": {
    "name": "ipython",
    "version": 3
   },
   "file_extension": ".py",
   "mimetype": "text/x-python",
   "name": "python",
   "nbconvert_exporter": "python",
   "pygments_lexer": "ipython3",
   "version": "3.6.3"
  }
 },
 "nbformat": 4,
 "nbformat_minor": 2
}
