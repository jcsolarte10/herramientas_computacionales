{
 "cells": [
  {
   "cell_type": "markdown",
   "metadata": {},
   "source": [
    "# Tarea 2 : Kart electrico\n",
    "## Special thanks to : Mariana Cordoba & David Clavijo\n",
    "\n",
    "Mariana: Todo\n",
    "Clavijo : F. de T"
   ]
  },
  {
   "cell_type": "code",
   "execution_count": 131,
   "metadata": {
    "collapsed": true
   },
   "outputs": [],
   "source": [
    "import numpy as np\n",
    "import matplotlib.pyplot as plt\n",
    "from scipy.integrate import ode\n",
    "from scipy.integrate import trapz"
   ]
  },
  {
   "cell_type": "code",
   "execution_count": 132,
   "metadata": {
    "collapsed": true
   },
   "outputs": [],
   "source": [
    "# Datos Kart general\n",
    "masa=152.0 # masa del Kart (kg)\n",
    "g=9.81 # Gravedad (m/s)\n",
    "w=masa*g # peso del Kart (N)\n",
    "\n",
    "# Dimensione del kart\n",
    "t2cm=0.2231 # Distancia del centro de gravedad al eje de la llanta trasera (m)\n",
    "t2f=1.0063 # Distancia de eje de las llantas traseras y delanteras (m)\n",
    "h=0.07478 # Altura del centro de gravedad del kart con respecto al piso (m)\n",
    "\n",
    "\n",
    "# Datos eje llantas\n",
    "reje=0.02 # Radio eje de las llantas (m)\n",
    "meje=3.832 # Masa del eje (kg)\n",
    "rll=0.139 # Radio geométrico de las llantas en traseras (m)\n",
    "refc=0.98*rll # Radio efectivo llantas traseras (m)\n",
    "rin=0.0631 #radio interno del neumático (m)\n",
    "\n",
    "# Datos Transmisión\n",
    "dp=19.0 # Dientes del piñon del motor\n",
    "dpl=10.0 # Dientes del piñon del eje de salida\n",
    "ng=dp/dpl# Relación de Torques\n",
    "etaf=0.95 # Eficiencia de transmisión\n",
    "\n",
    "# Inercias\n",
    "\n",
    "mllt=1.43 # Masa llantas traseras (kg)\n",
    "mlld=1.20 # Masa llantas delanteras (kg)\n",
    "rlld=0.129 # Radio llantas delanteras (m)\n",
    "rind=0.0631 # Radio rin llantas delanteras (m)\n",
    "mbt=0.7*mllt # El porcentaje de la masa total que pesa la parte \"banda\" de la llanta trasera\n",
    "mdt=0.3*mllt # El porcentaje de la masa total que pesa la parte \"disco\" de la llanta trasera\n",
    "mbd=0.7*mlld # El porcentaje de la masa total que pesa la parte \"banda\" de la llanta delantera\n",
    "mdd=0.3*mlld # El porcentaje de la masa total que pesa la parte \"disco\" de la llanta delantera\n",
    "illd=(mbd*rlld)+(mdd*(rlld**2-rind**2))/2 # Inercia 1 llanta delantera (kg-m^2)\n",
    "illt=(mbt*rll)+(mdt*(rll**2-rin**2))/2 # Inercia 1 llanta trasera (kg-m^2)\n",
    "\n",
    "paso=7.62 #(mm)\n",
    "rpim= paso*(0.6+(1/np.tan(180/dp))) # Radio Piñon (mm)\n",
    "rplam=paso*(0.6+(1/np.tan(180/dpl))) # Radio Plato (mm)\n",
    "rpi= rpim/1000 #Radio Piñon (m)\n",
    "rpla= rplam/1000 #Radio Plato (m)\n",
    "rpi=0.01525#(m)\n",
    "rpla=0.04096 #(m)\n",
    "rhoac=7850.0 # Densidad del Acero (kg/m^3)\n",
    "bpi=0.01 # Ancho piñon (m)\n",
    "bpla=0.02 # Ancho plato (m)\n",
    "vpi= bpi*np.pi*rpi**2 # Volumen del piñon (m^3)\n",
    "vpla=bpla*np.pi*rpla**2 # Volumen del plato (m^3)\n",
    "mpi=rhoac*vpi # Masa del piñon (kg)\n",
    "mpla=rhoac*vpla # Masa del plato (kg)\n",
    "\n",
    "itrasmision=((mpi*(rpi**2))/2.0)+((mpla*(rpla**2))/2.0) # Inercia de la transmisión (kg-m^2)\n",
    "\n",
    "ieje=(meje*reje**2)/2.0 # Inercia del eje de las llantas (kg-m^2)\n",
    "\n",
    "imotor = 52 * 10^-4 # Inercia del eje del motor (kg-m^2)\n",
    "\n",
    "\n",
    "# Datos Fuerzas de arrastre\n",
    "rho=1.1955 # densidad del aire (kg/m^3)\n",
    "dll=0.975 # Distancia entre ejes de llantas delanteras (m)\n",
    "alj=0.88 # Altura con el piloto sentado en el kart (estatura 1.68 m) (m)\n",
    "af=(dll*alj)/2 # Area Frontal Kart (m^2)\n",
    "cd=0.89 # Coeficiente de Arrastre Kart\n",
    "vw=0.0 # velocidad del viento (m/s)\n",
    "theta=0.0 # Angulo carretera\n",
    "\n",
    "#Datos Fuerza de rodadura\n",
    "f_0 = 0.01 #Basic coefficient (Pg. 118) (Depende de presión de llantas)\n",
    "f_s = 0.005 #Speed coefficient (Pg. 118) (Depende de presión de llantas)\n",
    "\n",
    "#Calculo de mas rotacional\n",
    "mrotacional = ((ieje + itrasmision)* ng**2 + ieje + 2*illt)/rll**2\n"
   ]
  },
  {
   "cell_type": "code",
   "execution_count": 133,
   "metadata": {
    "collapsed": true
   },
   "outputs": [],
   "source": [
    "# Función de arrastre\n",
    "def farrastre(vx):\n",
    "    \n",
    "    if vx>5000*np.pi*rll/(30*ng):\n",
    "        vx =  5000*np.pi*rll/(30*ng)       \n",
    "    \n",
    "    return (1.0/2.0)*rho*af*cd*(vx+vw)**2 # (N)\n",
    "\n",
    "\n",
    "#Función de rodadura (Pg. 111-118)\n",
    "def frodadura(v):\n",
    "\n",
    "    if v> 5000*np.pi*rll/(30*ng):\n",
    "        v = 5000*np.pi*rll/(30*ng)\n",
    "    \n",
    "    \n",
    "    fr= f_0 + 3.24*f_s*(v*2.237/100.0)**(2.5) # Factor de rodadura la velocidad del kart debe estar en (m/s) ()\n",
    "    return w*fr\n",
    "\n",
    "#Función de torque (Clavijo) (Al fin el torque de estos motores no es constante?)\n",
    "def torque(v):\n",
    "    \n",
    "    omega = v*ng/(rll)\n",
    "    omega_rpm = omega*30/np.pi\n",
    "\n",
    "    if omega_rpm>5000:\n",
    "        omega_rpm = 5000\n",
    "    \n",
    "    \n",
    "    if omega_rpm<100 :\n",
    "        tq =13\n",
    "    else:\n",
    "        #tq= (0.0000001*(omega_rpm**3) - 0.0014* (omega_rpm**2) + 4.6462*omega_rpm +167.42)/omega\n",
    "        tq= (-0.00000005*(omega_rpm**3) + 0.0001* (omega_rpm**2) + 1.5257*omega_rpm - 12.96)/omega #Clavijo omega_rpm<100 ----> tq = 13\n",
    "        #tq = -0.00000000001*omega_rpm**3-0.000005*omega_rpm**2+0.0237*omega_rpm+7.8 # omega_rpm<1000 ----> tq=20\n",
    "    \n",
    "    return tq\n",
    "\n",
    "def potencia(v):\n",
    "    omega = v*ng/(rll)\n",
    "    pt = torque(v)*omega\n",
    "    \n",
    "    return pt"
   ]
  },
  {
   "cell_type": "code",
   "execution_count": 134,
   "metadata": {
    "collapsed": true
   },
   "outputs": [],
   "source": [
    "#Función cinemática de aceleracion\n",
    "def funct(t,v):\n",
    "    ans = ((torque(v)*ng*etaf)/rll - frodadura(v)- farrastre(v))/(masa + mrotacional)\n",
    "    return ans\n",
    "\n",
    "\n",
    "def funct_2(t,v):\n",
    "    if v > 0.1:\n",
    "        ans = (-17/refc - frodadura(v)- farrastre(v))/(masa + mrotacional)\n",
    "    else:\n",
    "        ans=0\n",
    "    \n",
    "    return ans\n",
    "\n",
    "def drv(t,v):\n",
    "    llegada = False\n",
    "    \n",
    "    i=0\n",
    "    while llegada == False & i < len(v)-2 :\n",
    "        dt = t[i+1] - t[i]\n",
    "        dx = v[i+1] - v[i]\n",
    "        dxdt = dx/dt\n",
    "        \n",
    "        if round(dxdt,1) ==0:\n",
    "            llegada = True\n",
    "            \n",
    "        i= i+1\n",
    "    \n",
    "    return i\n",
    "\n",
    "\n",
    "def cuandoparo(v):\n",
    "    v = np.array(v)\n",
    "    yp = v<0.1\n",
    "    ans = sum(yp)\n",
    "    \n",
    "    return ans\n",
    "\n",
    "    \n"
   ]
  },
  {
   "cell_type": "code",
   "execution_count": 138,
   "metadata": {},
   "outputs": [],
   "source": [
    "t_f = 100\n",
    "dt=0.1\n",
    "y_0 , t_0 = 0 , 0\n",
    "r = ode(funct).set_integrator('dopri5')\n",
    "r.set_initial_value(y_0,t_0)\n",
    "tm=[]\n",
    "vlt=[]\n",
    "while r.successful() and r.t < t_f:\n",
    "    tm.append(r.t+dt)\n",
    "    vlt.append(r.integrate(r.t+dt)[0])\n",
    "    \n",
    "fk = drv(tm,vlt)\n",
    "vlt= vlt[:fk]\n",
    "tm = tm[:fk]\n",
    "vint2 = vlt[-2]\n",
    "tint2 = tm[-1]+dt\n",
    "\n",
    "#-------0--------------------0---------------------\n",
    "\n",
    "\n",
    "t_fb = 25 + tint2 \n",
    "dtb=0.1\n",
    "y_0b , t_0b = vint2 , tint2\n",
    "rb = ode(funct_2).set_integrator('dopri5')\n",
    "rb.set_initial_value(y_0b,t_0b)\n",
    "tmb=[]\n",
    "vltb=[]\n",
    "while rb.successful() and rb.t < t_fb:\n",
    "    tm.append(rb.t+dtb)\n",
    "    vlt.append(rb.integrate(rb.t+dtb)[0])\n"
   ]
  },
  {
   "cell_type": "code",
   "execution_count": 139,
   "metadata": {},
   "outputs": [
    {
     "data": {
      "image/png": "[encoded data removed]",
      "text/plain": [
       "<matplotlib.figure.Figure at 0x7f8c1658c5c0>"
      ]
     },
     "metadata": {},
     "output_type": "display_data"
    }
   ],
   "source": [
    "pare  = cuandoparo(vlt)\n",
    "vlt = vlt[:len(vlt)-pare]\n",
    "tm = tm[:len(tm)-pare]\n",
    "plt.plot(tm,vlt)\n",
    "plt.show()"
   ]
  },
  {
   "cell_type": "code",
   "execution_count": 142,
   "metadata": {},
   "outputs": [
    {
     "data": {
      "image/png": "[encoded data removed]",
      "text/plain": [
       "<matplotlib.figure.Figure at 0x7f8c166e7a90>"
      ]
     },
     "metadata": {},
     "output_type": "display_data"
    }
   ],
   "source": [
    "mv =[0]\n",
    "\n",
    "for k in range(1,int(tm[-1]/dt)-1):\n",
    "    a = trapz(vlt[k:k+2],x= None,dx=0.1)\n",
    "    d = mv[k-1]+a\n",
    "    mv.append(d)\n",
    "    \n",
    "plt.plot(tm,mv)\n",
    "plt.show()"
   ]
  }
 ],
 "metadata": {
  "kernelspec": {
   "display_name": "Python 3",
   "language": "python",
   "name": "python3"
  },
  "language_info": {
   "codemirror_mode": {
    "name": "ipython",
    "version": 3
   },
   "file_extension": ".py",
   "mimetype": "text/x-python",
   "name": "python",
   "nbconvert_exporter": "python",
   "pygments_lexer": "ipython3",
   "version": "3.6.3"
  }
 },
 "nbformat": 4,
 "nbformat_minor": 2
}
