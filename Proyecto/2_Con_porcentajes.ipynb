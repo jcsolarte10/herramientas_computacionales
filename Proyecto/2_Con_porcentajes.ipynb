{
 "cells": [
  {
   "cell_type": "code",
   "execution_count": 1,
   "metadata": {},
   "outputs": [
    {
     "name": "stdout",
     "output_type": "stream",
     "text": [
      "Populating the interactive namespace from numpy and matplotlib\n"
     ]
    }
   ],
   "source": [
    "%pylab inline\n",
    "from datetime import date\n",
    "from datetime import datetime\n",
    "import os\n",
    "import pandas as pd\n",
    "from sklearn.neural_network import MLPRegressor\n",
    "from sklearn.metrics import (mean_squared_error, r2_score)\n",
    "from sklearn.model_selection import GridSearchCV\n",
    "from scipy.stats import ks_2samp"
   ]
  },
  {
   "cell_type": "code",
   "execution_count": 26,
   "metadata": {
    "collapsed": true
   },
   "outputs": [],
   "source": [
    "n1 = np.array([(10,3),(90,5),(100,10)])\n",
    "n2 = np.array([(30,15),(90,9),(100,10)])\n",
    "arqs ={\"adam\": n1,\n",
    "      \"lbfgs\":n2\n",
    "}\n"
   ]
  },
  {
   "cell_type": "code",
   "execution_count": null,
   "metadata": {
    "collapsed": true
   },
   "outputs": [],
   "source": [
    "#Funciones para crear matrices de entrenaminto y pruebas"
   ]
  },
  {
   "cell_type": "code",
   "execution_count": 3,
   "metadata": {
    "collapsed": true
   },
   "outputs": [],
   "source": [
    "def train_X_Y(dias, deltas, d_inicial,num_samples,num_features):    ##d_inicial : 0 a 2508\n",
    "    ##dias: vector de dia de la semana para cada dia (L=1...V=5)\n",
    "    ##precios: vector de pecios para cada dia\n",
    "    ##d_inicial: Primer dia del entrenamiento (0 a 2508) es num_features-1 dias antes que el primer Y de entrenamiento \n",
    "    ##num_samples: Número de muestras para entrenar \n",
    "    ##num_features: Número de parametros de entrenamiento (1+ número de dias con que se predice el precio)\n",
    "    \n",
    "    \n",
    "    \n",
    "    num_dias = num_features-1\n",
    "   \n",
    "    dias = dias[d_inicial+num_dias:d_inicial+num_dias+num_samples]\n",
    "    dias = dias.reshape(len(dias),1)\n",
    "    \n",
    "    d=deltas[d_inicial:d_inicial+num_samples]\n",
    "    \n",
    "    for i in range(d_inicial+1,d_inicial+num_dias):\n",
    "        m = deltas[i:i+num_samples]\n",
    "        d =  np.column_stack((d,m))\n",
    "            \n",
    "    X = np.column_stack((d,dias))\n",
    "             \n",
    "    Y = deltas[d_inicial+num_dias:d_inicial+num_dias+num_samples]\n",
    "    \n",
    "    assert (X.shape == (num_samples, num_features))\n",
    "    assert (Y.shape == (num_samples,))\n",
    "    \n",
    "    train = {\"X\": X,\n",
    "                \"Y\": Y\n",
    "            }\n",
    "    \n",
    "    return train\n",
    "\n",
    "\n",
    "\n",
    "def test_X_Y(dias, deltas, d_inicial,num_samples,num_features):\n",
    "    test = train_X_Y(dias, deltas, d_inicial,num_samples,num_features)\n",
    "    \n",
    "    return test\n",
    "\n",
    "def cal_porcentaje(porcentajes):\n",
    "    prcts=[]\n",
    "    acum = porcentajes[0]\n",
    "    prcts.append(acum)\n",
    "    for i in range(1,len(porcentajes)):\n",
    "        acum = acum*porcentajes[i]\n",
    "        prcts.append(acum)\n",
    "    \n",
    "    prcts = np.array(prcts)\n",
    "    return prcts\n",
    "\n",
    "def erroresabs(Y_expected,Y_predict):\n",
    "    #error_RMS= np.sqrt(mean(((Y_predict-Y_expected)/Y_expected)**2))*100\n",
    "    error_RMS= np.sqrt(mean(((Y_predict-Y_expected))**2))\n",
    "    #error_MBE= mean((Y_predict-Y_expected)/Y_expected)*100\n",
    "    error_MBE= mean((Y_predict-Y_expected))\n",
    "    p_value = ks_2samp(Y_expected,Y_predict)[1]\n",
    "    r2 = r2_score(Y_expected,Y_predict)\n",
    "    \n",
    "    error_RMS= np.round(error_RMS,3)\n",
    "    error_MBE= np.round(error_MBE,4)\n",
    "    p_value = np.round(p_value,2)\n",
    "    r2 = np.round(r2,2)\n",
    "                    \n",
    "                    \n",
    "    error = {\"RMS\": error_RMS,\n",
    "             \"MBE\": error_MBE,\n",
    "             \"P-Value\": p_value,\n",
    "             \"R2\":r2\n",
    "            }\n",
    "    return error\n",
    "\n",
    "def errores(Y_expected,Y_predict):\n",
    "    error_RMS= np.sqrt(mean(((Y_predict-Y_expected)/Y_expected)**2))*100\n",
    "    #error_RMS= np.sqrt(mean(((Y_predict-Y_expected))**2))\n",
    "    error_MBE= mean((Y_predict-Y_expected)/Y_expected)*100\n",
    "    #error_MBE= mean((Y_predict-Y_expected))\n",
    "    p_value = ks_2samp(Y_expected,Y_predict)[1]\n",
    "    r2 = r2_score(Y_expected,Y_predict)\n",
    "    \n",
    "    error_RMS= np.round(error_RMS,3)\n",
    "    error_MBE= np.round(error_MBE,4)\n",
    "    p_value = np.round(p_value,2)\n",
    "    r2 = np.round(r2,2)\n",
    "                    \n",
    "                    \n",
    "    error = {\"RMS\": error_RMS,\n",
    "             \"MBE\": error_MBE,\n",
    "             \"P-Value\": p_value,\n",
    "             \"R2\":r2\n",
    "            }\n",
    "    return error\n",
    "\n",
    "def RMS(Y_prdct,Y):\n",
    "    error = np.sqrt(sum((Y_prdct-Y)**2))/len(Y)\n",
    "    return error\n",
    "\n",
    "def graph_comb(values):\n",
    "    k= np.array(values)\n",
    "    sw = True\n",
    "\n",
    "    while sw == True:\n",
    "        sw = False\n",
    "        for i in range(len(k)-1):\n",
    "            temp1 = list(k[i])\n",
    "            temp2 = list(k[i+1])\n",
    "            if temp2[0]<temp1[0]:\n",
    "                k[i]=temp2\n",
    "                k[i+1]=temp1\n",
    "                sw=True\n",
    "\n",
    "            if temp2[0]==temp1[0]:\n",
    "                if temp2[1]<temp1[1]:\n",
    "                    k[i]=temp2\n",
    "                    k[i+1]=temp1\n",
    "                    sw=True\n",
    "    a=[]\n",
    "    b=[]\n",
    "    i=0\n",
    "    while i in range (len(k)):\n",
    "        d = k[i]\n",
    "        a.append(d)\n",
    "        cnt=1\n",
    "        l = k[i+1:]\n",
    "        for j in range(len(l)):\n",
    "            if sum(l[j]==d)==2:\n",
    "                cnt= cnt+1\n",
    "            else:\n",
    "                j= len(l)\n",
    "        b.append(cnt)\n",
    "        i= i+cnt\n",
    "    \n",
    "    plt.bar(range(len(a)),b)\n",
    "    plt.plot()\n",
    "    plt.subplots_adjust(left=0.5, bottom=1, right=3, top=2)\n",
    "    plt.show()\n",
    "    print(a)\n",
    "    print(b)"
   ]
  },
  {
   "cell_type": "code",
   "execution_count": null,
   "metadata": {
    "collapsed": true
   },
   "outputs": [],
   "source": [
    "## Poblando datos"
   ]
  },
  {
   "cell_type": "code",
   "execution_count": 4,
   "metadata": {
    "collapsed": true
   },
   "outputs": [],
   "source": [
    "datos_csv = os.path.join( '.','COLCAP.csv')\n",
    "datos_pd = pd.read_csv(datos_csv, sep = ',',\n",
    "                encoding='latin-1', parse_dates =[0], infer_datetime_format= True)"
   ]
  },
  {
   "cell_type": "code",
   "execution_count": 5,
   "metadata": {
    "collapsed": true
   },
   "outputs": [],
   "source": [
    "a=datos_pd[\"Fecha (dd/mm/aaaa)\"]\n",
    "\n",
    "dias = []\n",
    "\n",
    "for i in range(len(a)):\n",
    "    d = a[i].weekday() + 1\n",
    "    dias.append(d)\n",
    "    \n",
    "d = np.array(dias)"
   ]
  },
  {
   "cell_type": "code",
   "execution_count": 6,
   "metadata": {
    "collapsed": true
   },
   "outputs": [],
   "source": [
    "c = datos_pd[\"Valor COLCAP\"]\n",
    "c = np.array(c)\n",
    "for i in range(len(c)):\n",
    "    c[i] = c[i].replace(',',\"\")\n",
    "\n",
    "\n",
    "price=np.array(c, dtype= np.float64)"
   ]
  },
  {
   "cell_type": "code",
   "execution_count": 7,
   "metadata": {
    "collapsed": true
   },
   "outputs": [],
   "source": [
    "b = datos_pd[\"Variación porcentual\"]\n",
    "b = np.array(b)\n",
    "for i in range(len(b)):\n",
    "    b[i] = b[i].replace('%',\"\")\n",
    "\n",
    "\n",
    "p=np.array(b, dtype= np.float64)"
   ]
  },
  {
   "cell_type": "code",
   "execution_count": 7,
   "metadata": {},
   "outputs": [
    {
     "data": {
      "text/plain": [
       "2509"
      ]
     },
     "execution_count": 7,
     "metadata": {},
     "output_type": "execute_result"
    }
   ],
   "source": [
    "len(price)"
   ]
  },
  {
   "cell_type": "code",
   "execution_count": null,
   "metadata": {
    "collapsed": true
   },
   "outputs": [],
   "source": [
    "## Prueba"
   ]
  },
  {
   "cell_type": "code",
   "execution_count": 98,
   "metadata": {
    "collapsed": true
   },
   "outputs": [],
   "source": [
    "## Definición de matrices de entreno\n",
    "train=train_X_Y(d,p,5,2400,11)"
   ]
  },
  {
   "cell_type": "code",
   "execution_count": 99,
   "metadata": {
    "collapsed": true
   },
   "outputs": [],
   "source": [
    "#Definición de matrices de prueba\n",
    "test=test_X_Y(d,p,2509-30-10,30,11)"
   ]
  },
  {
   "cell_type": "code",
   "execution_count": 115,
   "metadata": {},
   "outputs": [
    {
     "name": "stdout",
     "output_type": "stream",
     "text": [
      "1.861\n",
      "1.008\n",
      "0.973\n",
      "0.898\n"
     ]
    }
   ],
   "source": [
    "#Entreno del sistema adam\n",
    "e = 10\n",
    "rg = None\n",
    "for l in range(20):\n",
    "    with warnings.catch_warnings(record=True) as w:\n",
    "        warnings.simplefilter(\"always\") \n",
    "        r = MLPRegressor(hidden_layer_sizes=arqs[\"lbfgs\"][2], max_iter= 200, activation=\"relu\",shuffle= False, solver= \"lbfgs\", tol=0.000001 )\n",
    "        r.fit(train[\"X\"],train[\"Y\"])\n",
    "    \n",
    "    if w==[]:\n",
    "        error = erroresabs(train['Y'], r.predict(train['X']))['RMS']\n",
    "    else:\n",
    "        error= e\n",
    "    \n",
    "    if error<e:\n",
    "        e=error\n",
    "        rg=r\n",
    "        print(e)\n",
    "        "
   ]
  },
  {
   "cell_type": "code",
   "execution_count": 112,
   "metadata": {},
   "outputs": [
    {
     "name": "stdout",
     "output_type": "stream",
     "text": [
      "201\n",
      "0.844\n",
      "lbfgs\n",
      "[100  10]\n"
     ]
    }
   ],
   "source": [
    "print(rg.n_iter_)\n",
    "print(e)\n",
    "print(rg.solver)\n",
    "print(rg.hidden_layer_sizes)"
   ]
  },
  {
   "cell_type": "code",
   "execution_count": 116,
   "metadata": {},
   "outputs": [
    {
     "data": {
      "image/png": "[encoded data removed]",
      "text/plain": [
       "<matplotlib.figure.Figure at 0x7fe86466ba58>"
      ]
     },
     "metadata": {},
     "output_type": "display_data"
    },
    {
     "name": "stdout",
     "output_type": "stream",
     "text": [
      "El Error RMS del entreno es: 0.898\n",
      "El Error MBE del entreno es: -0.0028\n",
      "El P-Value del entreno es: 0.0\n",
      "\n",
      "El Error RMS de la prueba es: 0.894\n",
      "El Error MBE de la prueba es: -0.1758\n",
      "El P-Value de la prueba es: 0.01\n"
     ]
    }
   ],
   "source": [
    "#Grafica de predicción y real\n",
    "y1 = np.array(test[\"Y\"])\n",
    "y2= np.array(rg.predict(test[\"X\"]))\n",
    "plt.plot(y1)\n",
    "plt.plot(y2)\n",
    "error_train = erroresabs(train['Y'],rg.predict(train['X']))\n",
    "error_test = erroresabs(test['Y'],rg.predict(test['X']))\n",
    "\n",
    "plt.show()\n",
    "\n",
    "print(\"El Error RMS del entreno es: \" + str(error_train['RMS']))\n",
    "print(\"El Error MBE del entreno es: \" + str(error_train['MBE']))\n",
    "print(\"El P-Value del entreno es: \" + str(error_train['P-Value']))\n",
    "print('')\n",
    "print(\"El Error RMS de la prueba es: \" + str(error_test['RMS']))\n",
    "print(\"El Error MBE de la prueba es: \" + str(error_test['MBE']))\n",
    "print(\"El P-Value de la prueba es: \" + str(error_test['P-Value']))"
   ]
  },
  {
   "cell_type": "code",
   "execution_count": 32,
   "metadata": {},
   "outputs": [
    {
     "data": {
      "text/plain": [
       "-0.83036732631341614"
      ]
     },
     "execution_count": 32,
     "metadata": {},
     "output_type": "execute_result"
    }
   ],
   "source": [
    "(mean(((rg.predict(test['X'])-test['Y'])/test['Y'])))"
   ]
  },
  {
   "cell_type": "code",
   "execution_count": 117,
   "metadata": {},
   "outputs": [
    {
     "data": {
      "image/png": "[encoded data removed]",
      "text/plain": [
       "<matplotlib.figure.Figure at 0x7fe864669550>"
      ]
     },
     "metadata": {},
     "output_type": "display_data"
    },
    {
     "name": "stdout",
     "output_type": "stream",
     "text": [
      "El Error RMS de la prueba es: 0.891\n",
      "El Error MBE de la prueba es: -0.169\n",
      "El P-Value de la prueba es: 0.94\n",
      "El R^2 de la prueba es: 0.9\n"
     ]
    }
   ],
   "source": [
    "y_1=price[2509-30:2509]\n",
    "preprice =price[2509-1-30:2509-1]\n",
    "plt.plot(y_1, 'k', linewidth=2)\n",
    "prct = rg.predict(test[\"X\"])/100+1\n",
    "#prct = test[\"Y\"]/100+1\n",
    "#prct = cal_porcentaje(prct)\n",
    "\n",
    "y_2 = preprice*prct\n",
    "plt.plot(y_2,  'r', linewidth=2)\n",
    "\n",
    "\n",
    "plt.legend([\"Original\",\"Predicción\"])\n",
    "plt.xlabel(\"Dias\")\n",
    "plt.ylabel(\"Valor COLCAP [COP]\")\n",
    "\n",
    "plt.show()\n",
    "\n",
    "error = errores(y_1,y_2)\n",
    "print(\"El Error RMS de la prueba es: \" + str(error['RMS']))\n",
    "print(\"El Error MBE de la prueba es: \" + str(error['MBE']))\n",
    "print(\"El P-Value de la prueba es: \" + str(error['P-Value']))\n",
    "print(\"El R^2 de la prueba es: \" + str(error['R2']))"
   ]
  },
  {
   "cell_type": "code",
   "execution_count": null,
   "metadata": {
    "collapsed": true
   },
   "outputs": [],
   "source": [
    "#Entreno del sistema lbfgs\n",
    "e = 10\n",
    "rg = None\n",
    "for l in range(10):\n",
    "    with warnings.catch_warnings(record=True) as w:\n",
    "        warnings.simplefilter(\"always\") \n",
    "        r = MLPRegressor(hidden_layer_sizes=(100,15), max_iter= 200, activation=\"relu\",shuffle= False, solver= \"lbfgs\", warm_start=False, learning_rate_init= 0.000001)\n",
    "        r.fit(train[\"X\"],train[\"Y\"])\n",
    "        \n",
    "        \n",
    "    if w==[]:\n",
    "        error = errores(train['Y'], r.predict(train['X']))['RMS']\n",
    "    else:\n",
    "        error= e\n",
    "\n",
    "    if error<e:\n",
    "        e=error\n",
    "        rg=r\n",
    "        print(e)\n",
    "        "
   ]
  },
  {
   "cell_type": "code",
   "execution_count": null,
   "metadata": {
    "collapsed": true
   },
   "outputs": [],
   "source": [
    "print(rg.n_iter_)\n",
    "print(e)"
   ]
  },
  {
   "cell_type": "code",
   "execution_count": null,
   "metadata": {
    "collapsed": true
   },
   "outputs": [],
   "source": [
    "#Grafica de predicción y real\n",
    "y1 = np.array(test[\"Y\"])\n",
    "y2= np.array(rg.predict(test[\"X\"]))\n",
    "plt.plot(y1)\n",
    "plt.plot(y2)\n",
    "error_train = errores(train['Y'],rg.predict(train['X']))\n",
    "#error_test=0\n",
    "error_test = errores(test['Y'],rg.predict(test['X']))\n",
    "\n",
    "plt.show()\n",
    "\n",
    "print(\"El Error RMS del entreno es: \" + str(error_train['RMS']))\n",
    "print(\"El Error MBE del entreno es: \" + str(error_train['MBE']))\n",
    "print(\"El P-Value del entreno es: \" + str(error_train['P-Value']))\n",
    "print('')\n",
    "print(\"El Error RMS de la prueba es: \" + str(error_test['RMS']))\n",
    "print(\"El Error MBE de la prueba es: \" + str(error_test['MBE']))\n",
    "print(\"El P-Value de la prueba es: \" + str(error_test['P-Value']))"
   ]
  },
  {
   "cell_type": "code",
   "execution_count": null,
   "metadata": {
    "collapsed": true
   },
   "outputs": [],
   "source": [
    "y_1=price[2509-30:2509]\n",
    "preprice =price[2509-1-30:2509-1]\n",
    "plt.plot(y_1[-30:])\n",
    "prct = rg.predict(test[\"X\"])/100+1\n",
    "#prct = test[\"Y\"]/100+1\n",
    "#prct = cal_porcentaje(prct)\n",
    "\n",
    "y_2 = preprice*prct\n",
    "plt.plot(y_2)\n",
    "plt.show()\n",
    "\n",
    "error = errores(y_1,y_2)\n",
    "print(\"El Error RMS de la prueba es: \" + str(error['RMS']))\n",
    "print(\"El Error MBE de la prueba es: \" + str(error['MBE']))\n",
    "print(\"El P-Value de la prueba es: \" + str(error['P-Value']))"
   ]
  },
  {
   "cell_type": "code",
   "execution_count": null,
   "metadata": {
    "collapsed": true
   },
   "outputs": [],
   "source": [
    "c= []\n",
    "a=[]\n",
    "for i in range (10,110,10):\n",
    "    for j in range (1,11):\n",
    "        a.append((i,j))\n",
    "\n",
    "parameters = {'hidden_layer_sizes':a}\n",
    "r = MLPRegressor(solver='adam')\n",
    "clf = GridSearchCV(r, parameters,scoring= 'neg_mean_squared_error', return_train_score= 'False')\n",
    "\n",
    "for i in range(20):\n",
    "    \n",
    "    with warnings.catch_warnings(record=True) as w:\n",
    "            warnings.simplefilter(\"always\")\n",
    "            clf.fit(train['X'], train['Y'])\n",
    "    c.append(clf.best_params_['hidden_layer_sizes'])\n",
    "    print('ok')\n",
    "    \n",
    "print(c)\n",
    "    \n",
    "n = c\n",
    "graph_comb(n)"
   ]
  },
  {
   "cell_type": "code",
   "execution_count": 14,
   "metadata": {},
   "outputs": [
    {
     "name": "stdout",
     "output_type": "stream",
     "text": [
      "ok\n",
      "ok\n",
      "ok\n",
      "ok\n",
      "ok\n",
      "ok\n",
      "ok\n",
      "ok\n",
      "ok\n",
      "ok\n",
      "ok\n",
      "ok\n",
      "ok\n",
      "ok\n",
      "ok\n",
      "ok\n",
      "ok\n",
      "ok\n",
      "ok\n",
      "ok\n",
      "[(70, 1), (90, 1), (30, 1), (30, 1), (40, 1), (80, 1), (70, 1), (70, 1), (60, 1), (100, 1), (70, 1), (90, 1), (50, 1), (20, 2), (50, 1), (100, 1), (90, 1), (90, 2), (70, 1), (30, 2)]\n"
     ]
    },
    {
     "data": {
      "image/png": "[encoded data removed]",
      "text/plain": [
       "<matplotlib.figure.Figure at 0x7fe2471caac8>"
      ]
     },
     "metadata": {},
     "output_type": "display_data"
    },
    {
     "name": "stdout",
     "output_type": "stream",
     "text": [
      "[array([20,  2]), array([30,  1]), array([30,  2]), array([40,  1]), array([50,  1]), array([60,  1]), array([70,  1]), array([80,  1]), array([90,  1]), array([90,  2]), array([100,   1])]\n",
      "[1, 2, 1, 1, 2, 1, 5, 1, 3, 1, 2]\n"
     ]
    }
   ],
   "source": [
    "c= []\n",
    "a=[]\n",
    "for i in range (10,110,10):\n",
    "    for j in range (1,11):\n",
    "        a.append((i,j))\n",
    "\n",
    "parameters = {'hidden_layer_sizes':a}\n",
    "r = MLPRegressor(solver='lbfgs',tol=0.000001)\n",
    "clf = GridSearchCV(r, parameters,scoring= 'neg_mean_squared_error', return_train_score= 'False')\n",
    "\n",
    "for i in range(20):\n",
    "    \n",
    "    with warnings.catch_warnings(record=True) as w:\n",
    "            warnings.simplefilter(\"always\")\n",
    "            clf.fit(train['X'], train['Y'])\n",
    "    c.append(clf.best_params_['hidden_layer_sizes'])\n",
    "    \n",
    "print(c)\n",
    "    \n",
    "n = c\n",
    "graph_comb(n)"
   ]
  },
  {
   "cell_type": "code",
   "execution_count": 48,
   "metadata": {},
   "outputs": [
    {
     "name": "stdout",
     "output_type": "stream",
     "text": [
      "(80, 7)\n",
      "3.177\n",
      "(100, 9)\n",
      "3.018\n",
      "(80, 8)\n",
      "3.241\n",
      "(80, 6)\n",
      "3.161\n",
      "(100, 9)\n",
      "2.919\n",
      "(90, 9)\n",
      "3.135\n",
      "(100, 9)\n",
      "3.062\n",
      "(80, 7)\n",
      "3.081\n",
      "(100, 5)\n",
      "3.132\n",
      "(80, 9)\n",
      "3.17\n",
      "(90, 9)\n",
      "3.176\n",
      "(100, 6)\n",
      "3.165\n",
      "(100, 5)\n",
      "3.171\n",
      "(100, 7)\n",
      "3.2\n",
      "(60, 8)\n",
      "3.184\n",
      "(90, 5)\n",
      "3.196\n",
      "(80, 5)\n",
      "3.019\n",
      "(100, 8)\n",
      "2.97\n",
      "(100, 9)\n",
      "3.042\n",
      "(100, 6)\n",
      "3.199\n"
     ]
    },
    {
     "data": {
      "image/png": "[encoded data removed]",
      "text/plain": [
       "<matplotlib.figure.Figure at 0x7fe23e6c9cf8>"
      ]
     },
     "metadata": {},
     "output_type": "display_data"
    },
    {
     "name": "stdout",
     "output_type": "stream",
     "text": [
      "[array([60,  8]), array([80,  5]), array([80,  6]), array([80,  7]), array([80,  8]), array([80,  9]), array([90,  5]), array([90,  9]), array([100,   5]), array([100,   6]), array([100,   7]), array([100,   8]), array([100,   9])]\n",
      "[1, 1, 1, 2, 1, 1, 1, 2, 2, 2, 1, 1, 4]\n"
     ]
    }
   ],
   "source": [
    "c= []\n",
    "conf = np.array([])\n",
    "rep = np.array([])\n",
    "for k in range(20):\n",
    "    menor = 1000\n",
    "    m=\"\"\n",
    "    error=10000\n",
    "    for i in range (10,110,10):\n",
    "        for j in range (1,10):\n",
    "\n",
    "            with warnings.catch_warnings(record=True) as w:\n",
    "                warnings.simplefilter(\"always\") \n",
    "                rg = MLPRegressor(hidden_layer_sizes=(i,j), max_iter= 200, activation=\"relu\",shuffle= False, solver= \"adam\",tol=0.000001)\n",
    "                rg.fit(train[\"X\"],train[\"Y\"])\n",
    "\n",
    "            if w==[]:\n",
    "                error = errores(train[\"Y\"],rg.predict(train[\"X\"]))[\"RMS\"]\n",
    "                #print(str(i)+ \",\"+str(j)+\" :\" + str(error))\n",
    "\n",
    "            if error<menor:\n",
    "                menor = error\n",
    "                m = (i,j)\n",
    "    c.append(m)\n",
    "    print(m)\n",
    "    print(error)\n",
    "\n",
    "n2 = c\n",
    "graph_comb(n2)"
   ]
  }
 ],
 "metadata": {
  "kernelspec": {
   "display_name": "Python 3",
   "language": "python",
   "name": "python3"
  },
  "language_info": {
   "codemirror_mode": {
    "name": "ipython",
    "version": 3
   },
   "file_extension": ".py",
   "mimetype": "text/x-python",
   "name": "python",
   "nbconvert_exporter": "python",
   "pygments_lexer": "ipython3",
   "version": "3.6.3"
  }
 },
 "nbformat": 4,
 "nbformat_minor": 2
}
