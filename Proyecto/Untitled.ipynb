{
 "cells": [
  {
   "cell_type": "code",
   "execution_count": 3,
   "metadata": {},
   "outputs": [
    {
     "name": "stdout",
     "output_type": "stream",
     "text": [
      "Populating the interactive namespace from numpy and matplotlib\n"
     ]
    }
   ],
   "source": [
    "%pylab inline\n",
    "from sklearn.neural_network import MLPRegressor\n"
   ]
  },
  {
   "cell_type": "code",
   "execution_count": 56,
   "metadata": {},
   "outputs": [
    {
     "name": "stdout",
     "output_type": "stream",
     "text": [
      "[[19, 11], [11, 2], [6, 3], [11, 12], [14, 7], [0, 10], [3, 2], [15, 6], [2, 17], [5, 4], [14, 5], [7, 1], [12, 13], [16, 12], [9, 16], [1, 0], [6, 17], [0, 16], [4, 16], [9, 0], [12, 11], [9, 15], [10, 19], [3, 1], [5, 9], [1, 11], [5, 1], [10, 13], [14, 19], [1, 14]]\n",
      "[30, 13, 9, 23, 21, 10, 5, 21, 19, 9, 19, 8, 25, 28, 25, 1, 23, 16, 20, 9, 23, 24, 29, 4, 14, 12, 6, 23, 33, 15]\n"
     ]
    }
   ],
   "source": [
    "X=[]\n",
    "Y =[]\n",
    "for i in range(30):\n",
    "    j1 = np.random.randint(20)\n",
    "    j2 = np.random.randint(20)\n",
    "    a = [j1,j2]\n",
    "    X.append(a)\n",
    "    b = a[0]+a[1]\n",
    "    Y.append(b)\n",
    "\n",
    "print(X)\n",
    "print(Y)"
   ]
  },
  {
   "cell_type": "code",
   "execution_count": 57,
   "metadata": {},
   "outputs": [],
   "source": [
    "X= np.array(X)\n",
    "Y =  np.array(Y)\n",
    "\n",
    "max1 = 0\n",
    "max2 = 0\n",
    "\n",
    "for j in range(len(X)):\n",
    "    \n",
    "    x1 = X[j][0]\n",
    "    x2 = X[j][1]\n",
    "    \n",
    "    if x1>max1:\n",
    "        max1 = x1\n",
    "        \n",
    "    if x2>max2:\n",
    "        max2 = x2\n"
   ]
  },
  {
   "cell_type": "code",
   "execution_count": 58,
   "metadata": {},
   "outputs": [
    {
     "name": "stdout",
     "output_type": "stream",
     "text": [
      "[[19 11]\n",
      " [11  2]\n",
      " [ 6  3]\n",
      " [11 12]\n",
      " [14  7]\n",
      " [ 0 10]\n",
      " [ 3  2]\n",
      " [15  6]\n",
      " [ 2 17]\n",
      " [ 5  4]\n",
      " [14  5]\n",
      " [ 7  1]\n",
      " [12 13]\n",
      " [16 12]\n",
      " [ 9 16]\n",
      " [ 1  0]\n",
      " [ 6 17]\n",
      " [ 0 16]\n",
      " [ 4 16]\n",
      " [ 9  0]\n",
      " [12 11]\n",
      " [ 9 15]\n",
      " [10 19]\n",
      " [ 3  1]\n",
      " [ 5  9]\n",
      " [ 1 11]\n",
      " [ 5  1]\n",
      " [10 13]\n",
      " [14 19]\n",
      " [ 1 14]]\n"
     ]
    }
   ],
   "source": [
    "X= X.reshape(30,2)\n",
    "print(X)"
   ]
  },
  {
   "cell_type": "code",
   "execution_count": 59,
   "metadata": {},
   "outputs": [
    {
     "data": {
      "text/plain": [
       "MLPRegressor(activation='relu', alpha=0.0001, batch_size='auto', beta_1=0.9,\n",
       "       beta_2=0.999, early_stopping=False, epsilon=1e-08,\n",
       "       hidden_layer_sizes=(100, 2), learning_rate='constant',\n",
       "       learning_rate_init=0.001, max_iter=200, momentum=0.9,\n",
       "       nesterovs_momentum=True, power_t=0.5, random_state=None,\n",
       "       shuffle=True, solver='adam', tol=0.0001, validation_fraction=0.1,\n",
       "       verbose=False, warm_start=False)"
      ]
     },
     "execution_count": 59,
     "metadata": {},
     "output_type": "execute_result"
    }
   ],
   "source": [
    "rg = MLPRegressor(hidden_layer_sizes=(100,2))\n",
    "rg.fit(X,Y)\n"
   ]
  },
  {
   "cell_type": "code",
   "execution_count": 71,
   "metadata": {},
   "outputs": [
    {
     "data": {
      "text/plain": [
       "array([ 28.99128414])"
      ]
     },
     "execution_count": 71,
     "metadata": {},
     "output_type": "execute_result"
    }
   ],
   "source": [
    "l =np.array([10,19]).reshape(-1,2)\n",
    "rg.predict(l)"
   ]
  }
 ],
 "metadata": {
  "kernelspec": {
   "display_name": "Python 3",
   "language": "python",
   "name": "python3"
  },
  "language_info": {
   "codemirror_mode": {
    "name": "ipython",
    "version": 3
   },
   "file_extension": ".py",
   "mimetype": "text/x-python",
   "name": "python",
   "nbconvert_exporter": "python",
   "pygments_lexer": "ipython3",
   "version": "3.6.3"
  }
 },
 "nbformat": 4,
 "nbformat_minor": 2
}
