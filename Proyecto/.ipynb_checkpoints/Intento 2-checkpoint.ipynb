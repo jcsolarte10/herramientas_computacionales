{
 "cells": [
  {
   "cell_type": "code",
   "execution_count": 1,
   "metadata": {},
   "outputs": [
    {
     "name": "stdout",
     "output_type": "stream",
     "text": [
      "Populating the interactive namespace from numpy and matplotlib\n"
     ]
    }
   ],
   "source": [
    "%pylab inline\n",
    "from datetime import date\n",
    "from datetime import datetime\n",
    "import os\n",
    "import pandas as pd\n",
    "from sklearn.neural_network import MLPRegressor\n",
    "from sklearn.metrics import mean_squared_error\n",
    "from sklearn.model_selection import GridSearchCV\n",
    "from scipy.stats import ks_2samp"
   ]
  },
  {
   "cell_type": "code",
   "execution_count": 18,
   "metadata": {
    "collapsed": true
   },
   "outputs": [],
   "source": [
    "#Funciones para crear matrices de entrenaminto y pruebas"
   ]
  },
  {
   "cell_type": "code",
   "execution_count": 67,
   "metadata": {
    "collapsed": true
   },
   "outputs": [],
   "source": [
    "def train_X_Y(dias, deltas, d_inicial,num_samples,num_features):    ##d_inicial : 0 a 2508\n",
    "    ##dias: vector de dia de la semana para cada dia (L=1...V=5)\n",
    "    ##precios: vector de pecios para cada dia\n",
    "    ##d_inicial: Primer dia del entrenamiento (0 a 2508) es num_features-1 dias antes que el primer Y de entrenamiento \n",
    "    ##num_samples: Número de muestras para entrenar \n",
    "    ##num_features: Número de parametros de entrenamiento (1+ número de dias con que se predice el precio)\n",
    "    \n",
    "    \n",
    "    \n",
    "    num_dias = num_features-1\n",
    "   \n",
    "    dias = dias[d_inicial+num_dias:d_inicial+num_dias+num_samples]\n",
    "    dias = dias.reshape(len(dias),1)\n",
    "    \n",
    "    d=deltas[d_inicial:d_inicial+num_samples]\n",
    "    \n",
    "    for i in range(d_inicial+1,d_inicial+num_dias):\n",
    "        m = deltas[i:i+num_samples]\n",
    "        d =  np.column_stack((d,m))\n",
    "            \n",
    "    X = np.column_stack((d,dias))\n",
    "             \n",
    "    Y = deltas[d_inicial+num_dias:d_inicial+num_dias+num_samples]\n",
    "    \n",
    "    assert (X.shape == (num_samples, num_features))\n",
    "    assert (Y.shape == (num_samples,))\n",
    "    \n",
    "    train = {\"X\": X,\n",
    "                \"Y\": Y\n",
    "            }\n",
    "    \n",
    "    return train\n",
    "\n",
    "\n",
    "\n",
    "def test_X_Y(dias, deltas, d_inicial,num_samples,num_features):\n",
    "    test = train_X_Y(dias, deltas, d_inicial,num_samples,num_features)\n",
    "    \n",
    "    return test\n",
    "\n",
    "def cal_porcentaje(porcentajes):\n",
    "    prcts=[]\n",
    "    acum = porcentajes[0]\n",
    "    prcts.append(acum)\n",
    "    for i in range(1,len(porcentajes)):\n",
    "        acum = acum*porcentajes[i]\n",
    "        prcts.append(acum)\n",
    "    \n",
    "    prcts = np.array(prcts)\n",
    "    return prcts\n",
    "\n",
    "def errores(Y_expected,Y_predict):\n",
    "    error_RMS= sqrt(mean_squared_error(Y_expected,Y_predict))\n",
    "    error_MBE= mean(Y_expected-Y_predict)\n",
    "    p_value = ks_2samp(Y_expected,Y_predict)[1]\n",
    "                    \n",
    "    error = {\"RMS\": error_RMS,\n",
    "             \"MBE\": error_MBE,\n",
    "             \"P-Value\": p_value\n",
    "            }\n",
    "    return error\n",
    "\n",
    "def RMS(Y_prdct,Y):\n",
    "    error = np.sqrt(sum((Y_prdct-Y)**2))/len(Y)\n",
    "    return error\n",
    "\n",
    "def graph_comb(values):\n",
    "    k=(np.msort(values))\n",
    "    a=[]\n",
    "    b=[]\n",
    "    i=0\n",
    "    while i in range (len(k)):\n",
    "        d = k[i]\n",
    "        a.append(d)\n",
    "        cnt=1\n",
    "        l = k[i+1:]\n",
    "        for j in range(len(l)):\n",
    "            if sum(l[j]==d)==2:\n",
    "                cnt= cnt+1\n",
    "            else:\n",
    "                j= len(l)\n",
    "        b.append(cnt)\n",
    "        i= i+cnt\n",
    "    \n",
    "    plt.bar(range(len(a)),b)\n",
    "    plt.plot()\n",
    "    plt.subplots_adjust(left=0.5, bottom=1, right=3, top=2)\n",
    "    plt.show()\n",
    "    print(a)"
   ]
  },
  {
   "cell_type": "code",
   "execution_count": null,
   "metadata": {
    "collapsed": true
   },
   "outputs": [],
   "source": [
    "## Poblando datos"
   ]
  },
  {
   "cell_type": "code",
   "execution_count": 20,
   "metadata": {
    "collapsed": true
   },
   "outputs": [],
   "source": [
    "datos_csv = os.path.join( '.','COLCAP.csv')\n",
    "datos_pd = pd.read_csv(datos_csv, sep = ',',\n",
    "                encoding='latin-1', parse_dates =[0], infer_datetime_format= True)"
   ]
  },
  {
   "cell_type": "code",
   "execution_count": 4,
   "metadata": {},
   "outputs": [
    {
     "data": {
      "text/html": [
       "<div>\n",
       "<style>\n",
       "    .dataframe thead tr:only-child th {\n",
       "        text-align: right;\n",
       "    }\n",
       "\n",
       "    .dataframe thead th {\n",
       "        text-align: left;\n",
       "    }\n",
       "\n",
       "    .dataframe tbody tr th {\n",
       "        vertical-align: top;\n",
       "    }\n",
       "</style>\n",
       "<table border=\"1\" class=\"dataframe\">\n",
       "  <thead>\n",
       "    <tr style=\"text-align: right;\">\n",
       "      <th></th>\n",
       "      <th>Fecha (dd/mm/aaaa)</th>\n",
       "      <th>Valor COLCAP</th>\n",
       "      <th>Variación absoluta</th>\n",
       "      <th>Variación porcentual</th>\n",
       "    </tr>\n",
       "  </thead>\n",
       "  <tbody>\n",
       "    <tr>\n",
       "      <th>0</th>\n",
       "      <td>2008-01-15</td>\n",
       "      <td>980.21</td>\n",
       "      <td>-19.7850</td>\n",
       "      <td>-1.9785%</td>\n",
       "    </tr>\n",
       "    <tr>\n",
       "      <th>1</th>\n",
       "      <td>2008-01-16</td>\n",
       "      <td>958.99</td>\n",
       "      <td>-21.2208</td>\n",
       "      <td>-2.1649%</td>\n",
       "    </tr>\n",
       "    <tr>\n",
       "      <th>2</th>\n",
       "      <td>2008-01-17</td>\n",
       "      <td>928.38</td>\n",
       "      <td>-30.6136</td>\n",
       "      <td>-3.1923%</td>\n",
       "    </tr>\n",
       "    <tr>\n",
       "      <th>3</th>\n",
       "      <td>2008-01-18</td>\n",
       "      <td>903.49</td>\n",
       "      <td>-24.8946</td>\n",
       "      <td>-2.6815%</td>\n",
       "    </tr>\n",
       "    <tr>\n",
       "      <th>4</th>\n",
       "      <td>2008-01-21</td>\n",
       "      <td>832.37</td>\n",
       "      <td>-71.1182</td>\n",
       "      <td>-7.8715%</td>\n",
       "    </tr>\n",
       "  </tbody>\n",
       "</table>\n",
       "</div>"
      ],
      "text/plain": [
       "  Fecha (dd/mm/aaaa) Valor COLCAP  Variación absoluta Variación porcentual\n",
       "0         2008-01-15       980.21            -19.7850             -1.9785%\n",
       "1         2008-01-16       958.99            -21.2208             -2.1649%\n",
       "2         2008-01-17       928.38            -30.6136             -3.1923%\n",
       "3         2008-01-18       903.49            -24.8946             -2.6815%\n",
       "4         2008-01-21       832.37            -71.1182             -7.8715%"
      ]
     },
     "execution_count": 4,
     "metadata": {},
     "output_type": "execute_result"
    }
   ],
   "source": [
    "datos_pd.head()"
   ]
  },
  {
   "cell_type": "code",
   "execution_count": 21,
   "metadata": {},
   "outputs": [
    {
     "data": {
      "text/plain": [
       "-0.021649238428500014"
      ]
     },
     "execution_count": 21,
     "metadata": {},
     "output_type": "execute_result"
    }
   ],
   "source": [
    "-21.2208/980.21"
   ]
  },
  {
   "cell_type": "code",
   "execution_count": 22,
   "metadata": {
    "collapsed": true
   },
   "outputs": [],
   "source": [
    "a=datos_pd[\"Fecha (dd/mm/aaaa)\"]\n",
    "\n",
    "dias = []\n",
    "\n",
    "for i in range(len(a)):\n",
    "    d = a[i].weekday() + 1\n",
    "    dias.append(d)\n",
    "    \n",
    "d = np.array(dias)"
   ]
  },
  {
   "cell_type": "code",
   "execution_count": 23,
   "metadata": {
    "collapsed": true
   },
   "outputs": [],
   "source": [
    "c = datos_pd[\"Valor COLCAP\"]\n",
    "c = np.array(c)\n",
    "for i in range(len(c)):\n",
    "    c[i] = c[i].replace(',',\"\")\n",
    "\n",
    "\n",
    "price=np.array(c, dtype= np.float64)"
   ]
  },
  {
   "cell_type": "code",
   "execution_count": 24,
   "metadata": {
    "collapsed": true
   },
   "outputs": [],
   "source": [
    "b = datos_pd[\"Variación porcentual\"]\n",
    "b = np.array(b)\n",
    "for i in range(len(b)):\n",
    "    b[i] = b[i].replace('%',\"\")\n",
    "\n",
    "\n",
    "p=np.array(b, dtype= np.float64)"
   ]
  },
  {
   "cell_type": "code",
   "execution_count": 25,
   "metadata": {
    "collapsed": true
   },
   "outputs": [],
   "source": [
    "price= price[:-1]"
   ]
  },
  {
   "cell_type": "code",
   "execution_count": null,
   "metadata": {
    "collapsed": true
   },
   "outputs": [],
   "source": [
    "## Prueba"
   ]
  },
  {
   "cell_type": "code",
   "execution_count": 26,
   "metadata": {
    "collapsed": true
   },
   "outputs": [],
   "source": [
    "#Definición de matrices de entreno\n",
    "train=train_X_Y(d,p,1400,1000,8)"
   ]
  },
  {
   "cell_type": "code",
   "execution_count": 27,
   "metadata": {
    "collapsed": true
   },
   "outputs": [],
   "source": [
    "#Definición de matrices de prueba\n",
    "test=test_X_Y(d,p,2450,30,8)"
   ]
  },
  {
   "cell_type": "code",
   "execution_count": 33,
   "metadata": {},
   "outputs": [
    {
     "name": "stdout",
     "output_type": "stream",
     "text": [
      "0.71855696235\n",
      "0.596245289341\n",
      "0.594972244657\n"
     ]
    }
   ],
   "source": [
    "#Entreno del sistema adam\n",
    "e = 10\n",
    "rg = None\n",
    "for l in range(10):\n",
    "    with warnings.catch_warnings(record=True) as w:\n",
    "        warnings.simplefilter(\"always\") \n",
    "        r = MLPRegressor(hidden_layer_sizes=(100,10), max_iter= 200, activation=\"relu\",shuffle= False, solver= \"adam\", warm_start=False )\n",
    "        r.fit(train[\"X\"],train[\"Y\"])\n",
    "    \n",
    "    if w==[]:\n",
    "        error = errores(train['Y'], r.predict(train['X']))['RMS']\n",
    "    else:\n",
    "        error= e\n",
    "    \n",
    "    if error<e:\n",
    "        e=error\n",
    "        rg=r\n",
    "        print(e)\n",
    "        "
   ]
  },
  {
   "cell_type": "code",
   "execution_count": 34,
   "metadata": {},
   "outputs": [
    {
     "name": "stdout",
     "output_type": "stream",
     "text": [
      "184\n",
      "0.594972244657\n"
     ]
    }
   ],
   "source": [
    "print(rg.n_iter_)\n",
    "print(e)"
   ]
  },
  {
   "cell_type": "code",
   "execution_count": 35,
   "metadata": {},
   "outputs": [
    {
     "data": {
      "image/png": "[encoded data removed]",
      "text/plain": [
       "<matplotlib.figure.Figure at 0x7f7750f88518>"
      ]
     },
     "metadata": {},
     "output_type": "display_data"
    },
    {
     "name": "stdout",
     "output_type": "stream",
     "text": [
      "El Error RMS del entreno es: 0.594972244657\n",
      "El Error MBE del entreno es: 0.0448969081805\n",
      "\n",
      "El Error RMS de la prueba es: 0.782907315901\n",
      "El Error MBE de la prueba es: 0.0873307825899\n"
     ]
    }
   ],
   "source": [
    "#Grafica de predicción y real\n",
    "y1 = np.array(test[\"Y\"])\n",
    "y2= np.array(rg.predict(test[\"X\"]))\n",
    "plt.plot(y1)\n",
    "plt.plot(y2)\n",
    "error_train = errores(train['Y'],rg.predict(train['X']))\n",
    "error_test = errores(test['Y'],rg.predict(test['X']))\n",
    "\n",
    "plt.show()\n",
    "\n",
    "print(\"El Error RMS del entreno es: \" + str(error_train['RMS']))\n",
    "print(\"El Error MBE del entreno es: \" + str(error_train['MBE']))\n",
    "print(\"El P-Value del entreno es: \" + str(error_train['P-Value']))\n",
    "print('')\n",
    "print(\"El Error RMS de la prueba es: \" + str(error_test['RMS']))\n",
    "print(\"El Error MBE de la prueba es: \" + str(error_test['MBE']))\n",
    "print(\"El P-Value de la prueba es: \" + str(error_test['P-Value']))"
   ]
  },
  {
   "cell_type": "code",
   "execution_count": 36,
   "metadata": {},
   "outputs": [
    {
     "data": {
      "image/png": "[encoded data removed]",
      "text/plain": [
       "<matplotlib.figure.Figure at 0x7f7750f87cf8>"
      ]
     },
     "metadata": {},
     "output_type": "display_data"
    },
    {
     "name": "stdout",
     "output_type": "stream",
     "text": [
      "El Error RMS de la prueba es: 0.782907315901\n",
      "El Error MBE de la prueba es: 0.0873307825899\n"
     ]
    }
   ],
   "source": [
    "y_1=price[2450+9:2450+30+9]\n",
    "preprice =price[2450+9-1:2450+30+9-1]\n",
    "plt.plot(y_1[-30:])\n",
    "prct = rg.predict(test[\"X\"])/100+1\n",
    "#prct = test[\"Y\"]/100+1\n",
    "#prct = cal_porcentaje(prct)\n",
    "\n",
    "y_2 = preprice*prct\n",
    "plt.plot(y_2[-30:])\n",
    "plt.show()\n",
    "\n",
    "error = errores(y1,y2)\n",
    "print(\"El Error RMS de la prueba es: \" + str(error['RMS']))\n",
    "print(\"El Error MBE de la prueba es: \" + str(error['MBE']))\n",
    "print(\"El P-Value de la prueba es: \" + str(error['P-Value']))"
   ]
  },
  {
   "cell_type": "code",
   "execution_count": 40,
   "metadata": {},
   "outputs": [
    {
     "name": "stdout",
     "output_type": "stream",
     "text": [
      "0.754579759203\n",
      "0.503949175028\n"
     ]
    }
   ],
   "source": [
    "#Entreno del sistema lbfgs\n",
    "e = 10\n",
    "rg = None\n",
    "for l in range(10):\n",
    "    with warnings.catch_warnings(record=True) as w:\n",
    "        warnings.simplefilter(\"always\") \n",
    "        r = MLPRegressor(hidden_layer_sizes=(90,3), max_iter= 200, activation=\"relu\",shuffle= False, solver= \"lbfgs\", warm_start=False, learning_rate= 'adaptive' )\n",
    "        r.fit(train[\"X\"],train[\"Y\"])\n",
    "        \n",
    "        \n",
    "    if w==[]:\n",
    "        error = errores(train['Y'], r.predict(train['X']))['RMS']\n",
    "    else:\n",
    "        error= e\n",
    "    \n",
    "    if error<e:\n",
    "        e=error\n",
    "        rg=r\n",
    "        print(e)\n",
    "        "
   ]
  },
  {
   "cell_type": "code",
   "execution_count": 41,
   "metadata": {},
   "outputs": [
    {
     "name": "stdout",
     "output_type": "stream",
     "text": [
      "201\n",
      "0.503949175028\n"
     ]
    }
   ],
   "source": [
    "print(rg.n_iter_)\n",
    "print(e)"
   ]
  },
  {
   "cell_type": "code",
   "execution_count": 43,
   "metadata": {},
   "outputs": [
    {
     "data": {
      "image/png": "[encoded data removed]",
      "text/plain": [
       "<matplotlib.figure.Figure at 0x7f77569299b0>"
      ]
     },
     "metadata": {},
     "output_type": "display_data"
    },
    {
     "name": "stdout",
     "output_type": "stream",
     "text": [
      "El Error RMS del entreno es: 0.503949175028\n",
      "El Error MBE del entreno es: 0.00281441784604\n",
      "\n",
      "El Error RMS de la prueba es: 0.9813230469\n",
      "El Error MBE de la prueba es: 0.128258785909\n"
     ]
    }
   ],
   "source": [
    "#Grafica de predicción y real\n",
    "y1 = np.array(test[\"Y\"])\n",
    "y2= np.array(rg.predict(test[\"X\"]))\n",
    "plt.plot(y1)\n",
    "plt.plot(y2)\n",
    "error_train = errores(train['Y'],rg.predict(train['X']))\n",
    "error_test = errores(test['Y'],rg.predict(test['X']))\n",
    "\n",
    "plt.show()\n",
    "\n",
    "print(\"El Error RMS del entreno es: \" + str(error_train['RMS']))\n",
    "print(\"El Error MBE del entreno es: \" + str(error_train['MBE']))\n",
    "print(\"El P-Value del entreno es: \" + str(error_train['P-Value']))\n",
    "print('')\n",
    "print(\"El Error RMS de la prueba es: \" + str(error_test['RMS']))\n",
    "print(\"El Error MBE de la prueba es: \" + str(error_test['MBE']))\n",
    "print(\"El P-Value de la prueba es: \" + str(error_test['P-Value']))"
   ]
  },
  {
   "cell_type": "code",
   "execution_count": 44,
   "metadata": {},
   "outputs": [
    {
     "data": {
      "image/png": "[encoded data removed]",
      "text/plain": [
       "<matplotlib.figure.Figure at 0x7f7750df9f98>"
      ]
     },
     "metadata": {},
     "output_type": "display_data"
    },
    {
     "name": "stdout",
     "output_type": "stream",
     "text": [
      "El Error RMS de la prueba es: 0.9813230469\n",
      "El Error MBE de la prueba es: 0.128258785909\n"
     ]
    }
   ],
   "source": [
    "y_1=price[2450+9:2450+30+9]\n",
    "preprice =price[2450+9-1:2450+30+9-1]\n",
    "plt.plot(y_1[-30:])\n",
    "prct = rg.predict(test[\"X\"])/100+1\n",
    "#prct = test[\"Y\"]/100+1\n",
    "#prct = cal_porcentaje(prct)\n",
    "\n",
    "y_2 = preprice*prct\n",
    "plt.plot(y_2[-30:])\n",
    "plt.show()\n",
    "\n",
    "error = errores(y1,y2)\n",
    "print(\"El Error RMS de la prueba es: \" + str(error['RMS']))\n",
    "print(\"El Error MBE de la prueba es: \" + str(error['MBE']))\n",
    "print(\"El P-Value de la prueba es: \" + str(error['P-Value']))"
   ]
  },
  {
   "cell_type": "code",
   "execution_count": 26,
   "metadata": {},
   "outputs": [
    {
     "data": {
      "text/plain": [
       "0.60558491142734461"
      ]
     },
     "execution_count": 26,
     "metadata": {},
     "output_type": "execute_result"
    }
   ],
   "source": [
    "#Prueba del modelo\n",
    "rg.score(train[\"X\"], train[\"Y\"])"
   ]
  },
  {
   "cell_type": "code",
   "execution_count": 27,
   "metadata": {},
   "outputs": [
    {
     "data": {
      "text/plain": [
       "-0.045992120210754495"
      ]
     },
     "execution_count": 27,
     "metadata": {},
     "output_type": "execute_result"
    }
   ],
   "source": [
    "rg.score(test[\"X\"], test[\"Y\"])"
   ]
  },
  {
   "cell_type": "code",
   "execution_count": 1,
   "metadata": {},
   "outputs": [
    {
     "ename": "NameError",
     "evalue": "name 'MLPRegressor' is not defined",
     "output_type": "error",
     "traceback": [
      "\u001b[0;31m---------------------------------------------------------------------------\u001b[0m",
      "\u001b[0;31mNameError\u001b[0m                                 Traceback (most recent call last)",
      "\u001b[0;32m<ipython-input-1-f13798c8a7d0>\u001b[0m in \u001b[0;36m<module>\u001b[0;34m()\u001b[0m\n\u001b[1;32m      6\u001b[0m \u001b[0;34m\u001b[0m\u001b[0m\n\u001b[1;32m      7\u001b[0m \u001b[0mparameters\u001b[0m \u001b[0;34m=\u001b[0m \u001b[0;34m{\u001b[0m\u001b[0;34m'hidden_layer_sizes'\u001b[0m\u001b[0;34m:\u001b[0m\u001b[0ma\u001b[0m\u001b[0;34m}\u001b[0m\u001b[0;34m\u001b[0m\u001b[0m\n\u001b[0;32m----> 8\u001b[0;31m \u001b[0mr\u001b[0m \u001b[0;34m=\u001b[0m \u001b[0mMLPRegressor\u001b[0m\u001b[0;34m(\u001b[0m\u001b[0msolver\u001b[0m\u001b[0;34m=\u001b[0m\u001b[0;34m'adam'\u001b[0m\u001b[0;34m)\u001b[0m\u001b[0;34m\u001b[0m\u001b[0m\n\u001b[0m\u001b[1;32m      9\u001b[0m \u001b[0mclf\u001b[0m \u001b[0;34m=\u001b[0m \u001b[0mGridSearchCV\u001b[0m\u001b[0;34m(\u001b[0m\u001b[0mr\u001b[0m\u001b[0;34m,\u001b[0m \u001b[0mparameters\u001b[0m\u001b[0;34m,\u001b[0m\u001b[0mscoring\u001b[0m\u001b[0;34m=\u001b[0m \u001b[0;34m'neg_mean_squared_error'\u001b[0m\u001b[0;34m,\u001b[0m \u001b[0mreturn_train_score\u001b[0m\u001b[0;34m=\u001b[0m \u001b[0;34m'False'\u001b[0m\u001b[0;34m)\u001b[0m\u001b[0;34m\u001b[0m\u001b[0m\n\u001b[1;32m     10\u001b[0m \u001b[0;34m\u001b[0m\u001b[0m\n",
      "\u001b[0;31mNameError\u001b[0m: name 'MLPRegressor' is not defined"
     ]
    }
   ],
   "source": [
    "c= []\n",
    "a=[]\n",
    "for i in range (10,110,10):\n",
    "    for j in range (1,11):\n",
    "        a.append((i,j))\n",
    "\n",
    "parameters = {'hidden_layer_sizes':a}\n",
    "r = MLPRegressor(solver='adam')\n",
    "clf = GridSearchCV(r, parameters,scoring= 'neg_mean_squared_error', return_train_score= 'False')\n",
    "\n",
    "for i in range(5):\n",
    "    \n",
    "    with warnings.catch_warnings(record=True) as w:\n",
    "            warnings.simplefilter(\"always\")\n",
    "            clf.fit(train['X'], train['Y'])\n",
    "    c.append(clf.best_params_['hidden_layer_sizes'])\n",
    "    \n",
    "    print(c)"
   ]
  },
  {
   "cell_type": "code",
   "execution_count": 132,
   "metadata": {},
   "outputs": [
    {
     "name": "stdout",
     "output_type": "stream",
     "text": [
      "10,1 :0.0150710999987\n"
     ]
    }
   ],
   "source": [
    "a=0\n",
    "conf = np.array([])\n",
    "rep = np.array([])\n",
    "for k in range(1):\n",
    "    menor = 1000\n",
    "    m=\"\"\n",
    "    for i in range (10,110,10):\n",
    "        for j in range (1,11):\n",
    "\n",
    "            with warnings.catch_warnings(record=True) as w:\n",
    "                warnings.simplefilter(\"always\") \n",
    "                rg = MLPRegressor(hidden_layer_sizes=(i,j), max_iter= 200, activation=\"relu\",shuffle= False, solver= \"adam\",tol=0.000001)\n",
    "                rg.fit(train[\"X\"],train[\"Y\"])\n",
    "\n",
    "            if w==[]:\n",
    "                error = error_RMS(train['X'],train['Y'],rg)\n",
    "                #print(str(i)+ \",\"+str(j)+\" :\" + str(error))\n",
    "\n",
    "            if error<menor:\n",
    "                menor = error\n",
    "                m = str(i)+ \",\"+str(j) \n",
    "                \n",
    "    print(m + \" :\" + str(menor))"
   ]
  },
  {
   "cell_type": "code",
   "execution_count": null,
   "metadata": {
    "collapsed": true
   },
   "outputs": [],
   "source": [
    "x = np.arange(1,len(conf)+1)\n",
    "plt.bar(x,rep,tick_label=conf)\n",
    "plt.plot()\n",
    "plt.subplots_adjust(left=0.5, bottom=1, right=3, top=2)\n",
    "plt.show()"
   ]
  },
  {
   "cell_type": "code",
   "execution_count": null,
   "metadata": {
    "collapsed": true
   },
   "outputs": [],
   "source": []
  },
  {
   "cell_type": "code",
   "execution_count": null,
   "metadata": {
    "collapsed": true
   },
   "outputs": [],
   "source": []
  },
  {
   "cell_type": "code",
   "execution_count": null,
   "metadata": {
    "collapsed": true
   },
   "outputs": [],
   "source": [
    "## 70,5; 100,4 ha demostrado se robusto"
   ]
  },
  {
   "cell_type": "markdown",
   "metadata": {},
   "source": [
    "100,4: 0.875152938321\n",
    "\n",
    "80,5: 0.906159720869\n",
    "40,2: 0.87019985029\n",
    "\n",
    "40,5: 0.92095431876\n",
    "\n",
    "10,8: 0.902660282298\n",
    "\n",
    "\n",
    "\n",
    "\n",
    "\n",
    "10,9: 0.912546525051\n",
    "\n",
    "10,10: 0.898967559595\n",
    "\n",
    "10,10: 0.912162930144\n",
    "\n",
    "100,5: 0.894026533104\n",
    "\n",
    "40,5: 0.896936773488\n"
   ]
  },
  {
   "cell_type": "code",
   "execution_count": 68,
   "metadata": {},
   "outputs": [
    {
     "data": {
      "image/png": "[encoded data removed]",
      "text/plain": [
       "<matplotlib.figure.Figure at 0x7f3b555aae48>"
      ]
     },
     "metadata": {},
     "output_type": "display_data"
    },
    {
     "name": "stdout",
     "output_type": "stream",
     "text": [
      "[array([10,  3]), array([10,  5]), array([10,  6]), array([10,  7]), array([10,  8]), array([20,  9]), array([30, 10])]\n"
     ]
    }
   ],
   "source": [
    "n = np.array([(10,8),(10,3),(10,8),(10,5),(10,9),(10,6),(10,7),(30,5),(10,10),(20,5)])\n",
    "graph_comb(n)"
   ]
  }
 ],
 "metadata": {
  "kernelspec": {
   "display_name": "Python 3",
   "language": "python",
   "name": "python3"
  },
  "language_info": {
   "codemirror_mode": {
    "name": "ipython",
    "version": 3
   },
   "file_extension": ".py",
   "mimetype": "text/x-python",
   "name": "python",
   "nbconvert_exporter": "python",
   "pygments_lexer": "ipython3",
   "version": "3.6.3"
  }
 },
 "nbformat": 4,
 "nbformat_minor": 2
}
