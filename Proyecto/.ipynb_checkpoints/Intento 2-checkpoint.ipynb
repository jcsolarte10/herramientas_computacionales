{
 "cells": [
  {
   "cell_type": "code",
   "execution_count": 34,
   "metadata": {},
   "outputs": [
    {
     "name": "stdout",
     "output_type": "stream",
     "text": [
      "Populating the interactive namespace from numpy and matplotlib\n"
     ]
    },
    {
     "name": "stderr",
     "output_type": "stream",
     "text": [
      "/home/juanchosol1996/anaconda3/lib/python3.6/site-packages/IPython/core/magics/pylab.py:160: UserWarning: pylab import has clobbered these variables: ['test', 'clf', 'e', 'datetime']\n",
      "`%matplotlib` prevents importing * from pylab and numpy\n",
      "  \"\\n`%matplotlib` prevents importing * from pylab and numpy\"\n"
     ]
    }
   ],
   "source": [
    "%pylab inline\n",
    "from datetime import date\n",
    "from datetime import datetime\n",
    "import os\n",
    "import pandas as pd\n",
    "from sklearn.neural_network import MLPRegressor\n",
    "from sklearn.metrics import mean_squared_error\n",
    "from sklearn.model_selection import GridSearchCV\n",
    "from scipy.stats import ks_2samp"
   ]
  },
  {
   "cell_type": "code",
   "execution_count": 36,
   "metadata": {
    "collapsed": true
   },
   "outputs": [],
   "source": [
    "n1 = np.array([(10,3),(50,1),(80,1)])\n",
    "n2 = np.array([(20,1),(80,1),(80,10)])\n",
    "arqs ={\"adam\": n1,\n",
    "      \"lbfgs\":n2\n",
    "}\n",
    "\n",
    "n1_10 = np.array([])\n",
    "n2_10 = np.array([])\n",
    "arqs10 ={\"adam\": n1_10,\n",
    "      \"lbfgs\":n2_10\n",
    "}\n"
   ]
  },
  {
   "cell_type": "code",
   "execution_count": 18,
   "metadata": {
    "collapsed": true
   },
   "outputs": [],
   "source": [
    "#Funciones para crear matrices de entrenaminto y pruebas"
   ]
  },
  {
   "cell_type": "code",
   "execution_count": 35,
   "metadata": {
    "collapsed": true
   },
   "outputs": [],
   "source": [
    "def train_X_Y(dias, deltas, d_inicial,num_samples,num_features):    ##d_inicial : 0 a 2508\n",
    "    ##dias: vector de dia de la semana para cada dia (L=1...V=5)\n",
    "    ##precios: vector de pecios para cada dia\n",
    "    ##d_inicial: Primer dia del entrenamiento (0 a 2508) es num_features-1 dias antes que el primer Y de entrenamiento \n",
    "    ##num_samples: Número de muestras para entrenar \n",
    "    ##num_features: Número de parametros de entrenamiento (1+ número de dias con que se predice el precio)\n",
    "    \n",
    "    \n",
    "    \n",
    "    num_dias = num_features-1\n",
    "   \n",
    "    dias = dias[d_inicial+num_dias:d_inicial+num_dias+num_samples]\n",
    "    dias = dias.reshape(len(dias),1)\n",
    "    \n",
    "    d=deltas[d_inicial:d_inicial+num_samples]\n",
    "    \n",
    "    for i in range(d_inicial+1,d_inicial+num_dias):\n",
    "        m = deltas[i:i+num_samples]\n",
    "        d =  np.column_stack((d,m))\n",
    "            \n",
    "    X = np.column_stack((d,dias))\n",
    "             \n",
    "    Y = deltas[d_inicial+num_dias:d_inicial+num_dias+num_samples]\n",
    "    \n",
    "    assert (X.shape == (num_samples, num_features))\n",
    "    assert (Y.shape == (num_samples,))\n",
    "    \n",
    "    train = {\"X\": X,\n",
    "                \"Y\": Y\n",
    "            }\n",
    "    \n",
    "    return train\n",
    "\n",
    "\n",
    "\n",
    "def test_X_Y(dias, deltas, d_inicial,num_samples,num_features):\n",
    "    test = train_X_Y(dias, deltas, d_inicial,num_samples,num_features)\n",
    "    \n",
    "    return test\n",
    "\n",
    "def cal_porcentaje(porcentajes):\n",
    "    prcts=[]\n",
    "    acum = porcentajes[0]\n",
    "    prcts.append(acum)\n",
    "    for i in range(1,len(porcentajes)):\n",
    "        acum = acum*porcentajes[i]\n",
    "        prcts.append(acum)\n",
    "    \n",
    "    prcts = np.array(prcts)\n",
    "    return prcts\n",
    "\n",
    "def errores(Y_expected,Y_predict):\n",
    "    error_RMS= sqrt(mean_squared_error(Y_expected,Y_predict))\n",
    "    error_MBE= mean(Y_expected-Y_predict)\n",
    "    p_value = ks_2samp(Y_expected,Y_predict)[1]\n",
    "                    \n",
    "    error = {\"RMS\": error_RMS,\n",
    "             \"MBE\": error_MBE,\n",
    "             \"P-Value\": p_value\n",
    "            }\n",
    "    return error\n",
    "\n",
    "def RMS(Y_prdct,Y):\n",
    "    error = np.sqrt(sum((Y_prdct-Y)**2))/len(Y)\n",
    "    return error\n",
    "\n",
    "def graph_comb(values):\n",
    "    k= np.array(values)\n",
    "    sw = True\n",
    "\n",
    "    while sw == True:\n",
    "        sw = False\n",
    "        for i in range(len(k)-1):\n",
    "            temp1 = list(k[i])\n",
    "            temp2 = list(k[i+1])\n",
    "            if temp2[0]<temp1[0]:\n",
    "                k[i]=temp2\n",
    "                k[i+1]=temp1\n",
    "                sw=True\n",
    "\n",
    "            if temp2[0]==temp1[0]:\n",
    "                if temp2[1]<temp1[1]:\n",
    "                    k[i]=temp2\n",
    "                    k[i+1]=temp1\n",
    "                    sw=True\n",
    "    a=[]\n",
    "    b=[]\n",
    "    i=0\n",
    "    while i in range (len(k)):\n",
    "        d = k[i]\n",
    "        a.append(d)\n",
    "        cnt=1\n",
    "        l = k[i+1:]\n",
    "        for j in range(len(l)):\n",
    "            if sum(l[j]==d)==2:\n",
    "                cnt= cnt+1\n",
    "            else:\n",
    "                j= len(l)\n",
    "        b.append(cnt)\n",
    "        i= i+cnt\n",
    "    \n",
    "    plt.bar(range(len(a)),b)\n",
    "    plt.plot()\n",
    "    plt.subplots_adjust(left=0.5, bottom=1, right=3, top=2)\n",
    "    plt.show()\n",
    "    print(a)\n",
    "    print(b)"
   ]
  },
  {
   "cell_type": "code",
   "execution_count": null,
   "metadata": {
    "collapsed": true
   },
   "outputs": [],
   "source": [
    "## Poblando datos"
   ]
  },
  {
   "cell_type": "code",
   "execution_count": 37,
   "metadata": {
    "collapsed": true
   },
   "outputs": [],
   "source": [
    "datos_csv = os.path.join( '.','COLCAP.csv')\n",
    "datos_pd = pd.read_csv(datos_csv, sep = ',',\n",
    "                encoding='latin-1', parse_dates =[0], infer_datetime_format= True)"
   ]
  },
  {
   "cell_type": "code",
   "execution_count": 38,
   "metadata": {
    "collapsed": true
   },
   "outputs": [],
   "source": [
    "a=datos_pd[\"Fecha (dd/mm/aaaa)\"]\n",
    "\n",
    "dias = []\n",
    "\n",
    "for i in range(len(a)):\n",
    "    d = a[i].weekday() + 1\n",
    "    dias.append(d)\n",
    "    \n",
    "d = np.array(dias)"
   ]
  },
  {
   "cell_type": "code",
   "execution_count": 39,
   "metadata": {
    "collapsed": true
   },
   "outputs": [],
   "source": [
    "c = datos_pd[\"Valor COLCAP\"]\n",
    "c = np.array(c)\n",
    "for i in range(len(c)):\n",
    "    c[i] = c[i].replace(',',\"\")\n",
    "\n",
    "\n",
    "price=np.array(c, dtype= np.float64)"
   ]
  },
  {
   "cell_type": "code",
   "execution_count": 40,
   "metadata": {
    "collapsed": true
   },
   "outputs": [],
   "source": [
    "b = datos_pd[\"Variación porcentual\"]\n",
    "b = np.array(b)\n",
    "for i in range(len(b)):\n",
    "    b[i] = b[i].replace('%',\"\")\n",
    "\n",
    "\n",
    "p=np.array(b, dtype= np.float64)"
   ]
  },
  {
   "cell_type": "code",
   "execution_count": 41,
   "metadata": {},
   "outputs": [
    {
     "data": {
      "text/plain": [
       "2509"
      ]
     },
     "execution_count": 41,
     "metadata": {},
     "output_type": "execute_result"
    }
   ],
   "source": [
    "len(price)"
   ]
  },
  {
   "cell_type": "code",
   "execution_count": null,
   "metadata": {
    "collapsed": true
   },
   "outputs": [],
   "source": [
    "## Prueba"
   ]
  },
  {
   "cell_type": "code",
   "execution_count": 44,
   "metadata": {
    "collapsed": true
   },
   "outputs": [],
   "source": [
    "## Definición de matrices de entreno\n",
    "train=train_X_Y(d,p,1207,1000,6)"
   ]
  },
  {
   "cell_type": "code",
   "execution_count": 46,
   "metadata": {
    "collapsed": true
   },
   "outputs": [],
   "source": [
    "#Definición de matrices de prueba\n",
    "test=test_X_Y(d,p,2509-30-5,30,6)"
   ]
  },
  {
   "cell_type": "code",
   "execution_count": 50,
   "metadata": {},
   "outputs": [
    {
     "name": "stdout",
     "output_type": "stream",
     "text": [
      "3.25499942648\n",
      "3.22216883758\n"
     ]
    }
   ],
   "source": [
    "#Entreno del sistema adam\n",
    "e = 10\n",
    "rg = None\n",
    "for l in range(10):\n",
    "    with warnings.catch_warnings(record=True) as w:\n",
    "        warnings.simplefilter(\"always\") \n",
    "        r = MLPRegressor(hidden_layer_sizes=(50,1), max_iter= 200, activation=\"relu\",shuffle= False, solver= \"adam\", warm_start=False )\n",
    "        r.fit(train[\"X\"],train[\"Y\"])\n",
    "    \n",
    "    if w==[]:\n",
    "        error = errores(train['Y'], r.predict(train['X']))['RMS']\n",
    "    else:\n",
    "        error= e\n",
    "    \n",
    "    if error<e:\n",
    "        e=error\n",
    "        rg=r\n",
    "        print(e)\n",
    "        "
   ]
  },
  {
   "cell_type": "code",
   "execution_count": 51,
   "metadata": {},
   "outputs": [
    {
     "name": "stdout",
     "output_type": "stream",
     "text": [
      "151\n",
      "3.22216883758\n"
     ]
    }
   ],
   "source": [
    "print(rg.n_iter_)\n",
    "print(e)"
   ]
  },
  {
   "cell_type": "code",
   "execution_count": 52,
   "metadata": {},
   "outputs": [
    {
     "data": {
      "image/png": "[encoded data removed]",
      "text/plain": [
       "<matplotlib.figure.Figure at 0x7fc43bc291d0>"
      ]
     },
     "metadata": {},
     "output_type": "display_data"
    },
    {
     "name": "stdout",
     "output_type": "stream",
     "text": [
      "El Error RMS del entreno es: 3.22216883758\n",
      "El Error MBE del entreno es: -0.00991524357947\n",
      "El P-Value del entreno es: 4.10940637155e-16\n",
      "\n",
      "El Error RMS de la prueba es: 0.919198790487\n",
      "El Error MBE de la prueba es: 0.277572585606\n",
      "El P-Value de la prueba es: 0.00460706543275\n"
     ]
    }
   ],
   "source": [
    "#Grafica de predicción y real\n",
    "y1 = np.array(test[\"Y\"])\n",
    "y2= np.array(rg.predict(test[\"X\"]))\n",
    "plt.plot(y1)\n",
    "plt.plot(y2)\n",
    "error_train = errores(train['Y'],rg.predict(train['X']))\n",
    "error_test = errores(test['Y'],rg.predict(test['X']))\n",
    "\n",
    "plt.show()\n",
    "\n",
    "print(\"El Error RMS del entreno es: \" + str(error_train['RMS']))\n",
    "print(\"El Error MBE del entreno es: \" + str(error_train['MBE']))\n",
    "print(\"El P-Value del entreno es: \" + str(error_train['P-Value']))\n",
    "print('')\n",
    "print(\"El Error RMS de la prueba es: \" + str(error_test['RMS']))\n",
    "print(\"El Error MBE de la prueba es: \" + str(error_test['MBE']))\n",
    "print(\"El P-Value de la prueba es: \" + str(error_test['P-Value']))"
   ]
  },
  {
   "cell_type": "code",
   "execution_count": 53,
   "metadata": {},
   "outputs": [
    {
     "data": {
      "image/png": "[encoded data removed]",
      "text/plain": [
       "<matplotlib.figure.Figure at 0x7fc43bc374a8>"
      ]
     },
     "metadata": {},
     "output_type": "display_data"
    },
    {
     "name": "stdout",
     "output_type": "stream",
     "text": [
      "El Error RMS de la prueba es: 13.9623508923\n",
      "El Error MBE de la prueba es: 4.10346619072\n",
      "El P-Value de la prueba es: 0.996969237305\n"
     ]
    }
   ],
   "source": [
    "y_1=price[2509-30:2509]\n",
    "preprice =price[2509-1-30:2509-1]\n",
    "plt.plot(y_1[-30:])\n",
    "prct = rg.predict(test[\"X\"])/100+1\n",
    "#prct = test[\"Y\"]/100+1\n",
    "#prct = cal_porcentaje(prct)\n",
    "\n",
    "y_2 = preprice*prct\n",
    "plt.plot(y_2)\n",
    "plt.show()\n",
    "\n",
    "error = errores(y_1,y_2)\n",
    "print(\"El Error RMS de la prueba es: \" + str(error['RMS']))\n",
    "print(\"El Error MBE de la prueba es: \" + str(error['MBE']))\n",
    "print(\"El P-Value de la prueba es: \" + str(error['P-Value']))"
   ]
  },
  {
   "cell_type": "code",
   "execution_count": 51,
   "metadata": {},
   "outputs": [
    {
     "name": "stdout",
     "output_type": "stream",
     "text": [
      "3.276405693\n",
      "3.27594164703\n",
      "3.27146510213\n"
     ]
    }
   ],
   "source": [
    "#Entreno del sistema lbfgs\n",
    "e = 10\n",
    "rg = None\n",
    "for l in range(10):\n",
    "    with warnings.catch_warnings(record=True) as w:\n",
    "        warnings.simplefilter(\"always\") \n",
    "        r = MLPRegressor(hidden_layer_sizes=(10,1), max_iter= 200, activation=\"relu\",shuffle= False, solver= \"lbfgs\", warm_start=False, learning_rate= 'adaptive' )\n",
    "        r.fit(train[\"X\"],train[\"Y\"])\n",
    "        \n",
    "        \n",
    "    if w==[]:\n",
    "        error = errores(train['Y'], r.predict(train['X']))['RMS']\n",
    "    else:\n",
    "        error= e\n",
    "    \n",
    "    if error<e:\n",
    "        e=error\n",
    "        rg=r\n",
    "        print(e)\n",
    "        "
   ]
  },
  {
   "cell_type": "code",
   "execution_count": 52,
   "metadata": {},
   "outputs": [
    {
     "name": "stdout",
     "output_type": "stream",
     "text": [
      "199\n",
      "3.27146510213\n"
     ]
    }
   ],
   "source": [
    "print(rg.n_iter_)\n",
    "print(e)"
   ]
  },
  {
   "cell_type": "code",
   "execution_count": 34,
   "metadata": {},
   "outputs": [
    {
     "data": {
      "image/png": "[encoded data removed]",
      "text/plain": [
       "<matplotlib.figure.Figure at 0x7f27c12a3cf8>"
      ]
     },
     "metadata": {},
     "output_type": "display_data"
    },
    {
     "name": "stdout",
     "output_type": "stream",
     "text": [
      "El Error RMS del entreno es: 0.480777133738\n",
      "El Error MBE del entreno es: 0.000534714906771\n",
      "El P-Value del entreno es: 0.000664415823175\n",
      "\n",
      "El Error RMS de la prueba es: 0.969550310066\n",
      "El Error MBE de la prueba es: -0.0331569716976\n",
      "El P-Value de la prueba es: 0.537199539407\n"
     ]
    }
   ],
   "source": [
    "#Grafica de predicción y real\n",
    "y1 = np.array(test[\"Y\"])\n",
    "y2= np.array(rg.predict(test[\"X\"]))\n",
    "plt.plot(y1)\n",
    "plt.plot(y2)\n",
    "error_train = errores(train['Y'],rg.predict(train['X']))\n",
    "#error_test=0\n",
    "error_test = errores(test['Y'],rg.predict(test['X']))\n",
    "\n",
    "plt.show()\n",
    "\n",
    "print(\"El Error RMS del entreno es: \" + str(error_train['RMS']))\n",
    "print(\"El Error MBE del entreno es: \" + str(error_train['MBE']))\n",
    "print(\"El P-Value del entreno es: \" + str(error_train['P-Value']))\n",
    "print('')\n",
    "print(\"El Error RMS de la prueba es: \" + str(error_test['RMS']))\n",
    "print(\"El Error MBE de la prueba es: \" + str(error_test['MBE']))\n",
    "print(\"El P-Value de la prueba es: \" + str(error_test['P-Value']))"
   ]
  },
  {
   "cell_type": "code",
   "execution_count": 61,
   "metadata": {},
   "outputs": [
    {
     "data": {
      "image/png": "[encoded data removed]",
      "text/plain": [
       "<matplotlib.figure.Figure at 0x7f27c0e7ac88>"
      ]
     },
     "metadata": {},
     "output_type": "display_data"
    },
    {
     "name": "stdout",
     "output_type": "stream",
     "text": [
      "El Error RMS de la prueba es: 12.6704680296\n",
      "El Error MBE de la prueba es: 4.29701607329\n",
      "El P-Value de la prueba es: 0.996969237305\n"
     ]
    }
   ],
   "source": [
    "y_1=price[2509-30:2509]\n",
    "preprice =price[2509-1-30:2509-1]\n",
    "plt.plot(y_1[-30:])\n",
    "prct = rg.predict(test[\"X\"])/100+1\n",
    "#prct = test[\"Y\"]/100+1\n",
    "#prct = cal_porcentaje(prct)\n",
    "\n",
    "y_2 = preprice*prct\n",
    "plt.plot(y_2)\n",
    "plt.show()\n",
    "\n",
    "error = errores(y_1,y_2)\n",
    "print(\"El Error RMS de la prueba es: \" + str(error['RMS']))\n",
    "print(\"El Error MBE de la prueba es: \" + str(error['MBE']))\n",
    "print(\"El P-Value de la prueba es: \" + str(error['P-Value']))"
   ]
  },
  {
   "cell_type": "code",
   "execution_count": 36,
   "metadata": {},
   "outputs": [
    {
     "data": {
      "text/plain": [
       "array([ 0.5656, -0.2981,  0.917 , -0.291 ,  0.4193, -0.3295,  0.1115,\n",
       "        0.5173,  0.4563,  0.0261, -0.5024, -0.5489, -2.5189, -0.8151,\n",
       "       -0.6752,  0.9235,  0.3878, -0.12  ,  0.0373,  0.5284, -0.2173,\n",
       "       -0.7627, -0.2603,  0.235 ,  0.5814,  0.0772,  0.6189, -1.1837,\n",
       "       -0.6388,  0.684 ])"
      ]
     },
     "execution_count": 36,
     "metadata": {},
     "output_type": "execute_result"
    }
   ],
   "source": [
    "y1"
   ]
  },
  {
   "cell_type": "code",
   "execution_count": 16,
   "metadata": {},
   "outputs": [
    {
     "data": {
      "text/plain": [
       "0.55045548093061836"
      ]
     },
     "execution_count": 16,
     "metadata": {},
     "output_type": "execute_result"
    }
   ],
   "source": [
    "#Prueba del modelo\n",
    "rg.score(train[\"X\"], train[\"Y\"])"
   ]
  },
  {
   "cell_type": "code",
   "execution_count": 17,
   "metadata": {},
   "outputs": [
    {
     "data": {
      "text/plain": [
       "-0.30519954568611229"
      ]
     },
     "execution_count": 17,
     "metadata": {},
     "output_type": "execute_result"
    }
   ],
   "source": [
    "rg.score(test[\"X\"], test[\"Y\"])"
   ]
  },
  {
   "cell_type": "code",
   "execution_count": 55,
   "metadata": {},
   "outputs": [
    {
     "name": "stdout",
     "output_type": "stream",
     "text": [
      "[(50, 1), (40, 2), (20, 3), (50, 1), (20, 2), (10, 1), (100, 1), (80, 1), (10, 3), (100, 1), (60, 1), (70, 1), (80, 1), (10, 2), (80, 1), (70, 4), (80, 1), (10, 3), (50, 2), (30, 1)]\n"
     ]
    },
    {
     "data": {
      "image/png": "[encoded data removed]",
      "text/plain": [
       "<matplotlib.figure.Figure at 0x7fc43bb4e438>"
      ]
     },
     "metadata": {},
     "output_type": "display_data"
    },
    {
     "name": "stdout",
     "output_type": "stream",
     "text": [
      "[array([10,  1]), array([10,  2]), array([10,  3]), array([20,  2]), array([20,  3]), array([30,  1]), array([40,  2]), array([50,  1]), array([50,  2]), array([60,  1]), array([70,  1]), array([70,  4]), array([80,  1]), array([100,   1])]\n",
      "[1, 1, 2, 1, 1, 1, 1, 2, 1, 1, 1, 1, 4, 2]\n"
     ]
    }
   ],
   "source": [
    "c= []\n",
    "a=[]\n",
    "for i in range (10,110,10):\n",
    "    for j in range (1,11):\n",
    "        a.append((i,j))\n",
    "\n",
    "parameters = {'hidden_layer_sizes':a}\n",
    "r = MLPRegressor(solver='adam')\n",
    "clf = GridSearchCV(r, parameters,scoring= 'neg_mean_squared_error', return_train_score= 'False')\n",
    "\n",
    "for i in range(20):\n",
    "    \n",
    "    with warnings.catch_warnings(record=True) as w:\n",
    "            warnings.simplefilter(\"always\")\n",
    "            clf.fit(train['X'], train['Y'])\n",
    "    c.append(clf.best_params_['hidden_layer_sizes'])\n",
    "    \n",
    "print(c)\n",
    "    \n",
    "n = c\n",
    "graph_comb(n)"
   ]
  },
  {
   "cell_type": "code",
   "execution_count": 56,
   "metadata": {},
   "outputs": [
    {
     "name": "stdout",
     "output_type": "stream",
     "text": [
      "End\n",
      "Begin\n"
     ]
    }
   ],
   "source": [
    "import time\n",
    "print(\"End\")\n",
    "time.sleep(120)\n",
    "print(\"Begin\")"
   ]
  },
  {
   "cell_type": "code",
   "execution_count": 58,
   "metadata": {},
   "outputs": [
    {
     "name": "stdout",
     "output_type": "stream",
     "text": [
      "[(20, 1), (100, 1), (20, 1), (20, 1), (90, 1), (80, 1), (60, 1), (20, 1), (80, 1), (40, 1)]\n"
     ]
    },
    {
     "data": {
      "image/png": "[encoded data removed]",
      "text/plain": [
       "<matplotlib.figure.Figure at 0x7fc43bb97ba8>"
      ]
     },
     "metadata": {},
     "output_type": "display_data"
    },
    {
     "name": "stdout",
     "output_type": "stream",
     "text": [
      "[array([20,  1]), array([40,  1]), array([60,  1]), array([80,  1]), array([90,  1]), array([100,   1])]\n",
      "[4, 1, 1, 2, 1, 1]\n"
     ]
    }
   ],
   "source": [
    "c= []\n",
    "a=[]\n",
    "for i in range (10,110,10):\n",
    "    for j in range (1,11):\n",
    "        a.append((i,j))\n",
    "\n",
    "parameters = {'hidden_layer_sizes':a}\n",
    "r = MLPRegressor(solver='lbfgs')\n",
    "clf = GridSearchCV(r, parameters,scoring= 'neg_mean_squared_error', return_train_score= 'False')\n",
    "\n",
    "for i in range(10):\n",
    "    \n",
    "    with warnings.catch_warnings(record=True) as w:\n",
    "            warnings.simplefilter(\"always\")\n",
    "            clf.fit(train['X'], train['Y'])\n",
    "    c.append(clf.best_params_['hidden_layer_sizes'])\n",
    "    \n",
    "print(c)\n",
    "    \n",
    "n = c\n",
    "graph_comb(n)"
   ]
  },
  {
   "cell_type": "code",
   "execution_count": 60,
   "metadata": {},
   "outputs": [
    {
     "data": {
      "text/plain": [
       "(20, 1)"
      ]
     },
     "execution_count": 60,
     "metadata": {},
     "output_type": "execute_result"
    }
   ],
   "source": [
    "c[3]"
   ]
  },
  {
   "cell_type": "code",
   "execution_count": 59,
   "metadata": {},
   "outputs": [
    {
     "name": "stdout",
     "output_type": "stream",
     "text": [
      "90,10 :0.84264804288\n",
      "40,8 :0.851207933831\n",
      "80,10 :0.807113384015\n",
      "20,9 :0.867382606978\n",
      "80,6 :0.849365377223\n"
     ]
    }
   ],
   "source": [
    "a=0\n",
    "conf = np.array([])\n",
    "rep = np.array([])\n",
    "for k in range(5):\n",
    "    menor = 1000\n",
    "    m=\"\"\n",
    "    for i in range (10,110,10):\n",
    "        for j in range (1,11):\n",
    "\n",
    "            with warnings.catch_warnings(record=True) as w:\n",
    "                warnings.simplefilter(\"always\") \n",
    "                rg = MLPRegressor(hidden_layer_sizes=(i,j), max_iter= 200, activation=\"relu\",shuffle= False, solver= \"lbfgs\",tol=0.000001)\n",
    "                rg.fit(train[\"X\"],train[\"Y\"])\n",
    "\n",
    "            if w==[]:\n",
    "                error = errores(train[\"Y\"],rg.predict(train[\"X\"]))[\"RMS\"]\n",
    "                #print(str(i)+ \",\"+str(j)+\" :\" + str(error))\n",
    "\n",
    "            if error<menor:\n",
    "                menor = error\n",
    "                m = str(i)+ \",\"+str(j) \n",
    "                \n",
    "    print(m + \" :\" + str(menor))"
   ]
  },
  {
   "cell_type": "code",
   "execution_count": null,
   "metadata": {
    "collapsed": true
   },
   "outputs": [],
   "source": [
    "x = np.arange(1,len(conf)+1)\n",
    "plt.bar(x,rep,tick_label=conf)\n",
    "plt.plot()\n",
    "plt.subplots_adjust(left=0.5, bottom=1, right=3, top=2)\n",
    "plt.show()"
   ]
  },
  {
   "cell_type": "code",
   "execution_count": null,
   "metadata": {
    "collapsed": true
   },
   "outputs": [],
   "source": []
  },
  {
   "cell_type": "code",
   "execution_count": null,
   "metadata": {
    "collapsed": true
   },
   "outputs": [],
   "source": []
  },
  {
   "cell_type": "code",
   "execution_count": null,
   "metadata": {
    "collapsed": true
   },
   "outputs": [],
   "source": [
    "## 70,5; 100,4 ha demostrado se robusto"
   ]
  },
  {
   "cell_type": "markdown",
   "metadata": {},
   "source": [
    "100,4: 0.875152938321\n",
    "\n",
    "80,5: 0.906159720869\n",
    "40,2: 0.87019985029\n",
    "\n",
    "40,5: 0.92095431876\n",
    "\n",
    "10,8: 0.902660282298\n",
    "\n",
    "\n",
    "\n",
    "\n",
    "\n",
    "10,9: 0.912546525051\n",
    "\n",
    "10,10: 0.898967559595\n",
    "\n",
    "10,10: 0.912162930144\n",
    "\n",
    "100,5: 0.894026533104\n",
    "\n",
    "40,5: 0.896936773488\n"
   ]
  },
  {
   "cell_type": "code",
   "execution_count": 54,
   "metadata": {},
   "outputs": [
    {
     "data": {
      "image/png": "[encoded data removed]",
      "text/plain": [
       "<matplotlib.figure.Figure at 0x7fc43bc1fe80>"
      ]
     },
     "metadata": {},
     "output_type": "display_data"
    },
    {
     "name": "stdout",
     "output_type": "stream",
     "text": [
      "[array([10,  3]), array([10,  5]), array([10,  6]), array([10,  7]), array([10,  8]), array([10,  9]), array([10, 10]), array([20,  5]), array([30,  5])]\n",
      "[1, 1, 1, 1, 2, 1, 1, 1, 1]\n"
     ]
    }
   ],
   "source": [
    "n = np.array([(10,8),(10,3),(10,8),(10,5),(10,9),(10,6),(10,7),(30,5),(10,10),(20,5)])\n",
    "graph_comb(n)"
   ]
  }
 ],
 "metadata": {
  "kernelspec": {
   "display_name": "Python 3",
   "language": "python",
   "name": "python3"
  },
  "language_info": {
   "codemirror_mode": {
    "name": "ipython",
    "version": 3
   },
   "file_extension": ".py",
   "mimetype": "text/x-python",
   "name": "python",
   "nbconvert_exporter": "python",
   "pygments_lexer": "ipython3",
   "version": "3.6.3"
  }
 },
 "nbformat": 4,
 "nbformat_minor": 2
}
