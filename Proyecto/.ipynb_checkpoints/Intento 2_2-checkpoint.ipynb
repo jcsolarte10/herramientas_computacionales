{
 "cells": [
  {
   "cell_type": "code",
   "execution_count": 1,
   "metadata": {},
   "outputs": [
    {
     "name": "stdout",
     "output_type": "stream",
     "text": [
      "Populating the interactive namespace from numpy and matplotlib\n"
     ]
    }
   ],
   "source": [
    "%pylab inline\n",
    "from datetime import date\n",
    "from datetime import datetime\n",
    "import os\n",
    "import pandas as pd\n",
    "from sklearn.neural_network import MLPRegressor\n",
    "from sklearn.metrics import mean_squared_error\n",
    "from sklearn.model_selection import GridSearchCV\n",
    "from scipy.stats import ks_2samp"
   ]
  },
  {
   "cell_type": "code",
   "execution_count": null,
   "metadata": {
    "collapsed": true
   },
   "outputs": [],
   "source": [
    "#Funciones para crear matrices de entrenaminto y pruebas"
   ]
  },
  {
   "cell_type": "code",
   "execution_count": null,
   "metadata": {
    "collapsed": true
   },
   "outputs": [],
   "source": [
    "def train_X_Y(dia, deltas,dollar, d_inicial,num_samples,num_features):    ##d_inicial : 0 a 2508\n",
    "    ##dias: vector de dia de la semana para cada dia (L=1...V=5)\n",
    "    ##precios: vector de pecios para cada dia\n",
    "    ##d_inicial: Primer dia del entrenamiento (0 a 2508) es num_features-1 dias antes que el primer Y de entrenamiento \n",
    "    ##num_samples: Número de muestras para entrenar \n",
    "    ##num_features: Número de parametros de entrenamiento (1+ número de dias con que se predice el precio)\n",
    "    \n",
    "    \n",
    "    \n",
    "    num_dias = num_features-2\n",
    "   \n",
    "    dias = dia[d_inicial+num_dias:d_inicial+num_dias+num_samples]\n",
    "    dias = dias.reshape(len(dias),1)\n",
    "    dolar = dollar[d_inicial+num_dias-1:d_inicial+num_dias+num_samples-1]\n",
    "    dolar = dolar.reshape(len(dolar),1)\n",
    "    \n",
    "    \n",
    "    d=deltas[d_inicial:d_inicial+num_samples]\n",
    "    \n",
    "    for i in range(d_inicial+1,d_inicial+num_dias):\n",
    "        m = deltas[i:i+num_samples]\n",
    "        d =  np.column_stack((d,m))       \n",
    "    d = np.column_stack((d,dias))\n",
    "    X = np.column_stack((d,dolar))\n",
    "             \n",
    "    Y = deltas[d_inicial+num_dias:d_inicial+num_dias+num_samples]\n",
    "    \n",
    "    assert (X.shape == (num_samples, num_features))\n",
    "    assert (Y.shape == (num_samples,))\n",
    "    \n",
    "    train = {\"X\": X,\n",
    "             \"Y\": Y\n",
    "            }\n",
    "    \n",
    "    return train\n",
    "\n",
    "\n",
    "\n",
    "def test_X_Y(dias, deltas,dolar, d_inicial,num_samples,num_features):\n",
    "    test = train_X_Y(dias, deltas,dolar, d_inicial,num_samples,num_features)\n",
    "    \n",
    "    return test\n",
    "\n",
    "def cal_porcentaje(porcentajes):\n",
    "    prcts=[]\n",
    "    acum = porcentajes[0]\n",
    "    prcts.append(acum)\n",
    "    for i in range(1,len(porcentajes)):\n",
    "        acum = acum*porcentajes[i]\n",
    "        prcts.append(acum)\n",
    "    \n",
    "    prcts = np.array(prcts)\n",
    "    return prcts\n",
    "\n",
    "\n",
    "def errores(Y_expected,Y_predict):\n",
    "    error_RMS= sqrt(mean_squared_error(Y_expected,Y_predict))\n",
    "    error_MBE= mean(Y_expected-Y_predict)\n",
    "    p_value = ks_2samp(Y_expected,Y_predict)[1]\n",
    "                    \n",
    "    error = {\"RMS\": error_RMS,\n",
    "             \"MBE\": error_MBE,\n",
    "             \"P-Value\": p_value\n",
    "            }\n",
    "    return error\n",
    "\n",
    "def RMS(Y_prdct,Y):\n",
    "    error = np.sqrt(sum((Y_prdct-Y)**2))/len(Y)\n",
    "    return error\n",
    "\n",
    "def graph_comb(values):\n",
    "    k=(np.msort(values))\n",
    "    a=[]\n",
    "    b=[]\n",
    "    i=0\n",
    "    while i in range (len(k)):\n",
    "        d = k[i]\n",
    "        a.append(d)\n",
    "        cnt=1\n",
    "        l = k[i+1:]\n",
    "        for j in range(len(l)):\n",
    "            if sum(l[j]==d)==2:\n",
    "                cnt= cnt+1\n",
    "            else:\n",
    "                j= len(l)\n",
    "        b.append(cnt)\n",
    "        i= i+cnt\n",
    "    \n",
    "    plt.bar(range(len(a)),b)\n",
    "    plt.plot()\n",
    "    plt.subplots_adjust(left=0.5, bottom=1, right=3, top=2)\n",
    "    plt.show()\n",
    "    print(a)"
   ]
  },
  {
   "cell_type": "code",
   "execution_count": null,
   "metadata": {
    "collapsed": true
   },
   "outputs": [],
   "source": [
    "## Poblando datos"
   ]
  },
  {
   "cell_type": "code",
   "execution_count": null,
   "metadata": {
    "collapsed": true
   },
   "outputs": [],
   "source": [
    "datos_csv = os.path.join( '.','COLCAP.csv')\n",
    "datos_pd = pd.read_csv(datos_csv, sep = ',',\n",
    "                encoding='latin-1', parse_dates =[0], infer_datetime_format= True)\n",
    "dolar_csv = os.path.join( '.','Dolar.csv')\n",
    "dolar_pd = pd.read_csv(dolar_csv, sep = ',',\n",
    "                encoding='latin-1', parse_dates =[0], infer_datetime_format= True)"
   ]
  },
  {
   "cell_type": "code",
   "execution_count": null,
   "metadata": {
    "collapsed": true
   },
   "outputs": [],
   "source": [
    "fecha_o = datos_pd['Fecha (dd/mm/aaaa)']\n",
    "fecha = dolar_pd['Fecha (dd/mm/aaaa)']\n",
    "variacion = dolar_pd['Variación Porcentual']\n",
    "\n",
    "var_dolar =[]\n",
    "for i in range(len(fecha)):\n",
    "    if sum(fecha[i] == fecha_o) == 1:\n",
    "        var_dolar.append(variacion[i])\n",
    "        \n",
    "var_dolar = np.array(var_dolar)"
   ]
  },
  {
   "cell_type": "code",
   "execution_count": null,
   "metadata": {
    "collapsed": true
   },
   "outputs": [],
   "source": []
  },
  {
   "cell_type": "code",
   "execution_count": null,
   "metadata": {
    "collapsed": true
   },
   "outputs": [],
   "source": [
    "a=datos_pd[\"Fecha (dd/mm/aaaa)\"]\n",
    "\n",
    "days = []\n",
    "\n",
    "for i in range(len(a)):\n",
    "    d = a[i].weekday() + 1\n",
    "    days.append(d)\n",
    "    \n",
    "d = np.array(days)"
   ]
  },
  {
   "cell_type": "code",
   "execution_count": null,
   "metadata": {
    "collapsed": true
   },
   "outputs": [],
   "source": [
    "c = datos_pd[\"Valor COLCAP\"]\n",
    "c = np.array(c)\n",
    "for i in range(len(c)):\n",
    "    c[i] = c[i].replace(',',\"\")\n",
    "\n",
    "\n",
    "price=np.array(c, dtype= np.float64)"
   ]
  },
  {
   "cell_type": "code",
   "execution_count": null,
   "metadata": {
    "collapsed": true
   },
   "outputs": [],
   "source": [
    "b = datos_pd[\"Variación porcentual\"]\n",
    "b = np.array(b)\n",
    "for i in range(len(b)):\n",
    "    b[i] = b[i].replace('%',\"\")\n",
    "\n",
    "\n",
    "p=np.array(b, dtype= np.float64)"
   ]
  },
  {
   "cell_type": "code",
   "execution_count": null,
   "metadata": {
    "collapsed": true
   },
   "outputs": [],
   "source": [
    "## Prueba"
   ]
  },
  {
   "cell_type": "code",
   "execution_count": null,
   "metadata": {
    "collapsed": true
   },
   "outputs": [],
   "source": [
    "#Definición de matrices de entreno\n",
    "train=train_X_Y(d,p,var_dolar,1207,1000,11)"
   ]
  },
  {
   "cell_type": "code",
   "execution_count": null,
   "metadata": {
    "collapsed": true
   },
   "outputs": [],
   "source": [
    "#Definición de matrices de prueba\n",
    "test=test_X_Y(d,p,var_dolar,2509-30-5,30,11)"
   ]
  },
  {
   "cell_type": "code",
   "execution_count": null,
   "metadata": {
    "collapsed": true
   },
   "outputs": [],
   "source": [
    "#Entreno del sistema\n",
    "e = 10\n",
    "rg = None\n",
    "for l in range(10):\n",
    "    with warnings.catch_warnings(record=True) as w:\n",
    "        warnings.simplefilter(\"always\") \n",
    "        r = MLPRegressor(hidden_layer_sizes=(50,1), max_iter= 200, activation=\"relu\",shuffle= False, solver= \"adam\", warm_start= False, tol=0.000001)\n",
    "        r.fit(train[\"X\"],train[\"Y\"])\n",
    "    error = errores(train['Y'],r.predict(train['X']))['RMS']\n",
    "    \n",
    "    if error<e:\n",
    "        e=error\n",
    "        rg=r\n",
    "        print(e)\n",
    "        "
   ]
  },
  {
   "cell_type": "code",
   "execution_count": null,
   "metadata": {
    "collapsed": true
   },
   "outputs": [],
   "source": [
    "print(rg.n_iter_)\n",
    "print(e)"
   ]
  },
  {
   "cell_type": "code",
   "execution_count": null,
   "metadata": {
    "collapsed": true
   },
   "outputs": [],
   "source": [
    "#Grafica de predicción y real\n",
    "y1 = np.array(test[\"Y\"])\n",
    "y2= np.array(rg.predict(test[\"X\"]))\n",
    "plt.plot(y1)\n",
    "plt.plot(y2)\n",
    "error_train = errores(train['Y'],rg.predict(train['X']))\n",
    "error_test = errores(test['Y'],rg.predict(test['X']))\n",
    "\n",
    "plt.show()\n",
    "\n",
    "print(\"El Error RMS del entreno es: \" + str(error_train['RMS']))\n",
    "print(\"El Error MBE del entreno es: \" + str(error_train['MBE']))\n",
    "print(\"El P-Value del entreno es: \" + str(error_train['P-Value']))\n",
    "print('')\n",
    "print(\"El Error RMS de la prueba es: \" + str(error_test['RMS']))\n",
    "print(\"El Error MBE de la prueba es: \" + str(error_test['MBE']))\n",
    "print(\"El P-Value de la prueba es: \" + str(error_test['P-Value']))"
   ]
  },
  {
   "cell_type": "code",
   "execution_count": null,
   "metadata": {
    "collapsed": true
   },
   "outputs": [],
   "source": [
    "y_1=price[2450+9:2450+30+9]\n",
    "preprice =price[2450+9-1:2450+30+9-1]\n",
    "plt.plot(y_1[-30:])\n",
    "prct = rg.predict(test[\"X\"])/100+1\n",
    "#prct = test[\"Y\"]/100+1\n",
    "#prct = cal_porcentaje(prct)\n",
    "\n",
    "y_2 = preprice*prct\n",
    "plt.plot(y_2[-30:])\n",
    "plt.show()\n",
    "\n",
    "error = errores(y1,y2)\n",
    "print(\"El Error RMS de la prueba es: \" + str(error['RMS']))\n",
    "print(\"El Error MBE de la prueba es: \" + str(error['MBE']))\n",
    "print(\"El P-Value de la prueba es: \" + str(error['P-Value']))"
   ]
  },
  {
   "cell_type": "code",
   "execution_count": null,
   "metadata": {
    "collapsed": true
   },
   "outputs": [],
   "source": [
    "ant = np.array(p[-15:-6])\n",
    "dia= d[-5]\n",
    "X_predict = np. append(ant[0:],dia)\n",
    "dol = var_dolar[-6]\n",
    "X_predict = np. append(X_predict,dol)\n",
    "X_predict = X_predict.reshape(1,11)\n",
    "\n",
    "Y = rg.predict(X_predict)\n",
    "ant=np.append(ant,Y)\n",
    "\n",
    "for i in range(10):\n",
    "    dia = dia+1\n",
    "    if dia==6:\n",
    "        dia=1\n",
    "    \n",
    "    v = np.append(ant[i+1:],dia)\n",
    "    dol =var_dolar[-6+i]\n",
    "    v = np.append(v,dol)\n",
    "    v =v.reshape(1,11)\n",
    "    X_predict= np.vstack((X_predict,v))\n",
    "    Y = rg.predict(v)\n",
    "    ant=np.append(ant,Y)\n",
    "    \n",
    "Y = rg.predict(X_predict)\n",
    "prct =cal_porcentaje(Y/100+1)\n",
    "\n",
    "plt.plot(price[-6]*prct)\n",
    "plt.plot(price[-5:])"
   ]
  },
  {
   "cell_type": "code",
   "execution_count": null,
   "metadata": {
    "collapsed": true
   },
   "outputs": [],
   "source": [
    "#Entreno del sistema lbfgs\n",
    "e = 10\n",
    "rg = None\n",
    "for l in range(10):\n",
    "    with warnings.catch_warnings(record=True) as w:\n",
    "        warnings.simplefilter(\"always\") \n",
    "        r = MLPRegressor(hidden_layer_sizes=(100,3), max_iter= 200, activation=\"relu\",shuffle= False, solver= \"lbfgs\", warm_start= False, tol=0.000001)\n",
    "        r.fit(train[\"X\"],train[\"Y\"])\n",
    "    error = errores(train['Y'],r.predict(train['X']))['RMS']\n",
    "    \n",
    "    if error<e:\n",
    "        e=error\n",
    "        rg=r\n",
    "        print(e)\n",
    "        "
   ]
  },
  {
   "cell_type": "code",
   "execution_count": null,
   "metadata": {
    "collapsed": true
   },
   "outputs": [],
   "source": [
    "print(rg.n_iter_)\n",
    "print(e)"
   ]
  },
  {
   "cell_type": "code",
   "execution_count": null,
   "metadata": {
    "collapsed": true
   },
   "outputs": [],
   "source": [
    "#Grafica de predicción y real\n",
    "y1 = np.array(test[\"Y\"])\n",
    "y2= np.array(rg.predict(test[\"X\"]))\n",
    "plt.plot(y1)\n",
    "plt.plot(y2)\n",
    "error_train = errores(train['Y'],rg.predict(train['X']))\n",
    "error_test = errores(test['Y'],rg.predict(test['X']))\n",
    "\n",
    "plt.show()\n",
    "\n",
    "print(\"El Error RMS del entreno es: \" + str(error_train['RMS']))\n",
    "print(\"El Error MBE del entreno es: \" + str(error_train['MBE']))\n",
    "print(\"El P-Value del entreno es: \" + str(error_train['P-Value']))\n",
    "print('')\n",
    "print(\"El Error RMS de la prueba es: \" + str(error_test['RMS']))\n",
    "print(\"El Error MBE de la prueba es: \" + str(error_test['MBE']))\n",
    "print(\"El P-Value de la prueba es: \" + str(error_test['P-Value']))"
   ]
  },
  {
   "cell_type": "code",
   "execution_count": null,
   "metadata": {
    "collapsed": true
   },
   "outputs": [],
   "source": [
    "y_1=price[2450+9:2450+30+9]\n",
    "preprice =price[2450+9-1:2450+30+9-1]\n",
    "plt.plot(y_1[-30:])\n",
    "prct = rg.predict(test[\"X\"])/100+1\n",
    "#prct = test[\"Y\"]/100+1\n",
    "#prct = cal_porcentaje(prct)\n",
    "\n",
    "y_2 = preprice*prct\n",
    "plt.plot(y_2[-30:])\n",
    "plt.show()\n",
    "\n",
    "error = errores(y1,y2)\n",
    "print(\"El Error RMS de la prueba es: \" + str(error['RMS']))\n",
    "print(\"El Error MBE de la prueba es: \" + str(error['MBE']))\n",
    "print(\"El P-Value de la prueba es: \" + str(error['P-Value']))"
   ]
  },
  {
   "cell_type": "code",
   "execution_count": null,
   "metadata": {
    "collapsed": true
   },
   "outputs": [],
   "source": [
    "#Prueba del modelo\n",
    "rg.score(train[\"X\"], train[\"Y\"])"
   ]
  },
  {
   "cell_type": "code",
   "execution_count": null,
   "metadata": {
    "collapsed": true
   },
   "outputs": [],
   "source": [
    "rg.score(test[\"X\"], test[\"Y\"])"
   ]
  },
  {
   "cell_type": "code",
   "execution_count": null,
   "metadata": {
    "collapsed": true
   },
   "outputs": [],
   "source": []
  },
  {
   "cell_type": "code",
   "execution_count": null,
   "metadata": {
    "collapsed": true
   },
   "outputs": [],
   "source": [
    "#Adam\n",
    "c= []\n",
    "a=[]\n",
    "for i in range (10,110,10):\n",
    "    for j in range (1,11):\n",
    "        a.append((i,j))\n",
    "\n",
    "parameters = {'hidden_layer_sizes':a}\n",
    "r = MLPRegressor(solver='adam', tol=0.000001)\n",
    "clf = GridSearchCV(r, parameters,scoring= 'neg_mean_squared_error', return_train_score= 'False')\n",
    "\n",
    "for i in range(10):\n",
    "    \n",
    "    with warnings.catch_warnings(record=True) as w:\n",
    "            warnings.simplefilter(\"always\")\n",
    "            clf.fit(train['X'], train['Y'])\n",
    "        \n",
    "    c.append(clf.best_params_['hidden_layer_sizes'])\n",
    "    \n",
    "    print(c)\n",
    "    \n",
    "n = c\n",
    "graph_comb(n)"
   ]
  },
  {
   "cell_type": "code",
   "execution_count": null,
   "metadata": {
    "collapsed": true
   },
   "outputs": [],
   "source": []
  },
  {
   "cell_type": "code",
   "execution_count": null,
   "metadata": {
    "collapsed": true
   },
   "outputs": [],
   "source": [
    "# LBFGS\n",
    "c= []\n",
    "a=[]\n",
    "for i in range (10,110,10):\n",
    "    for j in range (1,11):\n",
    "        a.append((i,j))\n",
    "\n",
    "parameters = {'hidden_layer_sizes':a}\n",
    "r = MLPRegressor(solver='lbfgs', tol=0.000001)\n",
    "clf = GridSearchCV(r, parameters,scoring= 'neg_mean_squared_error', return_train_score= 'False')\n",
    "\n",
    "for i in range(10):\n",
    "    \n",
    "    with warnings.catch_warnings(record=True) as w:\n",
    "            warnings.simplefilter(\"always\")\n",
    "            clf.fit(train['X'], train['Y'])\n",
    "        \n",
    "    c.append(clf.best_params_['hidden_layer_sizes'])\n",
    "    \n",
    "    print(c)\n",
    "n = c\n",
    "graph_comb(n)"
   ]
  },
  {
   "cell_type": "code",
   "execution_count": null,
   "metadata": {
    "collapsed": true
   },
   "outputs": [],
   "source": []
  },
  {
   "cell_type": "code",
   "execution_count": null,
   "metadata": {
    "collapsed": true
   },
   "outputs": [],
   "source": [
    "# Mejor combinación Adam\n",
    "c= []\n",
    "conf = np.array([])\n",
    "rep = np.array([])\n",
    "for k in range(5):\n",
    "    menor = 1000\n",
    "    m=\"\"\n",
    "    for i in range (50,110,10):\n",
    "        for j in range (1,11):\n",
    "\n",
    "            with warnings.catch_warnings(record=True) as w:\n",
    "                warnings.simplefilter(\"always\") \n",
    "                rg = MLPRegressor(hidden_layer_sizes=(i,j), max_iter= 200, activation=\"relu\",shuffle= False, solver= \"adam\",tol=0.000001)\n",
    "                rg.fit(train[\"X\"],train[\"Y\"])\n",
    "\n",
    "            if w==[]:\n",
    "                error = errores(train['Y'],rg.predict(train['X']))['RMS']\n",
    "                #print(str(i)+ \",\"+str(j)+\" :\" + str(error))\n",
    "\n",
    "            if error<menor:\n",
    "                menor = error\n",
    "                m = (i,j) \n",
    "                \n",
    "    print(m)\n",
    "    c.append(m)\n",
    "    print(\" :\" + str(menor))\n",
    "print(c)"
   ]
  },
  {
   "cell_type": "code",
   "execution_count": null,
   "metadata": {
    "collapsed": true
   },
   "outputs": [],
   "source": [
    "# Mejor combinación LBFGS\n",
    "a=0\n",
    "conf = np.array([])\n",
    "rep = np.array([])\n",
    "for k in range(2):\n",
    "    menor = 1000\n",
    "    m=\"\"\n",
    "    for i in range (10,110,10):\n",
    "        for j in range (1,11):\n",
    "\n",
    "            with warnings.catch_warnings(record=True) as w:\n",
    "                warnings.simplefilter(\"always\") \n",
    "                rg = MLPRegressor(hidden_layer_sizes=(i,j), max_iter= 300, activation=\"relu\",shuffle= False, solver= \"lbfgs\",tol=0.000001)\n",
    "                rg.fit(train[\"X\"],train[\"Y\"])\n",
    "\n",
    "            if w==[]:\n",
    "                error = error_RMS(train['X'],train['Y'],rg)\n",
    "                #print(str(i)+ \",\"+str(j)+\" :\" + str(error))\n",
    "\n",
    "            if error<menor:\n",
    "                menor = error\n",
    "                m = str(i)+ \",\"+str(j) \n",
    "                \n",
    "    print(m + \" :\" + str(menor))"
   ]
  }
 ],
 "metadata": {
  "kernelspec": {
   "display_name": "Python 3",
   "language": "python",
   "name": "python3"
  },
  "language_info": {
   "codemirror_mode": {
    "name": "ipython",
    "version": 3
   },
   "file_extension": ".py",
   "mimetype": "text/x-python",
   "name": "python",
   "nbconvert_exporter": "python",
   "pygments_lexer": "ipython3",
   "version": "3.6.3"
  }
 },
 "nbformat": 4,
 "nbformat_minor": 2
}
