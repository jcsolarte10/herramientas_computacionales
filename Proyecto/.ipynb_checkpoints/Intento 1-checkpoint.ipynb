{
 "cells": [
  {
   "cell_type": "code",
   "execution_count": 134,
   "metadata": {},
   "outputs": [
    {
     "name": "stdout",
     "output_type": "stream",
     "text": [
      "Populating the interactive namespace from numpy and matplotlib\n"
     ]
    },
    {
     "name": "stderr",
     "output_type": "stream",
     "text": [
      "/home/juanchosol1996/anaconda3/lib/python3.6/site-packages/IPython/core/magics/pylab.py:160: UserWarning: pylab import has clobbered these variables: ['clf', 'e', 'datetime', 'test']\n",
      "`%matplotlib` prevents importing * from pylab and numpy\n",
      "  \"\\n`%matplotlib` prevents importing * from pylab and numpy\"\n"
     ]
    }
   ],
   "source": [
    "%pylab inline\n",
    "from datetime import date\n",
    "from datetime import datetime\n",
    "import os\n",
    "import pandas as pd\n",
    "from sklearn.neural_network import MLPRegressor\n",
    "from sklearn.model_selection import GridSearchCV\n",
    "from sklearn.metrics import (mean_squared_error, r2_score)\n",
    "from scipy.stats import ks_2samp"
   ]
  },
  {
   "cell_type": "code",
   "execution_count": 174,
   "metadata": {
    "collapsed": true
   },
   "outputs": [],
   "source": [
    "##Arquitecturas\n",
    "n1 = np.array([(10,5),(10,7),(60,5)])\n",
    "n2 = np.array([(40,10),(50,9),(100,9)])\n",
    "arqs ={\"adam\": n1,\n",
    "      \"lbfgs\":n2\n",
    "}\n",
    "\n",
    "\n",
    "\n",
    "\n",
    "n1_10 = np.array([(10,7),(10,9),(20,10)])\n",
    "n2_10 = np.array([(30,6),(60,8),(100,10)])\n",
    "arqs10 ={\"adam\": n1_10,\n",
    "      \"lbfgs\":n2_10\n",
    "}\n"
   ]
  },
  {
   "cell_type": "code",
   "execution_count": null,
   "metadata": {
    "collapsed": true
   },
   "outputs": [],
   "source": [
    "#Funciones para crear matrices de entrenaminto y pruebas"
   ]
  },
  {
   "cell_type": "code",
   "execution_count": 146,
   "metadata": {
    "collapsed": true
   },
   "outputs": [],
   "source": [
    "def train_X_Y(dias, precios, d_inicial,num_samples,num_features):    ##d_inicial : 0 a 2508\n",
    "    ##dias: vector de dia de la semana para cada dia (L=1...V=5)\n",
    "    ##precios: vector de pecios para cada dia\n",
    "    ##d_inicial: Primer dia del entrenamiento (0 a 2508) es num_features-1 dias antes que el primer Y de entrenamiento \n",
    "    ##num_samples: Número de muestras para entrenar \n",
    "    ##num_features: Número de parametros de entrenamiento (1+ número de dias con que se predice el precio)\n",
    "    \n",
    "    \n",
    "    \n",
    "    num_dias = num_features-1\n",
    "   \n",
    "    dias = dias[d_inicial+num_dias:d_inicial+num_dias+num_samples]\n",
    "    dias = dias.reshape(len(dias),1)\n",
    "    \n",
    "    pr=precios[d_inicial:d_inicial+num_samples]\n",
    "    \n",
    "    for i in range(d_inicial+1,d_inicial+num_dias):\n",
    "        m = precios[i:i+num_samples]\n",
    "        pr =  np.column_stack((pr,m))\n",
    "            \n",
    "    X = np.column_stack((pr,dias))\n",
    "             \n",
    "    Y = precios[d_inicial+num_dias:d_inicial+num_dias+num_samples]\n",
    "    \n",
    "    assert (X.shape == (num_samples, num_features))\n",
    "    assert (Y.shape == (num_samples,))\n",
    "    \n",
    "    train = {\"X\": X,\n",
    "                \"Y\": Y\n",
    "            }\n",
    "    \n",
    "    return train\n",
    "\n",
    "\n",
    "\n",
    "def test_X_Y(dias, precios, d_inicial,num_samples,num_features):\n",
    "    test = train_X_Y(dias, precios, d_inicial,num_samples,num_features)\n",
    "    \n",
    "    return test\n",
    "\n",
    "def errores(Y_expected,Y_predict):\n",
    "    error_RMS= sqrt(mean_squared_error(Y_expected,Y_predict))\n",
    "    error_MBE= mean(Y_expected-Y_predict)\n",
    "    p_value = ks_2samp(Y_expected,Y_predict)[1]\n",
    "    r2 = r2_score(Y_expected,Y_predict)\n",
    "    \n",
    "    error_RMS= np.round(error_RMS,3)\n",
    "    error_MBE= np.round(error_MBE,4)\n",
    "    p_value = np.round(p_value,2)\n",
    "    r2 = np.round(r2,2)\n",
    "                    \n",
    "                    \n",
    "    error = {\"RMS\": error_RMS,\n",
    "             \"MBE\": error_MBE,\n",
    "             \"P-Value\": p_value,\n",
    "             \"R2\":r2\n",
    "            }\n",
    "    return error\n",
    "\n",
    "def RMS(Y_prdct,Y):\n",
    "    error = np.sqrt(sum((Y_prdct-Y)**2))/len(Y)\n",
    "    return error\n",
    "\n",
    "def graph_comb(values):\n",
    "    k= np.array(values)\n",
    "    sw = True\n",
    "\n",
    "    while sw == True:\n",
    "        sw = False\n",
    "        for i in range(len(k)-1):\n",
    "            temp1 = list(k[i])\n",
    "            temp2 = list(k[i+1])\n",
    "            if temp2[0]<temp1[0]:\n",
    "                k[i]=temp2\n",
    "                k[i+1]=temp1\n",
    "                sw=True\n",
    "\n",
    "            if temp2[0]==temp1[0]:\n",
    "                if temp2[1]<temp1[1]:\n",
    "                    k[i]=temp2\n",
    "                    k[i+1]=temp1\n",
    "                    sw=True\n",
    "    a=[]\n",
    "    b=[]\n",
    "    i=0\n",
    "    while i in range (len(k)):\n",
    "        d = k[i]\n",
    "        a.append(d)\n",
    "        cnt=1\n",
    "        l = k[i+1:]\n",
    "        for j in range(len(l)):\n",
    "            if sum(l[j]==d)==2:\n",
    "                cnt= cnt+1\n",
    "            else:\n",
    "                j= len(l)\n",
    "        b.append(cnt)\n",
    "        i= i+cnt\n",
    "    \n",
    "    plt.bar(range(len(a)),b)\n",
    "    plt.plot()\n",
    "    plt.subplots_adjust(left=0.5, bottom=1, right=3, top=2)\n",
    "    plt.show()\n",
    "    print(a)\n",
    "    print(b)"
   ]
  },
  {
   "cell_type": "code",
   "execution_count": 30,
   "metadata": {
    "collapsed": true
   },
   "outputs": [],
   "source": [
    "## Poblando datos"
   ]
  },
  {
   "cell_type": "code",
   "execution_count": 114,
   "metadata": {
    "collapsed": true
   },
   "outputs": [],
   "source": [
    "datos_csv = os.path.join( '.','COLCAP.csv')\n",
    "datos_pd = pd.read_csv(datos_csv, sep = ',',\n",
    "                encoding='latin-1', parse_dates =[0], infer_datetime_format= True)"
   ]
  },
  {
   "cell_type": "code",
   "execution_count": 115,
   "metadata": {
    "collapsed": true
   },
   "outputs": [],
   "source": [
    "a=datos_pd[\"Fecha (dd/mm/aaaa)\"]\n",
    "\n",
    "dias = []\n",
    "\n",
    "for i in range(len(a)):\n",
    "    d = a[i].weekday() + 1\n",
    "    dias.append(d)\n",
    "    \n",
    "d = np.array(dias)"
   ]
  },
  {
   "cell_type": "code",
   "execution_count": 116,
   "metadata": {
    "collapsed": true
   },
   "outputs": [],
   "source": [
    "b = datos_pd[\"Valor COLCAP\"]\n",
    "b = np.array(b)\n",
    "d\n",
    "for i in range(len(b)):\n",
    "    b[i] = b[i].replace(',',\"\")\n",
    "\n",
    "\n",
    "p=np.array(b, dtype= np.float64)"
   ]
  },
  {
   "cell_type": "code",
   "execution_count": 117,
   "metadata": {
    "collapsed": true
   },
   "outputs": [],
   "source": [
    "## Prueba"
   ]
  },
  {
   "cell_type": "code",
   "execution_count": 224,
   "metadata": {
    "collapsed": true
   },
   "outputs": [],
   "source": [
    "## Definición de matrices de entreno\n",
    "train=train_X_Y(d,p,1202,1000,11)"
   ]
  },
  {
   "cell_type": "code",
   "execution_count": 225,
   "metadata": {
    "collapsed": true
   },
   "outputs": [],
   "source": [
    "#Definición de matrices de prueba\n",
    "test=test_X_Y(d,p,2509-30-10,30,11)"
   ]
  },
  {
   "cell_type": "code",
   "execution_count": 252,
   "metadata": {},
   "outputs": [
    {
     "name": "stdout",
     "output_type": "stream",
     "text": [
      "12.688\n",
      "12.662\n"
     ]
    }
   ],
   "source": [
    "#Entreno del sistema Adam\n",
    "rg= None\n",
    "e =10000\n",
    "for i in range(20):\n",
    "    with warnings.catch_warnings(record=True) as w:\n",
    "        warnings.simplefilter(\"always\") \n",
    "        r = MLPRegressor(hidden_layer_sizes=arqs10[\"lbfgs\"][1],max_iter= 200, activation=\"relu\",shuffle= False, solver= \"lbfgs\", warm_start= False)\n",
    "        r.fit(train[\"X\"],train[\"Y\"])\n",
    "    \n",
    "    error = errores(train['Y'],r.predict(train['X']))['RMS']\n",
    "    \n",
    "    \n",
    "    if error<e:\n",
    "        e=error\n",
    "        rg=r\n",
    "        print(e)"
   ]
  },
  {
   "cell_type": "code",
   "execution_count": 253,
   "metadata": {},
   "outputs": [
    {
     "name": "stdout",
     "output_type": "stream",
     "text": [
      "201\n",
      "12.662\n",
      "lbfgs\n",
      "[60  8]\n"
     ]
    }
   ],
   "source": [
    "print(rg.n_iter_)\n",
    "print(e)\n",
    "print(rg.solver)\n",
    "print(rg.hidden_layer_sizes)"
   ]
  },
  {
   "cell_type": "code",
   "execution_count": 254,
   "metadata": {},
   "outputs": [
    {
     "data": {
      "image/png": "[encoded data removed]",
      "text/plain": [
       "<matplotlib.figure.Figure at 0x7f5663fef160>"
      ]
     },
     "metadata": {},
     "output_type": "display_data"
    },
    {
     "name": "stdout",
     "output_type": "stream",
     "text": [
      "El Error RMS del entreno es: 12.662\n",
      "El Error MBE del entreno es: 0.0671\n",
      "El P-Value del entreno es: 1.0\n",
      "El R^2 del entreno es: 1.0\n",
      "\n",
      "El Error RMS de la prueba es: 12.353\n",
      "El Error MBE de la prueba es: 3.5651\n",
      "El P-Value de la prueba es: 1.0\n",
      "El R^2 de la prueba es: 0.91\n"
     ]
    }
   ],
   "source": [
    "#### Grafica de predicción y real\n",
    "plt.plot(test[\"Y\"])\n",
    "plt.plot(rg.predict(test[\"X\"]))\n",
    "error_train = errores(train['Y'],rg.predict(train['X']))\n",
    "error_test = errores(test['Y'],rg.predict(test['X']))\n",
    "\n",
    "plt.show()\n",
    "\n",
    "print(\"El Error RMS del entreno es: \" + str(error_train['RMS']))\n",
    "print(\"El Error MBE del entreno es: \" + str(error_train['MBE']))\n",
    "print(\"El P-Value del entreno es: \" + str(error_train['P-Value']))\n",
    "print(\"El R^2 del entreno es: \" + str(error_train['R2']))\n",
    "print('')\n",
    "print(\"El Error RMS de la prueba es: \" + str(error_test['RMS']))\n",
    "print(\"El Error MBE de la prueba es: \" + str(error_test['MBE']))\n",
    "print(\"El P-Value de la prueba es: \" + str(error_test['P-Value']))\n",
    "print(\"El R^2 de la prueba es: \" + str(error_test['R2']))"
   ]
  },
  {
   "cell_type": "code",
   "execution_count": 178,
   "metadata": {},
   "outputs": [
    {
     "data": {
      "text/plain": [
       "1.0"
      ]
     },
     "execution_count": 178,
     "metadata": {},
     "output_type": "execute_result"
    }
   ],
   "source": [
    "#Prueba del modelo\n",
    "np.round(rg.score(train[\"X\"], train[\"Y\"]),2)"
   ]
  },
  {
   "cell_type": "code",
   "execution_count": 179,
   "metadata": {},
   "outputs": [
    {
     "data": {
      "text/plain": [
       "0.91502051899484771"
      ]
     },
     "execution_count": 179,
     "metadata": {},
     "output_type": "execute_result"
    }
   ],
   "source": [
    "r2_score(test[\"Y\"],rg.predict(test[\"X\"]))"
   ]
  },
  {
   "cell_type": "code",
   "execution_count": 106,
   "metadata": {},
   "outputs": [
    {
     "name": "stdout",
     "output_type": "stream",
     "text": [
      "12.7277870811\n",
      "12.7218543104\n"
     ]
    }
   ],
   "source": [
    "#Entreno del sistema LBFGS\n",
    "rg= None\n",
    "e =10000\n",
    "for i in range(10):\n",
    "    with warnings.catch_warnings(record=True) as w:\n",
    "        warnings.simplefilter(\"always\") \n",
    "        r = MLPRegressor(hidden_layer_sizes=arqs[\"lbfgs\"][0], max_iter= 200, activation=\"relu\",shuffle= False, solver= \"lbfgs\", warm_start=False)\n",
    "        r.fit(train[\"X\"],train[\"Y\"])\n",
    "    \n",
    "    error = errores(train['Y'],r.predict(train['X']))['RMS']\n",
    "    rg=r\n",
    "    \n",
    "    \n",
    "    if error<e:\n",
    "        e=error\n",
    "        print(e)"
   ]
  },
  {
   "cell_type": "code",
   "execution_count": 62,
   "metadata": {},
   "outputs": [
    {
     "name": "stdout",
     "output_type": "stream",
     "text": [
      "201\n",
      "12.6381440432\n"
     ]
    }
   ],
   "source": [
    "print(rg.n_iter_)\n",
    "print(e)"
   ]
  },
  {
   "cell_type": "code",
   "execution_count": 63,
   "metadata": {},
   "outputs": [
    {
     "data": {
      "image/png": "[encoded data removed]",
      "text/plain": [
       "<matplotlib.figure.Figure at 0x7f04041a6160>"
      ]
     },
     "metadata": {},
     "output_type": "display_data"
    },
    {
     "name": "stdout",
     "output_type": "stream",
     "text": [
      "El Error RMS del entreno es: 12.6381440432\n",
      "El Error MBE del entreno es: 0.0409951148493\n",
      "El P-Value del entreno es: 1.0\n",
      "\n",
      "El Error RMS de la prueba es: 12.4643931011\n",
      "El Error MBE de la prueba es: 3.40098567766\n",
      "El P-Value de la prueba es: 0.996969237305\n"
     ]
    }
   ],
   "source": [
    "#Grafica de predicción y real\n",
    "plt.plot(test[\"Y\"])\n",
    "plt.plot(rg.predict(test[\"X\"]))\n",
    "error_train = errores(train['Y'],rg.predict(train['X']))\n",
    "error_test = errores(test['Y'],rg.predict(test['X']))\n",
    "\n",
    "plt.show()\n",
    "\n",
    "print(\"El Error RMS del entreno es: \" + str(error_train['RMS']))\n",
    "print(\"El Error MBE del entreno es: \" + str(error_train['MBE']))\n",
    "print(\"El P-Value del entreno es: \" + str(error_train['P-Value']))\n",
    "print('')\n",
    "print(\"El Error RMS de la prueba es: \" + str(error_test['RMS']))\n",
    "print(\"El Error MBE de la prueba es: \" + str(error_test['MBE']))\n",
    "print(\"El P-Value de la prueba es: \" + str(error_test['P-Value']))"
   ]
  },
  {
   "cell_type": "code",
   "execution_count": 107,
   "metadata": {},
   "outputs": [
    {
     "name": "stdout",
     "output_type": "stream",
     "text": [
      "[(10, 8), (10, 7), (10, 9), (10, 5), (10, 8), (10, 2), (10, 7), (20, 9), (10, 9), (10, 5), (10, 7), (10, 10), (10, 7), (20, 3), (10, 5), (60, 5), (10, 10), (30, 5), (30, 6), (10, 7)]\n"
     ]
    },
    {
     "data": {
      "image/png": "[encoded data removed]",
      "text/plain": [
       "<matplotlib.figure.Figure at 0x7f565e467390>"
      ]
     },
     "metadata": {},
     "output_type": "display_data"
    },
    {
     "name": "stdout",
     "output_type": "stream",
     "text": [
      "[array([10,  2]), array([10,  5]), array([10,  7]), array([10,  8]), array([10,  9]), array([10, 10]), array([20,  3]), array([20,  9]), array([30,  5]), array([30,  6]), array([60,  5])]\n",
      "[1, 3, 5, 2, 2, 2, 1, 1, 1, 1, 1]\n"
     ]
    }
   ],
   "source": [
    "c= []\n",
    "a=[]\n",
    "for i in range (10,110,10):\n",
    "    for j in range (1,11):\n",
    "        a.append((i,j))\n",
    "\n",
    "parameters = {'hidden_layer_sizes':a}\n",
    "r = MLPRegressor(solver='adam')\n",
    "clf = GridSearchCV(r, parameters,scoring= 'neg_mean_squared_error', return_train_score= 'False')\n",
    "\n",
    "for i in range(20):\n",
    "    \n",
    "    with warnings.catch_warnings(record=True) as w:\n",
    "            warnings.simplefilter(\"always\")\n",
    "            clf.fit(train['X'], train['Y'])\n",
    "    c.append(clf.best_params_['hidden_layer_sizes'])\n",
    "    \n",
    "print(c)\n",
    "graph_comb(c)"
   ]
  },
  {
   "cell_type": "code",
   "execution_count": 109,
   "metadata": {},
   "outputs": [
    {
     "name": "stdout",
     "output_type": "stream",
     "text": [
      "End\n",
      "Begin\n"
     ]
    }
   ],
   "source": [
    "import time\n",
    "print(\"End\")\n",
    "time.sleep(60)\n",
    "print(\"Begin\")"
   ]
  },
  {
   "cell_type": "code",
   "execution_count": 111,
   "metadata": {},
   "outputs": [
    {
     "name": "stdout",
     "output_type": "stream",
     "text": [
      "ok\n",
      "ok\n",
      "ok\n",
      "ok\n",
      "ok\n",
      "ok\n",
      "ok\n",
      "ok\n",
      "ok\n",
      "ok\n",
      "ok\n",
      "ok\n",
      "ok\n",
      "ok\n",
      "ok\n",
      "ok\n",
      "ok\n",
      "ok\n",
      "ok\n",
      "ok\n",
      "[(20, 8), (30, 9), (40, 8), (80, 9), (50, 9), (20, 9), (100, 9), (10, 10), (50, 5), (70, 9), (10, 5), (40, 4), (40, 10), (100, 6), (20, 5), (60, 6), (50, 5), (80, 4), (60, 6), (100, 7)]\n"
     ]
    },
    {
     "data": {
      "image/png": "[encoded data removed]",
      "text/plain": [
       "<matplotlib.figure.Figure at 0x7f565e58bb70>"
      ]
     },
     "metadata": {},
     "output_type": "display_data"
    },
    {
     "name": "stdout",
     "output_type": "stream",
     "text": [
      "[array([10,  5]), array([10, 10]), array([20,  5]), array([20,  8]), array([20,  9]), array([30,  9]), array([40,  4]), array([40,  8]), array([40, 10]), array([50,  5]), array([50,  9]), array([60,  6]), array([70,  9]), array([80,  4]), array([80,  9]), array([100,   6]), array([100,   7]), array([100,   9])]\n",
      "[1, 1, 1, 1, 1, 1, 1, 1, 1, 2, 1, 2, 1, 1, 1, 1, 1, 1]\n"
     ]
    }
   ],
   "source": [
    "c= []\n",
    "a=[]\n",
    "for i in range (10,110,10):\n",
    "    for j in range (1,11):\n",
    "        a.append((i,j))\n",
    "\n",
    "parameters = {'hidden_layer_sizes':a}\n",
    "r = MLPRegressor(solver='lbfgs')\n",
    "clf = GridSearchCV(r, parameters,scoring= 'neg_mean_squared_error', return_train_score= 'False')\n",
    "\n",
    "for i in range(20):\n",
    "    \n",
    "    with warnings.catch_warnings(record=True) as w:\n",
    "            warnings.simplefilter(\"always\")\n",
    "            clf.fit(train['X'], train['Y'])\n",
    "            \n",
    "    c.append(clf.best_params_['hidden_layer_sizes'])\n",
    "    print('ok')\n",
    "\n",
    "c1 = list(c)    \n",
    "print(c1)\n",
    "graph_comb(c1)    "
   ]
  },
  {
   "cell_type": "code",
   "execution_count": 113,
   "metadata": {},
   "outputs": [
    {
     "data": {
      "text/plain": [
       "(40, 4)"
      ]
     },
     "execution_count": 113,
     "metadata": {},
     "output_type": "execute_result"
    }
   ],
   "source": [
    "c1[11]"
   ]
  },
  {
   "cell_type": "code",
   "execution_count": 98,
   "metadata": {},
   "outputs": [
    {
     "data": {
      "image/png": "[encoded data removed]",
      "text/plain": [
       "<matplotlib.figure.Figure at 0x7f565e1a4e48>"
      ]
     },
     "metadata": {},
     "output_type": "display_data"
    },
    {
     "name": "stdout",
     "output_type": "stream",
     "text": [
      "[array([20,  1]), array([20,  6]), array([20,  8]), array([30,  7]), array([40,  8]), array([50,  8]), array([50,  9]), array([60,  4]), array([80,  3])]\n",
      "[1, 1, 1, 1, 1, 2, 1, 1, 1]\n"
     ]
    }
   ],
   "source": [
    "##lbfgs\n",
    "n = np.array([(30,7),(60,4),(50,9),(20,1),(50,8),(40,8),(80,3),(20,8),(50,8),(20,6)])\n",
    "graph_comb(n)"
   ]
  }
 ],
 "metadata": {
  "kernelspec": {
   "display_name": "Python 3",
   "language": "python",
   "name": "python3"
  },
  "language_info": {
   "codemirror_mode": {
    "name": "ipython",
    "version": 3
   },
   "file_extension": ".py",
   "mimetype": "text/x-python",
   "name": "python",
   "nbconvert_exporter": "python",
   "pygments_lexer": "ipython3",
   "version": "3.6.3"
  }
 },
 "nbformat": 4,
 "nbformat_minor": 2
}
