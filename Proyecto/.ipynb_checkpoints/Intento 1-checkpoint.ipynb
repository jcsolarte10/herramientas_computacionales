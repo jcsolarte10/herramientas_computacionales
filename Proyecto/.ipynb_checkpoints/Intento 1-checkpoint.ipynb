{
 "cells": [
  {
   "cell_type": "code",
   "execution_count": 5,
   "metadata": {},
   "outputs": [
    {
     "name": "stdout",
     "output_type": "stream",
     "text": [
      "Populating the interactive namespace from numpy and matplotlib\n"
     ]
    },
    {
     "name": "stderr",
     "output_type": "stream",
     "text": [
      "/home/juanchosol1996/anaconda3/lib/python3.6/site-packages/IPython/core/magics/pylab.py:160: UserWarning: pylab import has clobbered these variables: ['datetime']\n",
      "`%matplotlib` prevents importing * from pylab and numpy\n",
      "  \"\\n`%matplotlib` prevents importing * from pylab and numpy\"\n"
     ]
    }
   ],
   "source": [
    "%pylab inline\n",
    "from datetime import date\n",
    "from datetime import datetime\n",
    "import os\n",
    "import pandas as pd\n",
    "from sklearn.neural_network import MLPRegressor\n",
    "from sklearn.model_selection import GridSearchCV\n",
    "from sklearn.metrics import mean_squared_error\n",
    "from scipy.stats import ks_2samp"
   ]
  },
  {
   "cell_type": "code",
   "execution_count": null,
   "metadata": {
    "collapsed": true
   },
   "outputs": [],
   "source": [
    "#Funciones para crear matrices de entrenaminto y pruebas"
   ]
  },
  {
   "cell_type": "code",
   "execution_count": 6,
   "metadata": {
    "collapsed": true
   },
   "outputs": [],
   "source": [
    "def train_X_Y(dias, precios, d_inicial,num_samples,num_features):    ##d_inicial : 0 a 2508\n",
    "    ##dias: vector de dia de la semana para cada dia (L=1...V=5)\n",
    "    ##precios: vector de pecios para cada dia\n",
    "    ##d_inicial: Primer dia del entrenamiento (0 a 2508) es num_features-1 dias antes que el primer Y de entrenamiento \n",
    "    ##num_samples: Número de muestras para entrenar \n",
    "    ##num_features: Número de parametros de entrenamiento (1+ número de dias con que se predice el precio)\n",
    "    \n",
    "    \n",
    "    \n",
    "    num_dias = num_features-1\n",
    "   \n",
    "    dias = dias[d_inicial+num_dias:d_inicial+num_dias+num_samples]\n",
    "    dias = dias.reshape(len(dias),1)\n",
    "    \n",
    "    pr=precios[d_inicial:d_inicial+num_samples]\n",
    "    \n",
    "    for i in range(d_inicial+1,d_inicial+num_dias):\n",
    "        m = precios[i:i+num_samples]\n",
    "        pr =  np.column_stack((pr,m))\n",
    "            \n",
    "    X = np.column_stack((pr,dias))\n",
    "             \n",
    "    Y = precios[d_inicial+num_dias:d_inicial+num_dias+num_samples]\n",
    "    \n",
    "    assert (X.shape == (num_samples, num_features))\n",
    "    assert (Y.shape == (num_samples,))\n",
    "    \n",
    "    train = {\"X\": X,\n",
    "                \"Y\": Y\n",
    "            }\n",
    "    \n",
    "    return train\n",
    "\n",
    "\n",
    "\n",
    "def test_X_Y(dias, precios, d_inicial,num_samples,num_features):\n",
    "    test = train_X_Y(dias, precios, d_inicial,num_samples,num_features)\n",
    "    \n",
    "    return test\n",
    "\n",
    "def errores(Y_expected,Y_predict):\n",
    "    error_RMS= sqrt(mean_squared_error(Y_expected,Y_predict))\n",
    "    error_MBE= mean(Y_expected-Y_predict)\n",
    "    p_value = ks_2samp(Y_expected,Y_predict)[1]\n",
    "                    \n",
    "    error = {\"RMS\": error_RMS,\n",
    "             \"MBE\": error_MBE,\n",
    "             \"P-Value\": p_value\n",
    "            }\n",
    "    return error\n",
    "\n",
    "def RMS(Y_prdct,Y):\n",
    "    error = np.sqrt(sum((Y_prdct-Y)**2))/len(Y)\n",
    "    return error\n",
    "\n",
    "def graph_comb(values):\n",
    "    k=(np.msort(values))\n",
    "    a=[]\n",
    "    b=[]\n",
    "    i=0\n",
    "    while i in range (len(k)):\n",
    "        d = k[i]\n",
    "        a.append(d)\n",
    "        cnt=1\n",
    "        l = k[i+1:]\n",
    "        for j in range(len(l)):\n",
    "            if sum(l[j]==d)==2:\n",
    "                cnt= cnt+1\n",
    "            else:\n",
    "                j= len(l)\n",
    "        b.append(cnt)\n",
    "        i= i+cnt\n",
    "    \n",
    "    plt.bar(range(len(a)),b)\n",
    "    plt.plot()\n",
    "    plt.subplots_adjust(left=0.5, bottom=1, right=3, top=2)\n",
    "    plt.show()\n",
    "    print(a)"
   ]
  },
  {
   "cell_type": "code",
   "execution_count": 30,
   "metadata": {
    "collapsed": true
   },
   "outputs": [],
   "source": [
    "## Poblando datos"
   ]
  },
  {
   "cell_type": "code",
   "execution_count": 8,
   "metadata": {
    "collapsed": true
   },
   "outputs": [],
   "source": [
    "datos_csv = os.path.join( '.','COLCAP.csv')\n",
    "datos_pd = pd.read_csv(datos_csv, sep = ',',\n",
    "                encoding='latin-1', parse_dates =[0], infer_datetime_format= True)"
   ]
  },
  {
   "cell_type": "code",
   "execution_count": 9,
   "metadata": {
    "collapsed": true
   },
   "outputs": [],
   "source": [
    "a=datos_pd[\"Fecha (dd/mm/aaaa)\"]\n",
    "\n",
    "dias = []\n",
    "\n",
    "for i in range(len(a)):\n",
    "    d = a[i].weekday() + 1\n",
    "    dias.append(d)\n",
    "    \n",
    "d = np.array(dias)"
   ]
  },
  {
   "cell_type": "code",
   "execution_count": 10,
   "metadata": {
    "collapsed": true
   },
   "outputs": [],
   "source": [
    "b = datos_pd[\"Valor COLCAP\"]\n",
    "b = np.array(b)\n",
    "d\n",
    "for i in range(len(b)):\n",
    "    b[i] = b[i].replace(',',\"\")\n",
    "\n",
    "\n",
    "p=np.array(b, dtype= np.float64)"
   ]
  },
  {
   "cell_type": "code",
   "execution_count": 53,
   "metadata": {},
   "outputs": [
    {
     "data": {
      "text/html": [
       "<div>\n",
       "<style>\n",
       "    .dataframe thead tr:only-child th {\n",
       "        text-align: right;\n",
       "    }\n",
       "\n",
       "    .dataframe thead th {\n",
       "        text-align: left;\n",
       "    }\n",
       "\n",
       "    .dataframe tbody tr th {\n",
       "        vertical-align: top;\n",
       "    }\n",
       "</style>\n",
       "<table border=\"1\" class=\"dataframe\">\n",
       "  <thead>\n",
       "    <tr style=\"text-align: right;\">\n",
       "      <th></th>\n",
       "      <th>Fecha (dd/mm/aaaa)</th>\n",
       "      <th>Valor COLCAP</th>\n",
       "      <th>Variación absoluta</th>\n",
       "      <th>Variación porcentual</th>\n",
       "    </tr>\n",
       "  </thead>\n",
       "  <tbody>\n",
       "    <tr>\n",
       "      <th>2504</th>\n",
       "      <td>2018-04-23</td>\n",
       "      <td>1,576.65</td>\n",
       "      <td>15.20</td>\n",
       "      <td>0.9735%</td>\n",
       "    </tr>\n",
       "    <tr>\n",
       "      <th>2505</th>\n",
       "      <td>2018-04-24</td>\n",
       "      <td>1,562.55</td>\n",
       "      <td>-14.10</td>\n",
       "      <td>-0.8943%</td>\n",
       "    </tr>\n",
       "    <tr>\n",
       "      <th>2506</th>\n",
       "      <td>2018-04-25</td>\n",
       "      <td>1,558.05</td>\n",
       "      <td>-4.50</td>\n",
       "      <td>-0.2880%</td>\n",
       "    </tr>\n",
       "    <tr>\n",
       "      <th>2507</th>\n",
       "      <td>2018-04-26</td>\n",
       "      <td>1,553.34</td>\n",
       "      <td>-4.71</td>\n",
       "      <td>-0.3023%</td>\n",
       "    </tr>\n",
       "    <tr>\n",
       "      <th>2508</th>\n",
       "      <td>2018-04-27</td>\n",
       "      <td>1,566.45</td>\n",
       "      <td>13.11</td>\n",
       "      <td>0.8440%</td>\n",
       "    </tr>\n",
       "  </tbody>\n",
       "</table>\n",
       "</div>"
      ],
      "text/plain": [
       "     Fecha (dd/mm/aaaa) Valor COLCAP  Variación absoluta Variación porcentual\n",
       "2504         2018-04-23     1,576.65               15.20              0.9735%\n",
       "2505         2018-04-24     1,562.55              -14.10             -0.8943%\n",
       "2506         2018-04-25     1,558.05               -4.50             -0.2880%\n",
       "2507         2018-04-26     1,553.34               -4.71             -0.3023%\n",
       "2508         2018-04-27     1,566.45               13.11              0.8440%"
      ]
     },
     "execution_count": 53,
     "metadata": {},
     "output_type": "execute_result"
    }
   ],
   "source": [
    "datos_pd.tail(5)"
   ]
  },
  {
   "cell_type": "code",
   "execution_count": 11,
   "metadata": {
    "collapsed": true
   },
   "outputs": [],
   "source": [
    "## Prueba"
   ]
  },
  {
   "cell_type": "code",
   "execution_count": 56,
   "metadata": {
    "collapsed": true
   },
   "outputs": [],
   "source": [
    "## Definición de matrices de entreno\n",
    "train=train_X_Y(d,p,1207,1000,6)"
   ]
  },
  {
   "cell_type": "code",
   "execution_count": 57,
   "metadata": {
    "collapsed": true
   },
   "outputs": [],
   "source": [
    "#Definición de matrices de prueba\n",
    "test=test_X_Y(d,p,2509-30-5,30,6)"
   ]
  },
  {
   "cell_type": "code",
   "execution_count": 58,
   "metadata": {},
   "outputs": [
    {
     "name": "stdout",
     "output_type": "stream",
     "text": [
      "21.8857292186\n",
      "17.1483356231\n"
     ]
    }
   ],
   "source": [
    "#Entreno del sistema Adam\n",
    "rg= None\n",
    "e =10000\n",
    "for i in range(10):\n",
    "    with warnings.catch_warnings(record=True) as w:\n",
    "        warnings.simplefilter(\"always\") \n",
    "        r = MLPRegressor(hidden_layer_sizes=(10,5), max_iter= 200, activation=\"relu\",shuffle= False, solver= \"adam\", warm_start= False)\n",
    "        r.fit(train[\"X\"],train[\"Y\"])\n",
    "    \n",
    "    error = errores(train['Y'],r.predict(train['X']))['RMS']\n",
    "    \n",
    "    \n",
    "    if error<e:\n",
    "        e=error\n",
    "        rg=r\n",
    "        print(e)"
   ]
  },
  {
   "cell_type": "code",
   "execution_count": 59,
   "metadata": {},
   "outputs": [
    {
     "name": "stdout",
     "output_type": "stream",
     "text": [
      "46\n",
      "17.1483356231\n"
     ]
    }
   ],
   "source": [
    "print(rg.n_iter_)\n",
    "print(e)"
   ]
  },
  {
   "cell_type": "code",
   "execution_count": 60,
   "metadata": {},
   "outputs": [
    {
     "data": {
      "image/png": "[encoded data removed]",
      "text/plain": [
       "<matplotlib.figure.Figure at 0x7f040422c898>"
      ]
     },
     "metadata": {},
     "output_type": "display_data"
    },
    {
     "name": "stdout",
     "output_type": "stream",
     "text": [
      "El Error RMS del entreno es: 17.1483356231\n",
      "El Error MBE del entreno es: -5.12784818067\n",
      "El P-Value del entreno es: 0.493112680767\n",
      "\n",
      "El Error RMS de la prueba es: 14.1057954697\n",
      "El Error MBE de la prueba es: 1.68431499884\n",
      "El P-Value de la prueba es: 0.936008585104\n"
     ]
    }
   ],
   "source": [
    "#### Grafica de predicción y real\n",
    "plt.plot(test[\"Y\"])\n",
    "plt.plot(rg.predict(test[\"X\"]))\n",
    "error_train = errores(train['Y'],rg.predict(train['X']))\n",
    "error_test = errores(test['Y'],rg.predict(test['X']))\n",
    "\n",
    "plt.show()\n",
    "\n",
    "print(\"El Error RMS del entreno es: \" + str(error_train['RMS']))\n",
    "print(\"El Error MBE del entreno es: \" + str(error_train['MBE']))\n",
    "print(\"El P-Value del entreno es: \" + str(error_train['P-Value']))\n",
    "print('')\n",
    "print(\"El Error RMS de la prueba es: \" + str(error_test['RMS']))\n",
    "print(\"El Error MBE de la prueba es: \" + str(error_test['MBE']))\n",
    "print(\"El P-Value de la prueba es: \" + str(error_test['P-Value']))"
   ]
  },
  {
   "cell_type": "code",
   "execution_count": 63,
   "metadata": {},
   "outputs": [
    {
     "data": {
      "text/plain": [
       "0.98830219636934269"
      ]
     },
     "execution_count": 63,
     "metadata": {},
     "output_type": "execute_result"
    }
   ],
   "source": [
    "#Prueba del modelo\n",
    "rg.score(train[\"X\"], train[\"Y\"])"
   ]
  },
  {
   "cell_type": "code",
   "execution_count": 64,
   "metadata": {},
   "outputs": [
    {
     "data": {
      "text/plain": [
       "0.55886106766032984"
      ]
     },
     "execution_count": 64,
     "metadata": {},
     "output_type": "execute_result"
    }
   ],
   "source": [
    "rg.score(test[\"X\"], test[\"Y\"])"
   ]
  },
  {
   "cell_type": "code",
   "execution_count": 61,
   "metadata": {},
   "outputs": [
    {
     "name": "stdout",
     "output_type": "stream",
     "text": [
      "12.7581223129\n",
      "12.7379148802\n",
      "12.7329835669\n",
      "12.6381440432\n"
     ]
    }
   ],
   "source": [
    "#Entreno del sistema LBFGS\n",
    "rg= None\n",
    "e =10000\n",
    "for i in range(10):\n",
    "    with warnings.catch_warnings(record=True) as w:\n",
    "        warnings.simplefilter(\"always\") \n",
    "        r = MLPRegressor(hidden_layer_sizes=(30,8), max_iter= 200, activation=\"relu\",shuffle= False, solver= \"lbfgs\", warm_start=False)\n",
    "        r.fit(train[\"X\"],train[\"Y\"])\n",
    "    \n",
    "    error = errores(train['Y'],r.predict(train['X']))['RMS']\n",
    "    rg=r\n",
    "    \n",
    "    \n",
    "    if error<e:\n",
    "        e=error\n",
    "        print(e)"
   ]
  },
  {
   "cell_type": "code",
   "execution_count": 62,
   "metadata": {},
   "outputs": [
    {
     "name": "stdout",
     "output_type": "stream",
     "text": [
      "201\n",
      "12.6381440432\n"
     ]
    }
   ],
   "source": [
    "print(rg.n_iter_)\n",
    "print(e)"
   ]
  },
  {
   "cell_type": "code",
   "execution_count": 63,
   "metadata": {},
   "outputs": [
    {
     "data": {
      "image/png": "[encoded data removed]",
      "text/plain": [
       "<matplotlib.figure.Figure at 0x7f04041a6160>"
      ]
     },
     "metadata": {},
     "output_type": "display_data"
    },
    {
     "name": "stdout",
     "output_type": "stream",
     "text": [
      "El Error RMS del entreno es: 12.6381440432\n",
      "El Error MBE del entreno es: 0.0409951148493\n",
      "El P-Value del entreno es: 1.0\n",
      "\n",
      "El Error RMS de la prueba es: 12.4643931011\n",
      "El Error MBE de la prueba es: 3.40098567766\n",
      "El P-Value de la prueba es: 0.996969237305\n"
     ]
    }
   ],
   "source": [
    "#Grafica de predicción y real\n",
    "plt.plot(test[\"Y\"])\n",
    "plt.plot(rg.predict(test[\"X\"]))\n",
    "error_train = errores(train['Y'],rg.predict(train['X']))\n",
    "error_test = errores(test['Y'],rg.predict(test['X']))\n",
    "\n",
    "plt.show()\n",
    "\n",
    "print(\"El Error RMS del entreno es: \" + str(error_train['RMS']))\n",
    "print(\"El Error MBE del entreno es: \" + str(error_train['MBE']))\n",
    "print(\"El P-Value del entreno es: \" + str(error_train['P-Value']))\n",
    "print('')\n",
    "print(\"El Error RMS de la prueba es: \" + str(error_test['RMS']))\n",
    "print(\"El Error MBE de la prueba es: \" + str(error_test['MBE']))\n",
    "print(\"El P-Value de la prueba es: \" + str(error_test['P-Value']))"
   ]
  },
  {
   "cell_type": "code",
   "execution_count": 54,
   "metadata": {},
   "outputs": [
    {
     "name": "stdout",
     "output_type": "stream",
     "text": [
      "[(20, 10), (20, 6), (10, 5), (10, 6)]\n",
      "[(20, 10), (20, 6), (10, 5), (10, 6), (10, 8)]\n",
      "[(20, 10), (20, 6), (10, 5), (10, 6), (10, 8), (20, 6)]\n",
      "[(20, 10), (20, 6), (10, 5), (10, 6), (10, 8), (20, 6), (10, 9)]\n",
      "[(20, 10), (20, 6), (10, 5), (10, 6), (10, 8), (20, 6), (10, 9), (20, 5)]\n"
     ]
    }
   ],
   "source": [
    "c= []\n",
    "a=[]\n",
    "for i in range (10,110,10):\n",
    "    for j in range (1,11):\n",
    "        a.append((i,j))\n",
    "\n",
    "parameters = {'hidden_layer_sizes':a}\n",
    "r = MLPRegressor(solver='adam')\n",
    "clf = GridSearchCV(r, parameters,scoring= 'neg_mean_squared_error', return_train_score= 'False')\n",
    "\n",
    "for i in range(5):\n",
    "    \n",
    "    with warnings.catch_warnings(record=True) as w:\n",
    "            warnings.simplefilter(\"always\")\n",
    "            clf.fit(train['X'], train['Y'])\n",
    "    c.append(clf.best_params_['hidden_layer_sizes'])\n",
    "    \n",
    "    print(c)"
   ]
  },
  {
   "cell_type": "code",
   "execution_count": 65,
   "metadata": {},
   "outputs": [
    {
     "name": "stdout",
     "output_type": "stream",
     "text": [
      "[(90, 8)]\n",
      "[(90, 8), (40, 7)]\n",
      "[(90, 8), (40, 7), (30, 9)]\n"
     ]
    }
   ],
   "source": [
    "c= []\n",
    "a=[]\n",
    "for i in range (10,110,10):\n",
    "    for j in range (1,11):\n",
    "        a.append((i,j))\n",
    "\n",
    "parameters = {'hidden_layer_sizes':a}\n",
    "r = MLPRegressor(solver='lbfgs')\n",
    "clf = GridSearchCV(r, parameters,scoring= 'neg_mean_squared_error', return_train_score= 'False')\n",
    "\n",
    "for i in range(3):\n",
    "    \n",
    "    with warnings.catch_warnings(record=True) as w:\n",
    "            warnings.simplefilter(\"always\")\n",
    "            clf.fit(train['X'], train['Y'])\n",
    "            \n",
    "    c.append(clf.best_params_['hidden_layer_sizes'])\n",
    "    \n",
    "    print(c)"
   ]
  },
  {
   "cell_type": "code",
   "execution_count": 4,
   "metadata": {},
   "outputs": [
    {
     "data": {
      "image/png": "[encoded data removed]",
      "text/plain": [
       "<matplotlib.figure.Figure at 0x7f040a42a278>"
      ]
     },
     "metadata": {},
     "output_type": "display_data"
    },
    {
     "name": "stdout",
     "output_type": "stream",
     "text": [
      "[array([10,  3]), array([10,  5]), array([10,  6]), array([10,  7]), array([10,  8]), array([20,  9]), array([30, 10])]\n"
     ]
    }
   ],
   "source": [
    "##ADAM\n",
    "n = np.array([(10,8),(10,3),(10,8),(10,5),(10,9),(10,6),(10,7),(30,5),(10,10),(20,5)])\n",
    "graph_comb(n)"
   ]
  },
  {
   "cell_type": "code",
   "execution_count": 5,
   "metadata": {},
   "outputs": [
    {
     "data": {
      "image/png": "[encoded data removed]",
      "text/plain": [
       "<matplotlib.figure.Figure at 0x7f15447052b0>"
      ]
     },
     "metadata": {},
     "output_type": "display_data"
    },
    {
     "name": "stdout",
     "output_type": "stream",
     "text": [
      "[array([20,  1]), array([20,  3]), array([20,  4]), array([30,  6]), array([40,  7]), array([50,  8]), array([60,  8]), array([80,  9])]\n"
     ]
    }
   ],
   "source": [
    "##lbfgs\n",
    "n = np.array([(30,7),(60,4),(50,9),(20,1),(50,8),(40,8),(80,3),(20,8),(50,8),(20,6)])\n",
    "graph_comb(n)"
   ]
  }
 ],
 "metadata": {
  "kernelspec": {
   "display_name": "Python 3",
   "language": "python",
   "name": "python3"
  },
  "language_info": {
   "codemirror_mode": {
    "name": "ipython",
    "version": 3
   },
   "file_extension": ".py",
   "mimetype": "text/x-python",
   "name": "python",
   "nbconvert_exporter": "python",
   "pygments_lexer": "ipython3",
   "version": "3.6.3"
  }
 },
 "nbformat": 4,
 "nbformat_minor": 2
}
