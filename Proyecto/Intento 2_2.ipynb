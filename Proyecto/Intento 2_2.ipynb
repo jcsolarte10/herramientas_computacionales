{
 "cells": [
  {
   "cell_type": "code",
   "execution_count": 163,
   "metadata": {},
   "outputs": [
    {
     "name": "stdout",
     "output_type": "stream",
     "text": [
      "Populating the interactive namespace from numpy and matplotlib\n"
     ]
    },
    {
     "name": "stderr",
     "output_type": "stream",
     "text": [
      "/home/juanchosol1996/anaconda3/lib/python3.6/site-packages/IPython/core/magics/pylab.py:160: UserWarning: pylab import has clobbered these variables: ['e', 'test', 'datetime']\n",
      "`%matplotlib` prevents importing * from pylab and numpy\n",
      "  \"\\n`%matplotlib` prevents importing * from pylab and numpy\"\n"
     ]
    }
   ],
   "source": [
    "%pylab inline\n",
    "from datetime import date\n",
    "from datetime import datetime\n",
    "import os\n",
    "import pandas as pd\n",
    "from sklearn.neural_network import MLPRegressor\n",
    "from sklearn.metrics import (mean_squared_error, r2_score)\n",
    "from sklearn.model_selection import GridSearchCV\n",
    "from scipy.stats import ks_2samp"
   ]
  },
  {
   "cell_type": "code",
   "execution_count": 164,
   "metadata": {},
   "outputs": [],
   "source": [
    "n1 = np.array([(70,8),(90,10),(100,7)])\n",
    "n2 = np.array([(50,10),(90,10),(100,10)])\n",
    "arqs ={\"adam\": n1,\n",
    "      \"lbfgs\":n2\n",
    "}\n",
    "\n",
    "n1_10 = np.array([(60,10),(90,7),(100,10)])\n",
    "n2_10 = np.array([(70,8),(90,10),(100,10)])\n",
    "arqs10 ={\"adam\": n1_10,\n",
    "        \"lbfgs\":n2_10\n",
    "}"
   ]
  },
  {
   "cell_type": "code",
   "execution_count": null,
   "metadata": {
    "collapsed": true
   },
   "outputs": [],
   "source": [
    "#Funciones para crear matrices de entrenaminto y pruebas"
   ]
  },
  {
   "cell_type": "code",
   "execution_count": 165,
   "metadata": {
    "collapsed": true
   },
   "outputs": [],
   "source": [
    "def train_X_Y(dia, deltas,dollar, d_inicial,num_samples,num_features):    ##d_inicial : 0 a 2508\n",
    "    ##dias: vector de dia de la semana para cada dia (L=1...V=5)\n",
    "    ##precios: vector de pecios para cada dia\n",
    "    ##d_inicial: Primer dia del entrenamiento (0 a 2508) es num_features-1 dias antes que el primer Y de entrenamiento \n",
    "    ##num_samples: Número de muestras para entrenar \n",
    "    ##num_features: Número de parametros de entrenamiento (1+ número de dias con que se predice el precio)\n",
    "    \n",
    "    \n",
    "    \n",
    "    num_dias = num_features-2\n",
    "   \n",
    "    dias = dia[d_inicial+num_dias:d_inicial+num_dias+num_samples]\n",
    "    dias = dias.reshape(len(dias),1)\n",
    "    dolar = dollar[d_inicial+num_dias-1:d_inicial+num_dias+num_samples-1]\n",
    "    dolar = dolar.reshape(len(dolar),1)\n",
    "    \n",
    "    \n",
    "    d=deltas[d_inicial:d_inicial+num_samples]\n",
    "    \n",
    "    for i in range(d_inicial+1,d_inicial+num_dias):\n",
    "        m = deltas[i:i+num_samples]\n",
    "        d =  np.column_stack((d,m))       \n",
    "    d = np.column_stack((d,dias))\n",
    "    X = np.column_stack((d,dolar))\n",
    "             \n",
    "    Y = deltas[d_inicial+num_dias:d_inicial+num_dias+num_samples]\n",
    "    \n",
    "    assert (X.shape == (num_samples, num_features))\n",
    "    assert (Y.shape == (num_samples,))\n",
    "    \n",
    "    train = {\"X\": X,\n",
    "             \"Y\": Y\n",
    "            }\n",
    "    \n",
    "    return train\n",
    "\n",
    "\n",
    "\n",
    "def test_X_Y(dias, deltas,dolar, d_inicial,num_samples,num_features):\n",
    "    test = train_X_Y(dias, deltas,dolar, d_inicial,num_samples,num_features)\n",
    "    \n",
    "    return test\n",
    "\n",
    "def cal_porcentaje(porcentajes):\n",
    "    prcts=[]\n",
    "    acum = porcentajes[0]\n",
    "    prcts.append(acum)\n",
    "    for i in range(1,len(porcentajes)):\n",
    "        acum = acum*porcentajes[i]\n",
    "        prcts.append(acum)\n",
    "    \n",
    "    prcts = np.array(prcts)\n",
    "    return prcts\n",
    "\n",
    "\n",
    "def errores(Y_expected,Y_predict):\n",
    "    error_RMS= sqrt(mean_squared_error(Y_expected,Y_predict))\n",
    "    error_MBE= mean(Y_expected-Y_predict)\n",
    "    p_value = ks_2samp(Y_expected,Y_predict)[1]\n",
    "    r2 = r2_score(Y_expected,Y_predict)\n",
    "    \n",
    "    error_RMS= np.round(error_RMS,3)\n",
    "    error_MBE= np.round(error_MBE,4)\n",
    "    p_value = np.round(p_value,2)\n",
    "    r2 = np.round(r2,2)\n",
    "                    \n",
    "                    \n",
    "    error = {\"RMS\": error_RMS,\n",
    "             \"MBE\": error_MBE,\n",
    "             \"P-Value\": p_value,\n",
    "             \"R2\":r2\n",
    "            }\n",
    "    return error\n",
    "\n",
    "\n",
    "def RMS(Y_prdct,Y):\n",
    "    error = np.sqrt(sum((Y_prdct-Y)**2))/len(Y)\n",
    "    return error\n",
    "\n",
    "def graph_comb(values):\n",
    "    k= np.array(values)\n",
    "    sw = True\n",
    "\n",
    "    while sw == True:\n",
    "        sw = False\n",
    "        for i in range(len(k)-1):\n",
    "            temp1 = list(k[i])\n",
    "            temp2 = list(k[i+1])\n",
    "            if temp2[0]<temp1[0]:\n",
    "                k[i]=temp2\n",
    "                k[i+1]=temp1\n",
    "                sw=True\n",
    "\n",
    "            if temp2[0]==temp1[0]:\n",
    "                if temp2[1]<temp1[1]:\n",
    "                    k[i]=temp2\n",
    "                    k[i+1]=temp1\n",
    "                    sw=True\n",
    "    a=[]\n",
    "    b=[]\n",
    "    i=0\n",
    "    while i in range (len(k)):\n",
    "        d = k[i]\n",
    "        a.append(d)\n",
    "        cnt=1\n",
    "        l = k[i+1:]\n",
    "        for j in range(len(l)):\n",
    "            if sum(l[j]==d)==2:\n",
    "                cnt= cnt+1\n",
    "            else:\n",
    "                j= len(l)\n",
    "        b.append(cnt)\n",
    "        i= i+cnt\n",
    "    \n",
    "    plt.bar(range(len(a)),b)\n",
    "    plt.plot()\n",
    "    plt.subplots_adjust(left=0.5, bottom=1, right=3, top=2)\n",
    "    plt.show()\n",
    "    print(a)\n",
    "    print(b)"
   ]
  },
  {
   "cell_type": "code",
   "execution_count": null,
   "metadata": {
    "collapsed": true
   },
   "outputs": [],
   "source": [
    "## Poblando datos"
   ]
  },
  {
   "cell_type": "code",
   "execution_count": 166,
   "metadata": {
    "collapsed": true
   },
   "outputs": [],
   "source": [
    "datos_csv = os.path.join( '.','COLCAP.csv')\n",
    "datos_pd = pd.read_csv(datos_csv, sep = ',',\n",
    "                encoding='latin-1', parse_dates =[0], infer_datetime_format= True)\n",
    "dolar_csv = os.path.join( '.','Dolar.csv')\n",
    "dolar_pd = pd.read_csv(dolar_csv, sep = ',',\n",
    "                encoding='latin-1', parse_dates =[0], infer_datetime_format= True)"
   ]
  },
  {
   "cell_type": "code",
   "execution_count": 167,
   "metadata": {
    "collapsed": true
   },
   "outputs": [],
   "source": [
    "fecha_o = datos_pd['Fecha (dd/mm/aaaa)']\n",
    "fecha = dolar_pd['Fecha (dd/mm/aaaa)']\n",
    "variacion = dolar_pd['Variación Porcentual']\n",
    "\n",
    "var_dolar =[]\n",
    "for i in range(len(fecha)):\n",
    "    if sum(fecha[i] == fecha_o) == 1:\n",
    "        var_dolar.append(variacion[i])\n",
    "        \n",
    "var_dolar = np.array(var_dolar)"
   ]
  },
  {
   "cell_type": "code",
   "execution_count": 168,
   "metadata": {
    "collapsed": true
   },
   "outputs": [],
   "source": [
    "a=datos_pd[\"Fecha (dd/mm/aaaa)\"]\n",
    "\n",
    "days = []\n",
    "\n",
    "for i in range(len(a)):\n",
    "    d = a[i].weekday() + 1\n",
    "    days.append(d)\n",
    "    \n",
    "d = np.array(days)"
   ]
  },
  {
   "cell_type": "code",
   "execution_count": 169,
   "metadata": {
    "collapsed": true
   },
   "outputs": [],
   "source": [
    "c = datos_pd[\"Valor COLCAP\"]\n",
    "c = np.array(c)\n",
    "for i in range(len(c)):\n",
    "    c[i] = c[i].replace(',',\"\")\n",
    "\n",
    "\n",
    "price=np.array(c, dtype= np.float64)"
   ]
  },
  {
   "cell_type": "code",
   "execution_count": 170,
   "metadata": {
    "collapsed": true
   },
   "outputs": [],
   "source": [
    "b = datos_pd[\"Variación porcentual\"]\n",
    "b = np.array(b)\n",
    "for i in range(len(b)):\n",
    "    b[i] = b[i].replace('%',\"\")\n",
    "\n",
    "\n",
    "p=np.array(b, dtype= np.float64)"
   ]
  },
  {
   "cell_type": "code",
   "execution_count": null,
   "metadata": {
    "collapsed": true
   },
   "outputs": [],
   "source": [
    "## Prueba"
   ]
  },
  {
   "cell_type": "code",
   "execution_count": 220,
   "metadata": {
    "collapsed": true
   },
   "outputs": [],
   "source": [
    "#Definición de matrices de entreno\n",
    "train=train_X_Y(d,p,var_dolar,1202,1000,12)"
   ]
  },
  {
   "cell_type": "code",
   "execution_count": 221,
   "metadata": {
    "collapsed": true
   },
   "outputs": [],
   "source": [
    "#Definición de matrices de prueba\n",
    "test=test_X_Y(d,p,var_dolar,2509-30-10,30,12)"
   ]
  },
  {
   "cell_type": "code",
   "execution_count": 272,
   "metadata": {},
   "outputs": [
    {
     "name": "stdout",
     "output_type": "stream",
     "text": [
      "0.815\n",
      "0.811\n",
      "0.776\n"
     ]
    }
   ],
   "source": [
    "#Entreno del sistema\n",
    "e = 10000\n",
    "rg = None\n",
    "for l in range(20):\n",
    "    with warnings.catch_warnings(record=True) as w:\n",
    "        warnings.simplefilter(\"always\") \n",
    "        r = MLPRegressor(hidden_layer_sizes=arqs10[\"lbfgs\"][2], max_iter= 200, activation=\"relu\",shuffle= False, solver= \"lbfgs\", warm_start= False, tol=0.000001)\n",
    "        r.fit(train[\"X\"],train[\"Y\"])\n",
    "    error = errores(train['Y'],r.predict(train['X']))['RMS']\n",
    "    \n",
    "    if error<e:\n",
    "        e=error\n",
    "        rg=r\n",
    "        print(e)\n",
    "        "
   ]
  },
  {
   "cell_type": "code",
   "execution_count": 273,
   "metadata": {},
   "outputs": [
    {
     "name": "stdout",
     "output_type": "stream",
     "text": [
      "201\n",
      "0.776\n",
      "lbfgs\n",
      "[100  10]\n"
     ]
    }
   ],
   "source": [
    "print(rg.n_iter_)\n",
    "print(e)\n",
    "print(rg.solver)\n",
    "print(rg.hidden_layer_sizes)"
   ]
  },
  {
   "cell_type": "code",
   "execution_count": 274,
   "metadata": {},
   "outputs": [
    {
     "data": {
      "image/png": "[encoded data removed]",
      "text/plain": [
       "<matplotlib.figure.Figure at 0x7f4b562255f8>"
      ]
     },
     "metadata": {},
     "output_type": "display_data"
    },
    {
     "name": "stdout",
     "output_type": "stream",
     "text": [
      "El Error RMS del entreno es: 0.776\n",
      "El Error MBE del entreno es: -0.0127\n",
      "El P-Value del entreno es: 0.0\n",
      "\n",
      "El Error RMS de la prueba es: 0.816\n",
      "El Error MBE de la prueba es: 0.2394\n",
      "El P-Value de la prueba es: 0.0\n"
     ]
    }
   ],
   "source": [
    "#Grafica de predicción y real\n",
    "y1 = np.array(test[\"Y\"])\n",
    "y2= np.array(rg.predict(test[\"X\"]))\n",
    "plt.plot(y1)\n",
    "plt.plot(y2)\n",
    "error_train = errores(train['Y'],rg.predict(train['X']))\n",
    "error_test = errores(test['Y'],rg.predict(test['X']))\n",
    "\n",
    "plt.show()\n",
    "\n",
    "print(\"El Error RMS del entreno es: \" + str(error_train['RMS']))\n",
    "print(\"El Error MBE del entreno es: \" + str(error_train['MBE']))\n",
    "print(\"El P-Value del entreno es: \" + str(error_train['P-Value']))\n",
    "print('')\n",
    "print(\"El Error RMS de la prueba es: \" + str(error_test['RMS']))\n",
    "print(\"El Error MBE de la prueba es: \" + str(error_test['MBE']))\n",
    "print(\"El P-Value de la prueba es: \" + str(error_test['P-Value']))"
   ]
  },
  {
   "cell_type": "code",
   "execution_count": 275,
   "metadata": {},
   "outputs": [
    {
     "data": {
      "image/png": "[encoded data removed]",
      "text/plain": [
       "<matplotlib.figure.Figure at 0x7f4b561be4e0>"
      ]
     },
     "metadata": {},
     "output_type": "display_data"
    },
    {
     "name": "stdout",
     "output_type": "stream",
     "text": [
      "El Error RMS de la prueba es: 12.337\n",
      "El Error MBE de la prueba es: 3.5644\n",
      "El P-Value de la prueba es: 0.94\n",
      "El R^2 de la prueba es: 0.91\n"
     ]
    }
   ],
   "source": [
    "y_1=price[2509-30:2509]\n",
    "preprice =price[2509-1-30:2509-1]\n",
    "plt.plot(y_1[-30:])\n",
    "prct = rg.predict(test[\"X\"])/100+1\n",
    "#prct = test[\"Y\"]/100+1\n",
    "#prct = cal_porcentaje(prct)\n",
    "\n",
    "y_2 = preprice*prct\n",
    "plt.plot(y_2)\n",
    "plt.show()\n",
    "\n",
    "error = errores(y_1,y_2)\n",
    "print(\"El Error RMS de la prueba es: \" + str(error['RMS']))\n",
    "print(\"El Error MBE de la prueba es: \" + str(error['MBE']))\n",
    "print(\"El P-Value de la prueba es: \" + str(error['P-Value']))\n",
    "print(\"El R^2 de la prueba es: \" + str(error['R2']))"
   ]
  },
  {
   "cell_type": "code",
   "execution_count": null,
   "metadata": {
    "collapsed": true
   },
   "outputs": [],
   "source": [
    "ant = np.array(p[-15:-6])\n",
    "dia= d[-5]\n",
    "X_predict = np. append(ant[0:],dia)\n",
    "dol = var_dolar[-6]\n",
    "X_predict = np. append(X_predict,dol)\n",
    "X_predict = X_predict.reshape(1,11)\n",
    "\n",
    "Y = rg.predict(X_predict)\n",
    "ant=np.append(ant,Y)\n",
    "\n",
    "for i in range(10):\n",
    "    dia = dia+1\n",
    "    if dia==6:\n",
    "        dia=1\n",
    "    \n",
    "    v = np.append(ant[i+1:],dia)\n",
    "    dol =var_dolar[-6+i]\n",
    "    v = np.append(v,dol)\n",
    "    v =v.reshape(1,11)\n",
    "    X_predict= np.vstack((X_predict,v))\n",
    "    Y = rg.predict(v)\n",
    "    ant=np.append(ant,Y)\n",
    "    \n",
    "Y = rg.predict(X_predict)\n",
    "prct =cal_porcentaje(Y/100+1)\n",
    "\n",
    "plt.plot(price[-6]*prct)\n",
    "plt.plot(price[-5:])"
   ]
  },
  {
   "cell_type": "code",
   "execution_count": 69,
   "metadata": {},
   "outputs": [
    {
     "name": "stdout",
     "output_type": "stream",
     "text": [
      "3.152\n",
      "0.911\n",
      "0.908\n",
      "0.88\n",
      "0.876\n"
     ]
    }
   ],
   "source": [
    "#Entreno del sistema lbfgs\n",
    "e = 10\n",
    "rg = None\n",
    "for l in range(10):\n",
    "    with warnings.catch_warnings(record=True) as w:\n",
    "        warnings.simplefilter(\"always\") \n",
    "        r = MLPRegressor(hidden_layer_sizes=(100,3), max_iter= 200, activation=\"relu\",shuffle= False, solver= \"lbfgs\", warm_start= False, tol=0.000001)\n",
    "        r.fit(train[\"X\"],train[\"Y\"])\n",
    "    error = errores(train['Y'],r.predict(train['X']))['RMS']\n",
    "    \n",
    "    if error<e:\n",
    "        e=error\n",
    "        rg=r\n",
    "        print(e)\n",
    "        "
   ]
  },
  {
   "cell_type": "code",
   "execution_count": 70,
   "metadata": {},
   "outputs": [
    {
     "name": "stdout",
     "output_type": "stream",
     "text": [
      "201\n",
      "0.876\n"
     ]
    }
   ],
   "source": [
    "print(rg.n_iter_)\n",
    "print(e)"
   ]
  },
  {
   "cell_type": "code",
   "execution_count": 71,
   "metadata": {},
   "outputs": [
    {
     "data": {
      "image/png": "[encoded data removed]",
      "text/plain": [
       "<matplotlib.figure.Figure at 0x7f4b567328d0>"
      ]
     },
     "metadata": {},
     "output_type": "display_data"
    },
    {
     "name": "stdout",
     "output_type": "stream",
     "text": [
      "El Error RMS del entreno es: 0.876\n",
      "El Error MBE del entreno es: -0.0054\n",
      "El P-Value del entreno es: 0.0\n",
      "\n",
      "El Error RMS de la prueba es: 0.83\n",
      "El Error MBE de la prueba es: 0.2263\n",
      "El P-Value de la prueba es: 0.0\n"
     ]
    }
   ],
   "source": [
    "#Grafica de predicción y real\n",
    "y1 = np.array(test[\"Y\"])\n",
    "y2= np.array(rg.predict(test[\"X\"]))\n",
    "plt.plot(y1)\n",
    "plt.plot(y2)\n",
    "error_train = errores(train['Y'],rg.predict(train['X']))\n",
    "error_test = errores(test['Y'],rg.predict(test['X']))\n",
    "\n",
    "plt.show()\n",
    "\n",
    "print(\"El Error RMS del entreno es: \" + str(error_train['RMS']))\n",
    "print(\"El Error MBE del entreno es: \" + str(error_train['MBE']))\n",
    "print(\"El P-Value del entreno es: \" + str(error_train['P-Value']))\n",
    "print('')\n",
    "print(\"El Error RMS de la prueba es: \" + str(error_test['RMS']))\n",
    "print(\"El Error MBE de la prueba es: \" + str(error_test['MBE']))\n",
    "print(\"El P-Value de la prueba es: \" + str(error_test['P-Value']))"
   ]
  },
  {
   "cell_type": "code",
   "execution_count": 72,
   "metadata": {},
   "outputs": [
    {
     "data": {
      "image/png": "[encoded data removed]",
      "text/plain": [
       "<matplotlib.figure.Figure at 0x7f4b564bd6a0>"
      ]
     },
     "metadata": {},
     "output_type": "display_data"
    },
    {
     "name": "stdout",
     "output_type": "stream",
     "text": [
      "El Error RMS de la prueba es: 0.83\n",
      "El Error MBE de la prueba es: 0.2263\n",
      "El P-Value de la prueba es: 0.0\n"
     ]
    }
   ],
   "source": [
    "y_1=price[2450+9:2450+30+9]\n",
    "preprice =price[2450+9-1:2450+30+9-1]\n",
    "plt.plot(y_1[-30:])\n",
    "prct = rg.predict(test[\"X\"])/100+1\n",
    "#prct = test[\"Y\"]/100+1\n",
    "#prct = cal_porcentaje(prct)\n",
    "\n",
    "y_2 = preprice*prct\n",
    "plt.plot(y_2[-30:])\n",
    "plt.show()\n",
    "\n",
    "error = errores(y1,y2)\n",
    "print(\"El Error RMS de la prueba es: \" + str(error['RMS']))\n",
    "print(\"El Error MBE de la prueba es: \" + str(error['MBE']))\n",
    "print(\"El P-Value de la prueba es: \" + str(error['P-Value']))"
   ]
  },
  {
   "cell_type": "code",
   "execution_count": null,
   "metadata": {
    "collapsed": true
   },
   "outputs": [],
   "source": [
    "#Prueba del modelo\n",
    "rg.score(train[\"X\"], train[\"Y\"])"
   ]
  },
  {
   "cell_type": "code",
   "execution_count": null,
   "metadata": {
    "collapsed": true
   },
   "outputs": [],
   "source": [
    "rg.score(test[\"X\"], test[\"Y\"])"
   ]
  },
  {
   "cell_type": "code",
   "execution_count": null,
   "metadata": {
    "collapsed": true
   },
   "outputs": [],
   "source": []
  },
  {
   "cell_type": "code",
   "execution_count": 15,
   "metadata": {},
   "outputs": [
    {
     "name": "stdout",
     "output_type": "stream",
     "text": [
      "[(30, 1)]\n",
      "[(30, 1), (70, 1)]\n",
      "[(30, 1), (70, 1), (30, 2)]\n",
      "[(30, 1), (70, 1), (30, 2), (90, 1)]\n",
      "[(30, 1), (70, 1), (30, 2), (90, 1), (50, 3)]\n",
      "[(30, 1), (70, 1), (30, 2), (90, 1), (50, 3), (30, 1)]\n",
      "[(30, 1), (70, 1), (30, 2), (90, 1), (50, 3), (30, 1), (40, 1)]\n",
      "[(30, 1), (70, 1), (30, 2), (90, 1), (50, 3), (30, 1), (40, 1), (100, 1)]\n",
      "[(30, 1), (70, 1), (30, 2), (90, 1), (50, 3), (30, 1), (40, 1), (100, 1), (50, 1)]\n",
      "[(30, 1), (70, 1), (30, 2), (90, 1), (50, 3), (30, 1), (40, 1), (100, 1), (50, 1), (40, 1)]\n",
      "[(30, 1), (70, 1), (30, 2), (90, 1), (50, 3), (30, 1), (40, 1), (100, 1), (50, 1), (40, 1), (60, 1)]\n",
      "[(30, 1), (70, 1), (30, 2), (90, 1), (50, 3), (30, 1), (40, 1), (100, 1), (50, 1), (40, 1), (60, 1), (20, 1)]\n",
      "[(30, 1), (70, 1), (30, 2), (90, 1), (50, 3), (30, 1), (40, 1), (100, 1), (50, 1), (40, 1), (60, 1), (20, 1), (60, 1)]\n",
      "[(30, 1), (70, 1), (30, 2), (90, 1), (50, 3), (30, 1), (40, 1), (100, 1), (50, 1), (40, 1), (60, 1), (20, 1), (60, 1), (100, 1)]\n",
      "[(30, 1), (70, 1), (30, 2), (90, 1), (50, 3), (30, 1), (40, 1), (100, 1), (50, 1), (40, 1), (60, 1), (20, 1), (60, 1), (100, 1), (60, 1)]\n",
      "[(30, 1), (70, 1), (30, 2), (90, 1), (50, 3), (30, 1), (40, 1), (100, 1), (50, 1), (40, 1), (60, 1), (20, 1), (60, 1), (100, 1), (60, 1), (80, 2)]\n",
      "[(30, 1), (70, 1), (30, 2), (90, 1), (50, 3), (30, 1), (40, 1), (100, 1), (50, 1), (40, 1), (60, 1), (20, 1), (60, 1), (100, 1), (60, 1), (80, 2), (30, 1)]\n",
      "[(30, 1), (70, 1), (30, 2), (90, 1), (50, 3), (30, 1), (40, 1), (100, 1), (50, 1), (40, 1), (60, 1), (20, 1), (60, 1), (100, 1), (60, 1), (80, 2), (30, 1), (90, 1)]\n",
      "[(30, 1), (70, 1), (30, 2), (90, 1), (50, 3), (30, 1), (40, 1), (100, 1), (50, 1), (40, 1), (60, 1), (20, 1), (60, 1), (100, 1), (60, 1), (80, 2), (30, 1), (90, 1), (60, 3)]\n",
      "[(30, 1), (70, 1), (30, 2), (90, 1), (50, 3), (30, 1), (40, 1), (100, 1), (50, 1), (40, 1), (60, 1), (20, 1), (60, 1), (100, 1), (60, 1), (80, 2), (30, 1), (90, 1), (60, 3), (90, 1)]\n"
     ]
    },
    {
     "data": {
      "image/png": "[encoded data removed]",
      "text/plain": [
       "<matplotlib.figure.Figure at 0x7f1e58e13358>"
      ]
     },
     "metadata": {},
     "output_type": "display_data"
    },
    {
     "name": "stdout",
     "output_type": "stream",
     "text": [
      "[array([20,  1]), array([30,  1]), array([30,  2]), array([40,  1]), array([50,  1]), array([50,  3]), array([60,  1]), array([60,  3]), array([70,  1]), array([80,  2]), array([90,  1]), array([100,   1])]\n",
      "[1, 3, 1, 2, 1, 1, 3, 1, 1, 1, 3, 2]\n"
     ]
    }
   ],
   "source": [
    "#Adam\n",
    "c= []\n",
    "a=[]\n",
    "for i in range (10,110,10):\n",
    "    for j in range (1,11):\n",
    "        a.append((i,j))\n",
    "\n",
    "parameters = {'hidden_layer_sizes':a}\n",
    "r = MLPRegressor(solver='adam', tol=0.000001)\n",
    "clf = GridSearchCV(r, parameters,scoring= 'neg_mean_squared_error', return_train_score= 'False')\n",
    "\n",
    "for i in range(20):\n",
    "    \n",
    "    with warnings.catch_warnings(record=True) as w:\n",
    "            warnings.simplefilter(\"always\")\n",
    "            clf.fit(train['X'], train['Y'])\n",
    "        \n",
    "    c.append(clf.best_params_['hidden_layer_sizes'])\n",
    "    \n",
    "    print(c)\n",
    "    \n",
    "n = c\n",
    "graph_comb(n)"
   ]
  },
  {
   "cell_type": "code",
   "execution_count": 26,
   "metadata": {},
   "outputs": [
    {
     "name": "stdout",
     "output_type": "stream",
     "text": [
      "[(70, 1)]\n",
      "[(70, 1), (100, 1)]\n",
      "[(70, 1), (100, 1), (50, 1)]\n",
      "[(70, 1), (100, 1), (50, 1), (80, 1)]\n",
      "[(70, 1), (100, 1), (50, 1), (80, 1), (100, 1)]\n",
      "[(70, 1), (100, 1), (50, 1), (80, 1), (100, 1), (100, 1)]\n",
      "[(70, 1), (100, 1), (50, 1), (80, 1), (100, 1), (100, 1), (50, 1)]\n",
      "[(70, 1), (100, 1), (50, 1), (80, 1), (100, 1), (100, 1), (50, 1), (60, 1)]\n",
      "[(70, 1), (100, 1), (50, 1), (80, 1), (100, 1), (100, 1), (50, 1), (60, 1), (20, 1)]\n",
      "[(70, 1), (100, 1), (50, 1), (80, 1), (100, 1), (100, 1), (50, 1), (60, 1), (20, 1), (90, 1)]\n",
      "[(70, 1), (100, 1), (50, 1), (80, 1), (100, 1), (100, 1), (50, 1), (60, 1), (20, 1), (90, 1), (40, 1)]\n",
      "[(70, 1), (100, 1), (50, 1), (80, 1), (100, 1), (100, 1), (50, 1), (60, 1), (20, 1), (90, 1), (40, 1), (60, 2)]\n",
      "[(70, 1), (100, 1), (50, 1), (80, 1), (100, 1), (100, 1), (50, 1), (60, 1), (20, 1), (90, 1), (40, 1), (60, 2), (70, 1)]\n",
      "[(70, 1), (100, 1), (50, 1), (80, 1), (100, 1), (100, 1), (50, 1), (60, 1), (20, 1), (90, 1), (40, 1), (60, 2), (70, 1), (80, 1)]\n",
      "[(70, 1), (100, 1), (50, 1), (80, 1), (100, 1), (100, 1), (50, 1), (60, 1), (20, 1), (90, 1), (40, 1), (60, 2), (70, 1), (80, 1), (80, 1)]\n",
      "[(70, 1), (100, 1), (50, 1), (80, 1), (100, 1), (100, 1), (50, 1), (60, 1), (20, 1), (90, 1), (40, 1), (60, 2), (70, 1), (80, 1), (80, 1), (50, 1)]\n",
      "[(70, 1), (100, 1), (50, 1), (80, 1), (100, 1), (100, 1), (50, 1), (60, 1), (20, 1), (90, 1), (40, 1), (60, 2), (70, 1), (80, 1), (80, 1), (50, 1), (50, 2)]\n",
      "[(70, 1), (100, 1), (50, 1), (80, 1), (100, 1), (100, 1), (50, 1), (60, 1), (20, 1), (90, 1), (40, 1), (60, 2), (70, 1), (80, 1), (80, 1), (50, 1), (50, 2), (20, 1)]\n",
      "[(70, 1), (100, 1), (50, 1), (80, 1), (100, 1), (100, 1), (50, 1), (60, 1), (20, 1), (90, 1), (40, 1), (60, 2), (70, 1), (80, 1), (80, 1), (50, 1), (50, 2), (20, 1), (50, 1)]\n",
      "[(70, 1), (100, 1), (50, 1), (80, 1), (100, 1), (100, 1), (50, 1), (60, 1), (20, 1), (90, 1), (40, 1), (60, 2), (70, 1), (80, 1), (80, 1), (50, 1), (50, 2), (20, 1), (50, 1), (60, 2)]\n"
     ]
    },
    {
     "data": {
      "image/png": "[encoded data removed]",
      "text/plain": [
       "<matplotlib.figure.Figure at 0x7f4b5c1db278>"
      ]
     },
     "metadata": {},
     "output_type": "display_data"
    },
    {
     "name": "stdout",
     "output_type": "stream",
     "text": [
      "[array([20,  1]), array([40,  1]), array([50,  1]), array([50,  2]), array([60,  1]), array([60,  2]), array([70,  1]), array([80,  1]), array([90,  1]), array([100,   1])]\n",
      "[2, 1, 4, 1, 1, 2, 2, 3, 1, 3]\n"
     ]
    }
   ],
   "source": [
    "# LBFGS\n",
    "c= []\n",
    "a=[]\n",
    "for i in range (10,110,10):\n",
    "    for j in range (1,11):\n",
    "        a.append((i,j))\n",
    "\n",
    "parameters = {'hidden_layer_sizes':a}\n",
    "r = MLPRegressor(solver='lbfgs', tol=0.000001)\n",
    "clf = GridSearchCV(r, parameters,scoring= 'neg_mean_squared_error', return_train_score= 'False')\n",
    "\n",
    "for i in range(20):\n",
    "    \n",
    "    with warnings.catch_warnings(record=True) as w:\n",
    "            warnings.simplefilter(\"always\")\n",
    "            clf.fit(train['X'], train['Y'])\n",
    "        \n",
    "    c.append(clf.best_params_['hidden_layer_sizes'])\n",
    "    \n",
    "    print(c)\n",
    "n = c\n",
    "graph_comb(n)"
   ]
  },
  {
   "cell_type": "code",
   "execution_count": 161,
   "metadata": {},
   "outputs": [
    {
     "name": "stdout",
     "output_type": "stream",
     "text": [
      "(90, 10)\n",
      "0.967\n",
      "(60, 6)\n",
      "0.905\n",
      "(50, 10)\n",
      "3.012\n",
      "(70, 3)\n",
      "1.436\n",
      "(50, 6)\n",
      "2.376\n",
      "(100, 5)\n",
      "0.893\n",
      "(70, 8)\n",
      "2.009\n",
      "(100, 4)\n",
      "3.096\n",
      "(80, 6)\n",
      "0.88\n",
      "(80, 9)\n",
      "3.268\n",
      "(80, 8)\n",
      "2.946\n",
      "(60, 10)\n",
      "2.961\n",
      "(100, 6)\n",
      "3.118\n",
      "(60, 3)\n",
      "2.787\n",
      "(80, 10)\n",
      "0.858\n",
      "(100, 10)\n",
      "0.852\n",
      "(60, 8)\n",
      "3.272\n",
      "(80, 7)\n",
      "0.908\n",
      "(50, 7)\n",
      "1.48\n",
      "(50, 10)\n",
      "0.886\n",
      "[(90, 10), (60, 6), (50, 10), (70, 3), (50, 6), (100, 5), (70, 8), (100, 4), (80, 6), (80, 9), (80, 8), (60, 10), (100, 6), (60, 3), (80, 10), (100, 10), (60, 8), (80, 7), (50, 7), (50, 10)]\n"
     ]
    },
    {
     "data": {
      "image/png": "[encoded data removed]",
      "text/plain": [
       "<matplotlib.figure.Figure at 0x7f4b55ff5438>"
      ]
     },
     "metadata": {},
     "output_type": "display_data"
    },
    {
     "name": "stdout",
     "output_type": "stream",
     "text": [
      "[array([50,  6]), array([50,  7]), array([50, 10]), array([60,  3]), array([60,  6]), array([60,  8]), array([60, 10]), array([70,  3]), array([70,  8]), array([80,  6]), array([80,  7]), array([80,  8]), array([80,  9]), array([80, 10]), array([90, 10]), array([100,   4]), array([100,   5]), array([100,   6]), array([100,  10])]\n",
      "[1, 1, 2, 1, 1, 1, 1, 1, 1, 1, 1, 1, 1, 1, 1, 1, 1, 1, 1]\n"
     ]
    }
   ],
   "source": [
    "# Mejor combinación lbfgs\n",
    "c= []\n",
    "conf = np.array([])\n",
    "rep = np.array([])\n",
    "for k in range(20):\n",
    "    menor = 1000\n",
    "    m=\"\"\n",
    "    error =1000\n",
    "    for i in range (50,110,10):\n",
    "        for j in range (1,11):\n",
    "\n",
    "            with warnings.catch_warnings(record=True) as w:\n",
    "                warnings.simplefilter(\"always\") \n",
    "                rg = MLPRegressor(hidden_layer_sizes=(i,j), max_iter= 200, activation=\"relu\",shuffle= False, solver= \"lbfgs\",tol=0.000001)\n",
    "                rg.fit(train[\"X\"],train[\"Y\"])\n",
    "\n",
    "            if w==[]:\n",
    "                error = errores(train[\"Y\"],rg.predict(train[\"X\"]))[\"RMS\"]\n",
    "\n",
    "            if error<menor:\n",
    "                menor = error\n",
    "                m = (i,j) \n",
    "                \n",
    "    print(m)\n",
    "    print(error)\n",
    "    c.append(m)\n",
    "\n",
    "print(c)\n",
    "n = c\n",
    "graph_comb(n)"
   ]
  },
  {
   "cell_type": "code",
   "execution_count": 157,
   "metadata": {},
   "outputs": [
    {
     "name": "stdout",
     "output_type": "stream",
     "text": [
      "(60, 8)\n",
      "3.085\n",
      "(100, 6)\n",
      "3.211\n",
      "(90, 9)\n",
      "3.191\n",
      "(80, 10)\n",
      "3.194\n",
      "(90, 7)\n",
      "3.027\n",
      "(80, 8)\n",
      "3.109\n",
      "(100, 9)\n",
      "3.027\n",
      "(60, 7)\n",
      "3.164\n",
      "(90, 10)\n",
      "3.207\n",
      "(100, 7)\n",
      "3.198\n",
      "(90, 5)\n",
      "3.135\n",
      "(70, 7)\n",
      "3.2\n",
      "(80, 10)\n",
      "3.066\n",
      "(100, 9)\n",
      "3.177\n",
      "(100, 7)\n",
      "3.154\n",
      "(60, 10)\n",
      "3.154\n",
      "(100, 7)\n",
      "3.143\n",
      "(100, 6)\n",
      "3.182\n",
      "(90, 5)\n",
      "3.153\n",
      "(90, 9)\n",
      "3.103\n",
      "[(60, 8), (100, 6), (90, 9), (80, 10), (90, 7), (80, 8), (100, 9), (60, 7), (90, 10), (100, 7), (90, 5), (70, 7), (80, 10), (100, 9), (100, 7), (60, 10), (100, 7), (100, 6), (90, 5), (90, 9)]\n"
     ]
    },
    {
     "data": {
      "image/png": "[encoded data removed]",
      "text/plain": [
       "<matplotlib.figure.Figure at 0x7f4b561161d0>"
      ]
     },
     "metadata": {},
     "output_type": "display_data"
    },
    {
     "name": "stdout",
     "output_type": "stream",
     "text": [
      "[array([60,  7]), array([60,  8]), array([60, 10]), array([70,  7]), array([80,  8]), array([80, 10]), array([90,  5]), array([90,  7]), array([90,  9]), array([90, 10]), array([100,   6]), array([100,   7]), array([100,   9])]\n",
      "[1, 1, 1, 1, 1, 2, 2, 1, 2, 1, 2, 3, 2]\n"
     ]
    }
   ],
   "source": [
    "# Mejor combinación Adam\n",
    "c= []\n",
    "conf = np.array([])\n",
    "rep = np.array([])\n",
    "for k in range(20):\n",
    "    menor = 1000\n",
    "    m=\"\"\n",
    "    error =1000\n",
    "    for i in range (50,110,10):\n",
    "        for j in range (1,11):\n",
    "\n",
    "            with warnings.catch_warnings(record=True) as w:\n",
    "                warnings.simplefilter(\"always\") \n",
    "                rg = MLPRegressor(hidden_layer_sizes=(i,j), max_iter= 200, activation=\"relu\",shuffle= False, solver= \"adam\",tol=0.000001)\n",
    "                rg.fit(train[\"X\"],train[\"Y\"])\n",
    "\n",
    "            if w==[]:\n",
    "                error = errores(train[\"Y\"],rg.predict(train[\"X\"]))[\"RMS\"]\n",
    "\n",
    "            if error<menor:\n",
    "                menor = error\n",
    "                m = (i,j) \n",
    "                \n",
    "    print(m)\n",
    "    print(error)\n",
    "    c.append(m)\n",
    "\n",
    "print(c)\n",
    "n = c\n",
    "graph_comb(n)"
   ]
  }
 ],
 "metadata": {
  "kernelspec": {
   "display_name": "Python 3",
   "language": "python",
   "name": "python3"
  },
  "language_info": {
   "codemirror_mode": {
    "name": "ipython",
    "version": 3
   },
   "file_extension": ".py",
   "mimetype": "text/x-python",
   "name": "python",
   "nbconvert_exporter": "python",
   "pygments_lexer": "ipython3",
   "version": "3.6.3"
  }
 },
 "nbformat": 4,
 "nbformat_minor": 2
}
